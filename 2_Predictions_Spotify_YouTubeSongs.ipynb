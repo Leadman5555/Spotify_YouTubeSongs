{
 "cells": [
  {
   "cell_type": "code",
   "id": "initial_id",
   "metadata": {
    "ExecuteTime": {
     "end_time": "2025-05-17T12:31:05.402030Z",
     "start_time": "2025-05-17T12:31:05.104424Z"
    }
   },
   "source": [
    "import os\n",
    "\n",
    "import kagglehub\n",
    "import numpy as np\n",
    "import pandas as pd\n",
    "from dataclasses import dataclass\n",
    "from torch import tensor, nn, no_grad, float32\n",
    "from torch.utils.data import TensorDataset, DataLoader\n",
    "import torch\n",
    "import copy\n",
    "from torch.utils.data import random_split\n",
    "from torch.optim import AdamW\n",
    "from torch.optim.lr_scheduler import ReduceLROnPlateau\n",
    "from scipy.stats import loguniform\n",
    "from imblearn.combine import SMOTETomek\n",
    "from imblearn.under_sampling import TomekLinks\n",
    "from matplotlib import pyplot as plt\n",
    "from sklearn.compose import ColumnTransformer\n",
    "from sklearn.ensemble import RandomForestClassifier, RandomForestRegressor, GradientBoostingRegressor, StackingRegressor\n",
    "from sklearn.impute import SimpleImputer\n",
    "from sklearn.linear_model import LogisticRegression, LinearRegression, SGDRegressor, Ridge, Lasso\n",
    "from sklearn.metrics import classification_report, accuracy_score, mean_squared_error, r2_score, make_scorer\n",
    "from sklearn.model_selection import train_test_split, KFold, StratifiedShuffleSplit, RandomizedSearchCV, GridSearchCV\n",
    "from sklearn.pipeline import Pipeline\n",
    "from sklearn.preprocessing import MinMaxScaler, PolynomialFeatures\n",
    "from sklearn.preprocessing import StandardScaler, OneHotEncoder\n",
    "from sklearn.svm import SVC\n",
    "from typing_extensions import override\n",
    "from imblearn.over_sampling import SMOTE\n",
    "from imblearn.pipeline import Pipeline as ImblearnPipeline\n",
    "\n",
    "PATH_TO_DATASET = os.path.join(kagglehub.dataset_download(\"salvatorerastelli/spotify-and-youtube\"),\n",
    "                               \"Spotify_Youtube.csv\")"
   ],
   "outputs": [
    {
     "name": "stdout",
     "output_type": "stream",
     "text": [
      "Warning: Looks like you're using an outdated `kagglehub` version, please consider updating (latest version: 0.3.12)\n"
     ]
    }
   ],
   "execution_count": 77
  },
  {
   "cell_type": "markdown",
   "id": "b6da8b7f0ee2b616",
   "metadata": {},
   "source": [
    "# Reading the dataset\n",
    "While dropping unneeded columns, similarly to the first part. Additional columns that are dropped: 'Artist'"
   ]
  },
  {
   "cell_type": "code",
   "id": "16553966669a0bd1",
   "metadata": {
    "ExecuteTime": {
     "end_time": "2025-05-17T12:31:05.844253Z",
     "start_time": "2025-05-17T12:31:05.410646Z"
    }
   },
   "source": [
    "df = pd.read_csv(PATH_TO_DATASET)\n",
    "NUMERIC_COLUMNS = ['Danceability', 'Energy', 'Key', 'Loudness', 'Speechiness', 'Acousticness', 'Instrumentalness',\n",
    "                   'Liveness', 'Valence', 'Tempo', 'Duration_ms', 'Views', 'Likes', 'Comments', 'Stream']\n",
    "CATEGORICAL_COLUMNS = ['Album_type', 'Licensed', 'official_video']\n",
    "df.drop(\n",
    "    columns=['Description', 'Url_youtube', 'Url_spotify', 'Uri', 'Title', 'Channel', 'Album', 'Track', 'Unnamed: 0', 'Artist'],\n",
    "    axis=1, inplace=True)\n",
    "df.describe()"
   ],
   "outputs": [
    {
     "data": {
      "text/plain": [
       "       Danceability        Energy           Key      Loudness   Speechiness  \\\n",
       "count  20716.000000  20716.000000  20716.000000  20716.000000  20716.000000   \n",
       "mean       0.619777      0.635250      5.300348     -7.671680      0.096456   \n",
       "std        0.165272      0.214147      3.576449      4.632749      0.111960   \n",
       "min        0.000000      0.000020      0.000000    -46.251000      0.000000   \n",
       "25%        0.518000      0.507000      2.000000     -8.858000      0.035700   \n",
       "50%        0.637000      0.666000      5.000000     -6.536000      0.050500   \n",
       "75%        0.740250      0.798000      8.000000     -4.931000      0.103000   \n",
       "max        0.975000      1.000000     11.000000      0.920000      0.964000   \n",
       "\n",
       "       Acousticness  Instrumentalness      Liveness       Valence  \\\n",
       "count  20716.000000      20716.000000  20716.000000  20716.000000   \n",
       "mean       0.291535          0.055962      0.193521      0.529853   \n",
       "std        0.286299          0.193262      0.168531      0.245441   \n",
       "min        0.000001          0.000000      0.014500      0.000000   \n",
       "25%        0.045200          0.000000      0.094100      0.339000   \n",
       "50%        0.193000          0.000002      0.125000      0.537000   \n",
       "75%        0.477250          0.000463      0.237000      0.726250   \n",
       "max        0.996000          1.000000      1.000000      0.993000   \n",
       "\n",
       "              Tempo   Duration_ms         Views         Likes      Comments  \\\n",
       "count  20716.000000  2.071600e+04  2.024800e+04  2.017700e+04  2.014900e+04   \n",
       "mean     120.638340  2.247176e+05  9.393782e+07  6.633411e+05  2.751899e+04   \n",
       "std       29.579018  1.247905e+05  2.746443e+08  1.789324e+06  1.932347e+05   \n",
       "min        0.000000  3.098500e+04  0.000000e+00  0.000000e+00  0.000000e+00   \n",
       "25%       97.002000  1.800095e+05  1.826002e+06  2.158100e+04  5.090000e+02   \n",
       "50%      119.965000  2.132845e+05  1.450110e+07  1.244810e+05  3.277000e+03   \n",
       "75%      139.935000  2.524430e+05  7.039975e+07  5.221480e+05  1.436000e+04   \n",
       "max      243.372000  4.676058e+06  8.079649e+09  5.078865e+07  1.608314e+07   \n",
       "\n",
       "             Stream  \n",
       "count  2.014200e+04  \n",
       "mean   1.359422e+08  \n",
       "std    2.441321e+08  \n",
       "min    6.574000e+03  \n",
       "25%    1.767486e+07  \n",
       "50%    4.968298e+07  \n",
       "75%    1.383581e+08  \n",
       "max    3.386520e+09  "
      ],
      "text/html": [
       "<div>\n",
       "<style scoped>\n",
       "    .dataframe tbody tr th:only-of-type {\n",
       "        vertical-align: middle;\n",
       "    }\n",
       "\n",
       "    .dataframe tbody tr th {\n",
       "        vertical-align: top;\n",
       "    }\n",
       "\n",
       "    .dataframe thead th {\n",
       "        text-align: right;\n",
       "    }\n",
       "</style>\n",
       "<table border=\"1\" class=\"dataframe\">\n",
       "  <thead>\n",
       "    <tr style=\"text-align: right;\">\n",
       "      <th></th>\n",
       "      <th>Danceability</th>\n",
       "      <th>Energy</th>\n",
       "      <th>Key</th>\n",
       "      <th>Loudness</th>\n",
       "      <th>Speechiness</th>\n",
       "      <th>Acousticness</th>\n",
       "      <th>Instrumentalness</th>\n",
       "      <th>Liveness</th>\n",
       "      <th>Valence</th>\n",
       "      <th>Tempo</th>\n",
       "      <th>Duration_ms</th>\n",
       "      <th>Views</th>\n",
       "      <th>Likes</th>\n",
       "      <th>Comments</th>\n",
       "      <th>Stream</th>\n",
       "    </tr>\n",
       "  </thead>\n",
       "  <tbody>\n",
       "    <tr>\n",
       "      <th>count</th>\n",
       "      <td>20716.000000</td>\n",
       "      <td>20716.000000</td>\n",
       "      <td>20716.000000</td>\n",
       "      <td>20716.000000</td>\n",
       "      <td>20716.000000</td>\n",
       "      <td>20716.000000</td>\n",
       "      <td>20716.000000</td>\n",
       "      <td>20716.000000</td>\n",
       "      <td>20716.000000</td>\n",
       "      <td>20716.000000</td>\n",
       "      <td>2.071600e+04</td>\n",
       "      <td>2.024800e+04</td>\n",
       "      <td>2.017700e+04</td>\n",
       "      <td>2.014900e+04</td>\n",
       "      <td>2.014200e+04</td>\n",
       "    </tr>\n",
       "    <tr>\n",
       "      <th>mean</th>\n",
       "      <td>0.619777</td>\n",
       "      <td>0.635250</td>\n",
       "      <td>5.300348</td>\n",
       "      <td>-7.671680</td>\n",
       "      <td>0.096456</td>\n",
       "      <td>0.291535</td>\n",
       "      <td>0.055962</td>\n",
       "      <td>0.193521</td>\n",
       "      <td>0.529853</td>\n",
       "      <td>120.638340</td>\n",
       "      <td>2.247176e+05</td>\n",
       "      <td>9.393782e+07</td>\n",
       "      <td>6.633411e+05</td>\n",
       "      <td>2.751899e+04</td>\n",
       "      <td>1.359422e+08</td>\n",
       "    </tr>\n",
       "    <tr>\n",
       "      <th>std</th>\n",
       "      <td>0.165272</td>\n",
       "      <td>0.214147</td>\n",
       "      <td>3.576449</td>\n",
       "      <td>4.632749</td>\n",
       "      <td>0.111960</td>\n",
       "      <td>0.286299</td>\n",
       "      <td>0.193262</td>\n",
       "      <td>0.168531</td>\n",
       "      <td>0.245441</td>\n",
       "      <td>29.579018</td>\n",
       "      <td>1.247905e+05</td>\n",
       "      <td>2.746443e+08</td>\n",
       "      <td>1.789324e+06</td>\n",
       "      <td>1.932347e+05</td>\n",
       "      <td>2.441321e+08</td>\n",
       "    </tr>\n",
       "    <tr>\n",
       "      <th>min</th>\n",
       "      <td>0.000000</td>\n",
       "      <td>0.000020</td>\n",
       "      <td>0.000000</td>\n",
       "      <td>-46.251000</td>\n",
       "      <td>0.000000</td>\n",
       "      <td>0.000001</td>\n",
       "      <td>0.000000</td>\n",
       "      <td>0.014500</td>\n",
       "      <td>0.000000</td>\n",
       "      <td>0.000000</td>\n",
       "      <td>3.098500e+04</td>\n",
       "      <td>0.000000e+00</td>\n",
       "      <td>0.000000e+00</td>\n",
       "      <td>0.000000e+00</td>\n",
       "      <td>6.574000e+03</td>\n",
       "    </tr>\n",
       "    <tr>\n",
       "      <th>25%</th>\n",
       "      <td>0.518000</td>\n",
       "      <td>0.507000</td>\n",
       "      <td>2.000000</td>\n",
       "      <td>-8.858000</td>\n",
       "      <td>0.035700</td>\n",
       "      <td>0.045200</td>\n",
       "      <td>0.000000</td>\n",
       "      <td>0.094100</td>\n",
       "      <td>0.339000</td>\n",
       "      <td>97.002000</td>\n",
       "      <td>1.800095e+05</td>\n",
       "      <td>1.826002e+06</td>\n",
       "      <td>2.158100e+04</td>\n",
       "      <td>5.090000e+02</td>\n",
       "      <td>1.767486e+07</td>\n",
       "    </tr>\n",
       "    <tr>\n",
       "      <th>50%</th>\n",
       "      <td>0.637000</td>\n",
       "      <td>0.666000</td>\n",
       "      <td>5.000000</td>\n",
       "      <td>-6.536000</td>\n",
       "      <td>0.050500</td>\n",
       "      <td>0.193000</td>\n",
       "      <td>0.000002</td>\n",
       "      <td>0.125000</td>\n",
       "      <td>0.537000</td>\n",
       "      <td>119.965000</td>\n",
       "      <td>2.132845e+05</td>\n",
       "      <td>1.450110e+07</td>\n",
       "      <td>1.244810e+05</td>\n",
       "      <td>3.277000e+03</td>\n",
       "      <td>4.968298e+07</td>\n",
       "    </tr>\n",
       "    <tr>\n",
       "      <th>75%</th>\n",
       "      <td>0.740250</td>\n",
       "      <td>0.798000</td>\n",
       "      <td>8.000000</td>\n",
       "      <td>-4.931000</td>\n",
       "      <td>0.103000</td>\n",
       "      <td>0.477250</td>\n",
       "      <td>0.000463</td>\n",
       "      <td>0.237000</td>\n",
       "      <td>0.726250</td>\n",
       "      <td>139.935000</td>\n",
       "      <td>2.524430e+05</td>\n",
       "      <td>7.039975e+07</td>\n",
       "      <td>5.221480e+05</td>\n",
       "      <td>1.436000e+04</td>\n",
       "      <td>1.383581e+08</td>\n",
       "    </tr>\n",
       "    <tr>\n",
       "      <th>max</th>\n",
       "      <td>0.975000</td>\n",
       "      <td>1.000000</td>\n",
       "      <td>11.000000</td>\n",
       "      <td>0.920000</td>\n",
       "      <td>0.964000</td>\n",
       "      <td>0.996000</td>\n",
       "      <td>1.000000</td>\n",
       "      <td>1.000000</td>\n",
       "      <td>0.993000</td>\n",
       "      <td>243.372000</td>\n",
       "      <td>4.676058e+06</td>\n",
       "      <td>8.079649e+09</td>\n",
       "      <td>5.078865e+07</td>\n",
       "      <td>1.608314e+07</td>\n",
       "      <td>3.386520e+09</td>\n",
       "    </tr>\n",
       "  </tbody>\n",
       "</table>\n",
       "</div>"
      ]
     },
     "execution_count": 78,
     "metadata": {},
     "output_type": "execute_result"
    }
   ],
   "execution_count": 78
  },
  {
   "cell_type": "markdown",
   "id": "b4197d8a295ec46a",
   "metadata": {},
   "source": [
    "### Normalizing Loudness metric\n"
   ]
  },
  {
   "cell_type": "code",
   "id": "8f5a12f9850af302",
   "metadata": {
    "ExecuteTime": {
     "end_time": "2025-05-17T12:31:06.460050Z",
     "start_time": "2025-05-17T12:31:06.421220Z"
    }
   },
   "source": [
    "df['Loudness']= MinMaxScaler(feature_range=(0, 1)).fit_transform(df[['Loudness']])\n",
    "df.describe()"
   ],
   "outputs": [
    {
     "data": {
      "text/plain": [
       "       Danceability        Energy           Key      Loudness   Speechiness  \\\n",
       "count  20716.000000  20716.000000  20716.000000  20716.000000  20716.000000   \n",
       "mean       0.619777      0.635250      5.300348      0.817861      0.096456   \n",
       "std        0.165272      0.214147      3.576449      0.098212      0.111960   \n",
       "min        0.000000      0.000020      0.000000      0.000000      0.000000   \n",
       "25%        0.518000      0.507000      2.000000      0.792712      0.035700   \n",
       "50%        0.637000      0.666000      5.000000      0.841937      0.050500   \n",
       "75%        0.740250      0.798000      8.000000      0.875962      0.103000   \n",
       "max        0.975000      1.000000     11.000000      1.000000      0.964000   \n",
       "\n",
       "       Acousticness  Instrumentalness      Liveness       Valence  \\\n",
       "count  20716.000000      20716.000000  20716.000000  20716.000000   \n",
       "mean       0.291535          0.055962      0.193521      0.529853   \n",
       "std        0.286299          0.193262      0.168531      0.245441   \n",
       "min        0.000001          0.000000      0.014500      0.000000   \n",
       "25%        0.045200          0.000000      0.094100      0.339000   \n",
       "50%        0.193000          0.000002      0.125000      0.537000   \n",
       "75%        0.477250          0.000463      0.237000      0.726250   \n",
       "max        0.996000          1.000000      1.000000      0.993000   \n",
       "\n",
       "              Tempo   Duration_ms         Views         Likes      Comments  \\\n",
       "count  20716.000000  2.071600e+04  2.024800e+04  2.017700e+04  2.014900e+04   \n",
       "mean     120.638340  2.247176e+05  9.393782e+07  6.633411e+05  2.751899e+04   \n",
       "std       29.579018  1.247905e+05  2.746443e+08  1.789324e+06  1.932347e+05   \n",
       "min        0.000000  3.098500e+04  0.000000e+00  0.000000e+00  0.000000e+00   \n",
       "25%       97.002000  1.800095e+05  1.826002e+06  2.158100e+04  5.090000e+02   \n",
       "50%      119.965000  2.132845e+05  1.450110e+07  1.244810e+05  3.277000e+03   \n",
       "75%      139.935000  2.524430e+05  7.039975e+07  5.221480e+05  1.436000e+04   \n",
       "max      243.372000  4.676058e+06  8.079649e+09  5.078865e+07  1.608314e+07   \n",
       "\n",
       "             Stream  \n",
       "count  2.014200e+04  \n",
       "mean   1.359422e+08  \n",
       "std    2.441321e+08  \n",
       "min    6.574000e+03  \n",
       "25%    1.767486e+07  \n",
       "50%    4.968298e+07  \n",
       "75%    1.383581e+08  \n",
       "max    3.386520e+09  "
      ],
      "text/html": [
       "<div>\n",
       "<style scoped>\n",
       "    .dataframe tbody tr th:only-of-type {\n",
       "        vertical-align: middle;\n",
       "    }\n",
       "\n",
       "    .dataframe tbody tr th {\n",
       "        vertical-align: top;\n",
       "    }\n",
       "\n",
       "    .dataframe thead th {\n",
       "        text-align: right;\n",
       "    }\n",
       "</style>\n",
       "<table border=\"1\" class=\"dataframe\">\n",
       "  <thead>\n",
       "    <tr style=\"text-align: right;\">\n",
       "      <th></th>\n",
       "      <th>Danceability</th>\n",
       "      <th>Energy</th>\n",
       "      <th>Key</th>\n",
       "      <th>Loudness</th>\n",
       "      <th>Speechiness</th>\n",
       "      <th>Acousticness</th>\n",
       "      <th>Instrumentalness</th>\n",
       "      <th>Liveness</th>\n",
       "      <th>Valence</th>\n",
       "      <th>Tempo</th>\n",
       "      <th>Duration_ms</th>\n",
       "      <th>Views</th>\n",
       "      <th>Likes</th>\n",
       "      <th>Comments</th>\n",
       "      <th>Stream</th>\n",
       "    </tr>\n",
       "  </thead>\n",
       "  <tbody>\n",
       "    <tr>\n",
       "      <th>count</th>\n",
       "      <td>20716.000000</td>\n",
       "      <td>20716.000000</td>\n",
       "      <td>20716.000000</td>\n",
       "      <td>20716.000000</td>\n",
       "      <td>20716.000000</td>\n",
       "      <td>20716.000000</td>\n",
       "      <td>20716.000000</td>\n",
       "      <td>20716.000000</td>\n",
       "      <td>20716.000000</td>\n",
       "      <td>20716.000000</td>\n",
       "      <td>2.071600e+04</td>\n",
       "      <td>2.024800e+04</td>\n",
       "      <td>2.017700e+04</td>\n",
       "      <td>2.014900e+04</td>\n",
       "      <td>2.014200e+04</td>\n",
       "    </tr>\n",
       "    <tr>\n",
       "      <th>mean</th>\n",
       "      <td>0.619777</td>\n",
       "      <td>0.635250</td>\n",
       "      <td>5.300348</td>\n",
       "      <td>0.817861</td>\n",
       "      <td>0.096456</td>\n",
       "      <td>0.291535</td>\n",
       "      <td>0.055962</td>\n",
       "      <td>0.193521</td>\n",
       "      <td>0.529853</td>\n",
       "      <td>120.638340</td>\n",
       "      <td>2.247176e+05</td>\n",
       "      <td>9.393782e+07</td>\n",
       "      <td>6.633411e+05</td>\n",
       "      <td>2.751899e+04</td>\n",
       "      <td>1.359422e+08</td>\n",
       "    </tr>\n",
       "    <tr>\n",
       "      <th>std</th>\n",
       "      <td>0.165272</td>\n",
       "      <td>0.214147</td>\n",
       "      <td>3.576449</td>\n",
       "      <td>0.098212</td>\n",
       "      <td>0.111960</td>\n",
       "      <td>0.286299</td>\n",
       "      <td>0.193262</td>\n",
       "      <td>0.168531</td>\n",
       "      <td>0.245441</td>\n",
       "      <td>29.579018</td>\n",
       "      <td>1.247905e+05</td>\n",
       "      <td>2.746443e+08</td>\n",
       "      <td>1.789324e+06</td>\n",
       "      <td>1.932347e+05</td>\n",
       "      <td>2.441321e+08</td>\n",
       "    </tr>\n",
       "    <tr>\n",
       "      <th>min</th>\n",
       "      <td>0.000000</td>\n",
       "      <td>0.000020</td>\n",
       "      <td>0.000000</td>\n",
       "      <td>0.000000</td>\n",
       "      <td>0.000000</td>\n",
       "      <td>0.000001</td>\n",
       "      <td>0.000000</td>\n",
       "      <td>0.014500</td>\n",
       "      <td>0.000000</td>\n",
       "      <td>0.000000</td>\n",
       "      <td>3.098500e+04</td>\n",
       "      <td>0.000000e+00</td>\n",
       "      <td>0.000000e+00</td>\n",
       "      <td>0.000000e+00</td>\n",
       "      <td>6.574000e+03</td>\n",
       "    </tr>\n",
       "    <tr>\n",
       "      <th>25%</th>\n",
       "      <td>0.518000</td>\n",
       "      <td>0.507000</td>\n",
       "      <td>2.000000</td>\n",
       "      <td>0.792712</td>\n",
       "      <td>0.035700</td>\n",
       "      <td>0.045200</td>\n",
       "      <td>0.000000</td>\n",
       "      <td>0.094100</td>\n",
       "      <td>0.339000</td>\n",
       "      <td>97.002000</td>\n",
       "      <td>1.800095e+05</td>\n",
       "      <td>1.826002e+06</td>\n",
       "      <td>2.158100e+04</td>\n",
       "      <td>5.090000e+02</td>\n",
       "      <td>1.767486e+07</td>\n",
       "    </tr>\n",
       "    <tr>\n",
       "      <th>50%</th>\n",
       "      <td>0.637000</td>\n",
       "      <td>0.666000</td>\n",
       "      <td>5.000000</td>\n",
       "      <td>0.841937</td>\n",
       "      <td>0.050500</td>\n",
       "      <td>0.193000</td>\n",
       "      <td>0.000002</td>\n",
       "      <td>0.125000</td>\n",
       "      <td>0.537000</td>\n",
       "      <td>119.965000</td>\n",
       "      <td>2.132845e+05</td>\n",
       "      <td>1.450110e+07</td>\n",
       "      <td>1.244810e+05</td>\n",
       "      <td>3.277000e+03</td>\n",
       "      <td>4.968298e+07</td>\n",
       "    </tr>\n",
       "    <tr>\n",
       "      <th>75%</th>\n",
       "      <td>0.740250</td>\n",
       "      <td>0.798000</td>\n",
       "      <td>8.000000</td>\n",
       "      <td>0.875962</td>\n",
       "      <td>0.103000</td>\n",
       "      <td>0.477250</td>\n",
       "      <td>0.000463</td>\n",
       "      <td>0.237000</td>\n",
       "      <td>0.726250</td>\n",
       "      <td>139.935000</td>\n",
       "      <td>2.524430e+05</td>\n",
       "      <td>7.039975e+07</td>\n",
       "      <td>5.221480e+05</td>\n",
       "      <td>1.436000e+04</td>\n",
       "      <td>1.383581e+08</td>\n",
       "    </tr>\n",
       "    <tr>\n",
       "      <th>max</th>\n",
       "      <td>0.975000</td>\n",
       "      <td>1.000000</td>\n",
       "      <td>11.000000</td>\n",
       "      <td>1.000000</td>\n",
       "      <td>0.964000</td>\n",
       "      <td>0.996000</td>\n",
       "      <td>1.000000</td>\n",
       "      <td>1.000000</td>\n",
       "      <td>0.993000</td>\n",
       "      <td>243.372000</td>\n",
       "      <td>4.676058e+06</td>\n",
       "      <td>8.079649e+09</td>\n",
       "      <td>5.078865e+07</td>\n",
       "      <td>1.608314e+07</td>\n",
       "      <td>3.386520e+09</td>\n",
       "    </tr>\n",
       "  </tbody>\n",
       "</table>\n",
       "</div>"
      ]
     },
     "execution_count": 79,
     "metadata": {},
     "output_type": "execute_result"
    }
   ],
   "execution_count": 79
  },
  {
   "cell_type": "markdown",
   "id": "406fde1dcefc29a4",
   "metadata": {},
   "source": [
    "### Scaling the overly spread metrics: Likes, Views, Comments and Streams\n",
    "In contrast to the first part, the values will be scaled using a logarithmic scale instead of the outliers being capped, with the bottom 3% being dropped completely (songs with a dismal amount of attention)."
   ]
  },
  {
   "cell_type": "code",
   "id": "346d5b188cee584f",
   "metadata": {
    "ExecuteTime": {
     "end_time": "2025-05-17T12:31:06.531803Z",
     "start_time": "2025-05-17T12:31:06.516058Z"
    }
   },
   "source": [
    "display(\"Size before dropping outliers: \", df.shape)\n",
    "thresholds = {column_name: df[column_name].quantile(0.03) for column_name in ['Views', 'Likes', 'Comments', 'Stream']}\n",
    "mask = df[list(thresholds.keys())].gt(pd.Series(thresholds)).all(axis=1)\n",
    "df = df[mask]\n",
    "display(\"Size after dropping outliers: \", df.shape)"
   ],
   "outputs": [
    {
     "data": {
      "text/plain": [
       "'Size before dropping outliers: '"
      ]
     },
     "metadata": {},
     "output_type": "display_data"
    },
    {
     "data": {
      "text/plain": [
       "(20718, 18)"
      ]
     },
     "metadata": {},
     "output_type": "display_data"
    },
    {
     "data": {
      "text/plain": [
       "'Size after dropping outliers: '"
      ]
     },
     "metadata": {},
     "output_type": "display_data"
    },
    {
     "data": {
      "text/plain": [
       "(18187, 18)"
      ]
     },
     "metadata": {},
     "output_type": "display_data"
    }
   ],
   "execution_count": 80
  },
  {
   "cell_type": "code",
   "id": "cb6e1ee6f15c3251",
   "metadata": {
    "ExecuteTime": {
     "end_time": "2025-05-17T12:31:06.670247Z",
     "start_time": "2025-05-17T12:31:06.632147Z"
    }
   },
   "source": [
    "df.loc[:, 'Views'] = np.log10(df['Views'])\n",
    "df.loc[:, 'Likes'] = np.log10(df['Likes'])\n",
    "df.loc[:, 'Comments'] = np.log10(df['Comments'])\n",
    "df.loc[:, 'Stream'] = np.log10(df['Stream'])\n",
    "df.describe()"
   ],
   "outputs": [
    {
     "data": {
      "text/plain": [
       "       Danceability        Energy           Key      Loudness   Speechiness  \\\n",
       "count  18186.000000  18186.000000  18186.000000  18186.000000  18186.000000   \n",
       "mean       0.624021      0.640492      5.308644      0.823122      0.092491   \n",
       "std        0.162479      0.207076      3.575914      0.089913      0.094687   \n",
       "min        0.000000      0.001250      0.000000      0.091560      0.000000   \n",
       "25%        0.522000      0.517000      2.000000      0.798075      0.035500   \n",
       "50%        0.640000      0.668000      5.000000      0.843665      0.050600   \n",
       "75%        0.743000      0.797000      8.000000      0.876768      0.103000   \n",
       "max        0.975000      1.000000     11.000000      1.000000      0.944000   \n",
       "\n",
       "       Acousticness  Instrumentalness      Liveness       Valence  \\\n",
       "count  18186.000000      18186.000000  18186.000000  18186.000000   \n",
       "mean       0.282504          0.049100      0.190521      0.532134   \n",
       "std        0.279682          0.180283      0.164621      0.242895   \n",
       "min        0.000002          0.000000      0.014500      0.000000   \n",
       "25%        0.043700          0.000000      0.094000      0.343000   \n",
       "50%        0.186000          0.000002      0.125000      0.538000   \n",
       "75%        0.458000          0.000342      0.232000      0.728000   \n",
       "max        0.996000          1.000000      1.000000      0.993000   \n",
       "\n",
       "              Tempo   Duration_ms         Views         Likes      Comments  \\\n",
       "count  18186.000000  1.818600e+04  18187.000000  18187.000000  18187.000000   \n",
       "mean     120.834939  2.260323e+05      7.139007      5.100764      3.531662   \n",
       "std       29.389313  1.240275e+05      1.030558      0.931282      0.984654   \n",
       "min        0.000000  3.500000e+04      4.260167      2.413300      0.477121   \n",
       "25%       97.028000  1.819910e+05      6.465060      4.519001      2.924796   \n",
       "50%      119.973000  2.144520e+05      7.255736      5.183307      3.609594   \n",
       "75%      139.969000  2.527330e+05      7.893353      5.760114      4.209917   \n",
       "max      243.372000  4.581483e+06      9.907393      7.705767      7.206371   \n",
       "\n",
       "             Stream  \n",
       "count  18187.000000  \n",
       "mean       7.743577  \n",
       "std        0.623354  \n",
       "min        6.189394  \n",
       "25%        7.319701  \n",
       "50%        7.743738  \n",
       "75%        8.172799  \n",
       "max        9.529754  "
      ],
      "text/html": [
       "<div>\n",
       "<style scoped>\n",
       "    .dataframe tbody tr th:only-of-type {\n",
       "        vertical-align: middle;\n",
       "    }\n",
       "\n",
       "    .dataframe tbody tr th {\n",
       "        vertical-align: top;\n",
       "    }\n",
       "\n",
       "    .dataframe thead th {\n",
       "        text-align: right;\n",
       "    }\n",
       "</style>\n",
       "<table border=\"1\" class=\"dataframe\">\n",
       "  <thead>\n",
       "    <tr style=\"text-align: right;\">\n",
       "      <th></th>\n",
       "      <th>Danceability</th>\n",
       "      <th>Energy</th>\n",
       "      <th>Key</th>\n",
       "      <th>Loudness</th>\n",
       "      <th>Speechiness</th>\n",
       "      <th>Acousticness</th>\n",
       "      <th>Instrumentalness</th>\n",
       "      <th>Liveness</th>\n",
       "      <th>Valence</th>\n",
       "      <th>Tempo</th>\n",
       "      <th>Duration_ms</th>\n",
       "      <th>Views</th>\n",
       "      <th>Likes</th>\n",
       "      <th>Comments</th>\n",
       "      <th>Stream</th>\n",
       "    </tr>\n",
       "  </thead>\n",
       "  <tbody>\n",
       "    <tr>\n",
       "      <th>count</th>\n",
       "      <td>18186.000000</td>\n",
       "      <td>18186.000000</td>\n",
       "      <td>18186.000000</td>\n",
       "      <td>18186.000000</td>\n",
       "      <td>18186.000000</td>\n",
       "      <td>18186.000000</td>\n",
       "      <td>18186.000000</td>\n",
       "      <td>18186.000000</td>\n",
       "      <td>18186.000000</td>\n",
       "      <td>18186.000000</td>\n",
       "      <td>1.818600e+04</td>\n",
       "      <td>18187.000000</td>\n",
       "      <td>18187.000000</td>\n",
       "      <td>18187.000000</td>\n",
       "      <td>18187.000000</td>\n",
       "    </tr>\n",
       "    <tr>\n",
       "      <th>mean</th>\n",
       "      <td>0.624021</td>\n",
       "      <td>0.640492</td>\n",
       "      <td>5.308644</td>\n",
       "      <td>0.823122</td>\n",
       "      <td>0.092491</td>\n",
       "      <td>0.282504</td>\n",
       "      <td>0.049100</td>\n",
       "      <td>0.190521</td>\n",
       "      <td>0.532134</td>\n",
       "      <td>120.834939</td>\n",
       "      <td>2.260323e+05</td>\n",
       "      <td>7.139007</td>\n",
       "      <td>5.100764</td>\n",
       "      <td>3.531662</td>\n",
       "      <td>7.743577</td>\n",
       "    </tr>\n",
       "    <tr>\n",
       "      <th>std</th>\n",
       "      <td>0.162479</td>\n",
       "      <td>0.207076</td>\n",
       "      <td>3.575914</td>\n",
       "      <td>0.089913</td>\n",
       "      <td>0.094687</td>\n",
       "      <td>0.279682</td>\n",
       "      <td>0.180283</td>\n",
       "      <td>0.164621</td>\n",
       "      <td>0.242895</td>\n",
       "      <td>29.389313</td>\n",
       "      <td>1.240275e+05</td>\n",
       "      <td>1.030558</td>\n",
       "      <td>0.931282</td>\n",
       "      <td>0.984654</td>\n",
       "      <td>0.623354</td>\n",
       "    </tr>\n",
       "    <tr>\n",
       "      <th>min</th>\n",
       "      <td>0.000000</td>\n",
       "      <td>0.001250</td>\n",
       "      <td>0.000000</td>\n",
       "      <td>0.091560</td>\n",
       "      <td>0.000000</td>\n",
       "      <td>0.000002</td>\n",
       "      <td>0.000000</td>\n",
       "      <td>0.014500</td>\n",
       "      <td>0.000000</td>\n",
       "      <td>0.000000</td>\n",
       "      <td>3.500000e+04</td>\n",
       "      <td>4.260167</td>\n",
       "      <td>2.413300</td>\n",
       "      <td>0.477121</td>\n",
       "      <td>6.189394</td>\n",
       "    </tr>\n",
       "    <tr>\n",
       "      <th>25%</th>\n",
       "      <td>0.522000</td>\n",
       "      <td>0.517000</td>\n",
       "      <td>2.000000</td>\n",
       "      <td>0.798075</td>\n",
       "      <td>0.035500</td>\n",
       "      <td>0.043700</td>\n",
       "      <td>0.000000</td>\n",
       "      <td>0.094000</td>\n",
       "      <td>0.343000</td>\n",
       "      <td>97.028000</td>\n",
       "      <td>1.819910e+05</td>\n",
       "      <td>6.465060</td>\n",
       "      <td>4.519001</td>\n",
       "      <td>2.924796</td>\n",
       "      <td>7.319701</td>\n",
       "    </tr>\n",
       "    <tr>\n",
       "      <th>50%</th>\n",
       "      <td>0.640000</td>\n",
       "      <td>0.668000</td>\n",
       "      <td>5.000000</td>\n",
       "      <td>0.843665</td>\n",
       "      <td>0.050600</td>\n",
       "      <td>0.186000</td>\n",
       "      <td>0.000002</td>\n",
       "      <td>0.125000</td>\n",
       "      <td>0.538000</td>\n",
       "      <td>119.973000</td>\n",
       "      <td>2.144520e+05</td>\n",
       "      <td>7.255736</td>\n",
       "      <td>5.183307</td>\n",
       "      <td>3.609594</td>\n",
       "      <td>7.743738</td>\n",
       "    </tr>\n",
       "    <tr>\n",
       "      <th>75%</th>\n",
       "      <td>0.743000</td>\n",
       "      <td>0.797000</td>\n",
       "      <td>8.000000</td>\n",
       "      <td>0.876768</td>\n",
       "      <td>0.103000</td>\n",
       "      <td>0.458000</td>\n",
       "      <td>0.000342</td>\n",
       "      <td>0.232000</td>\n",
       "      <td>0.728000</td>\n",
       "      <td>139.969000</td>\n",
       "      <td>2.527330e+05</td>\n",
       "      <td>7.893353</td>\n",
       "      <td>5.760114</td>\n",
       "      <td>4.209917</td>\n",
       "      <td>8.172799</td>\n",
       "    </tr>\n",
       "    <tr>\n",
       "      <th>max</th>\n",
       "      <td>0.975000</td>\n",
       "      <td>1.000000</td>\n",
       "      <td>11.000000</td>\n",
       "      <td>1.000000</td>\n",
       "      <td>0.944000</td>\n",
       "      <td>0.996000</td>\n",
       "      <td>1.000000</td>\n",
       "      <td>1.000000</td>\n",
       "      <td>0.993000</td>\n",
       "      <td>243.372000</td>\n",
       "      <td>4.581483e+06</td>\n",
       "      <td>9.907393</td>\n",
       "      <td>7.705767</td>\n",
       "      <td>7.206371</td>\n",
       "      <td>9.529754</td>\n",
       "    </tr>\n",
       "  </tbody>\n",
       "</table>\n",
       "</div>"
      ]
     },
     "execution_count": 81,
     "metadata": {},
     "output_type": "execute_result"
    }
   ],
   "execution_count": 81
  },
  {
   "cell_type": "markdown",
   "id": "77e9b227561b99f6",
   "metadata": {},
   "source": [
    "### Reducing the skew of the data\n",
    "\n",
    "#### Goal: |Skewness| < 2.0\n",
    "Columns 'Intrumentalness', 'Loudness', 'Liveness' and 'Speechiness' have a highly skewed distribution that will affect the machine learning models.\n",
    "Column describing the duration of the song has a skewness of over 24 – with approximately the top 1% amounting to all the skew.\n",
    "Histograms displaying the skew below."
   ]
  },
  {
   "cell_type": "code",
   "id": "fe8c2ecb614a102c",
   "metadata": {
    "ExecuteTime": {
     "end_time": "2025-05-17T12:31:07.456173Z",
     "start_time": "2025-05-17T12:31:06.803929Z"
    }
   },
   "source": [
    "for column in ['Instrumentalness', 'Liveness', 'Speechiness', 'Loudness', 'Duration_ms']:\n",
    "    plt.hist(df[column], bins=60, color='blue', edgecolor='black')\n",
    "    plt.title(f'{column} - Skewness: {str(round(df[column].skew(), 2))}')\n",
    "    plt.plot()\n",
    "    plt.show()\n",
    "    plt.close()"
   ],
   "outputs": [
    {
     "data": {
      "text/plain": [
       "<Figure size 640x480 with 1 Axes>"
      ],
      "image/png": "[encoded data removed]"
     },
     "metadata": {},
     "output_type": "display_data"
    },
    {
     "data": {
      "text/plain": [
       "<Figure size 640x480 with 1 Axes>"
      ],
      "image/png": "[encoded data removed]"
     },
     "metadata": {},
     "output_type": "display_data"
    },
    {
     "data": {
      "text/plain": [
       "<Figure size 640x480 with 1 Axes>"
      ],
      "image/png": "[encoded data removed]"
     },
     "metadata": {},
     "output_type": "display_data"
    },
    {
     "data": {
      "text/plain": [
       "<Figure size 640x480 with 1 Axes>"
      ],
      "image/png": "[encoded data removed]"
     },
     "metadata": {},
     "output_type": "display_data"
    },
    {
     "data": {
      "text/plain": [
       "<Figure size 640x480 with 1 Axes>"
      ],
      "image/png": "[encoded data removed]"
     },
     "metadata": {},
     "output_type": "display_data"
    }
   ],
   "execution_count": 82
  },
  {
   "cell_type": "markdown",
   "id": "5695d16c7cca41a",
   "metadata": {},
   "source": [
    "### Redefining the 'Instrumentalness' metric\n",
    "The value of the metric is either extremely close to zero or, with a tiny number of songs, close to one. As such, it will be replaced with a binary variable.\n",
    "- Value < 0.1 → False\n",
    "- Value >= 0.1 → True\n",
    "\n",
    "\n",
    "New metric name: `IsInstrumental`"
   ]
  },
  {
   "cell_type": "code",
   "id": "286c9750aac2d3ff",
   "metadata": {
    "ExecuteTime": {
     "end_time": "2025-05-17T12:31:07.493330Z",
     "start_time": "2025-05-17T12:31:07.479913Z"
    }
   },
   "source": [
    "df['Instrumentalness']=  df['Instrumentalness'].apply(lambda x: True if x is not None and x >= 0.1 else False)\n",
    "display(df['Instrumentalness'].isnull().sum())\n",
    "print(df['Instrumentalness'].value_counts())\n",
    "print(df['Instrumentalness'])\n",
    "NUMERIC_COLUMNS.remove('Instrumentalness')\n",
    "CATEGORICAL_COLUMNS.append('Instrumentalness')"
   ],
   "outputs": [
    {
     "data": {
      "text/plain": [
       "np.int64(0)"
      ]
     },
     "metadata": {},
     "output_type": "display_data"
    },
    {
     "name": "stdout",
     "output_type": "stream",
     "text": [
      "Instrumentalness\n",
      "False    16726\n",
      "True      1461\n",
      "Name: count, dtype: int64\n",
      "0        False\n",
      "1        False\n",
      "2        False\n",
      "3         True\n",
      "4        False\n",
      "         ...  \n",
      "20694    False\n",
      "20695    False\n",
      "20696    False\n",
      "20697    False\n",
      "20698    False\n",
      "Name: Instrumentalness, Length: 18187, dtype: bool\n"
     ]
    }
   ],
   "execution_count": 83
  },
  {
   "cell_type": "markdown",
   "id": "6af835752b5e437e",
   "metadata": {},
   "source": [
    "### Reducing the right (positive) skews for 'Liveness', 'Speechiness'\n",
    "Using Square Root Transformation since the data is not extremely skewed."
   ]
  },
  {
   "cell_type": "code",
   "id": "bbab5a0cd4fec940",
   "metadata": {
    "ExecuteTime": {
     "end_time": "2025-05-17T12:31:07.960316Z",
     "start_time": "2025-05-17T12:31:07.526084Z"
    }
   },
   "source": [
    "for column in ['Liveness', 'Speechiness']:\n",
    "    df[column] = np.sqrt(df[column])\n",
    "    plt.hist(df[column], bins=60, color='blue', edgecolor='black')\n",
    "    plt.title(f'{column} - Skewness: {str(round(df[column].skew(), 2))}')\n",
    "    plt.plot()\n",
    "    plt.show()\n",
    "    plt.close()"
   ],
   "outputs": [
    {
     "data": {
      "text/plain": [
       "<Figure size 640x480 with 1 Axes>"
      ],
      "image/png": "[encoded data removed]"
     },
     "metadata": {},
     "output_type": "display_data"
    },
    {
     "name": "stderr",
     "output_type": "stream",
     "text": [
      "\n",
      "KeyboardInterrupt\n",
      "\n"
     ]
    }
   ],
   "execution_count": 84
  },
  {
   "cell_type": "markdown",
   "id": "ce0eba7548205db7",
   "metadata": {},
   "source": [
    "##### Capping the top outliers for duration\n",
    "Value `0.987` was chosen to provide the best compromise between reducing the skew and retaining the data distribution."
   ]
  },
  {
   "cell_type": "code",
   "id": "45121aa7cdd8d0a2",
   "metadata": {
    "ExecuteTime": {
     "end_time": "2025-05-17T12:31:07.967812600Z",
     "start_time": "2025-05-17T12:08:18.353290Z"
    }
   },
   "source": [
    "threshold = df['Duration_ms'].quantile(0.987)\n",
    "df['Duration_ms'] = df['Duration_ms'].clip(upper=threshold)\n",
    "plt.hist(df['Duration_ms'], bins=60, color='blue', edgecolor='black')\n",
    "plt.title(f'Duration_ms - Skewness: {str(round(df['Duration_ms'].skew(), 2))}')\n",
    "plt.plot()\n",
    "plt.show()\n",
    "plt.close()"
   ],
   "outputs": [
    {
     "data": {
      "text/plain": [
       "<Figure size 640x480 with 1 Axes>"
      ],
      "image/png": "[encoded data removed]"
     },
     "metadata": {},
     "output_type": "display_data"
    }
   ],
   "execution_count": 10
  },
  {
   "cell_type": "markdown",
   "id": "697f4977a95fe55f",
   "metadata": {},
   "source": [
    "### Reducing the left (negative) skews for 'Loudness'\n",
    "Using lower Winsorization to limit the close to zero values. `0.013` chosen to reduce the skew under 2.0 without capping too many values."
   ]
  },
  {
   "cell_type": "code",
   "id": "f5b0010e1cc7b536",
   "metadata": {
    "ExecuteTime": {
     "end_time": "2025-05-17T12:31:07.971385500Z",
     "start_time": "2025-05-17T12:08:18.462914Z"
    }
   },
   "source": [
    "plt.hist(df['Loudness'], bins=60, color='blue', edgecolor='black')\n",
    "plt.title(f'Previous: Loudness - Skewness: {str(round(df['Loudness'].skew(), 2))}')\n",
    "plt.plot()\n",
    "plt.show()\n",
    "plt.close()\n",
    "df['Loudness'] = df['Loudness'].clip(lower=df['Loudness'].quantile(0.013))\n",
    "plt.hist(df['Loudness'], bins=60, color='blue', edgecolor='black')\n",
    "plt.title(f'Current Loudness - Skewness: {str(round(df['Loudness'].skew(), 2))}')\n",
    "plt.plot()\n",
    "plt.show()\n",
    "plt.close()"
   ],
   "outputs": [
    {
     "data": {
      "text/plain": [
       "<Figure size 640x480 with 1 Axes>"
      ],
      "image/png": "[encoded data removed]"
     },
     "metadata": {},
     "output_type": "display_data"
    },
    {
     "data": {
      "text/plain": [
       "<Figure size 640x480 with 1 Axes>"
      ],
      "image/png": "[encoded data removed]"
     },
     "metadata": {},
     "output_type": "display_data"
    }
   ],
   "execution_count": 11
  },
  {
   "cell_type": "markdown",
   "id": "86d3ad62a0834357",
   "metadata": {},
   "source": [
    "# Creating the pipelines\n",
    "\n",
    "### Predicting the song's instrumentallness"
   ]
  },
  {
   "cell_type": "code",
   "id": "76b5d66d1fefff5c",
   "metadata": {
    "ExecuteTime": {
     "end_time": "2025-05-17T12:31:07.971796300Z",
     "start_time": "2025-05-17T12:08:18.674370Z"
    }
   },
   "source": [
    "target = 'Instrumentalness'\n",
    "X = df.drop(columns=[target], axis=1)\n",
    "y = df[target]\n",
    "NEW_CATEGORICAL_COLUMNS = CATEGORICAL_COLUMNS.copy()\n",
    "NEW_CATEGORICAL_COLUMNS.remove(target)"
   ],
   "outputs": [],
   "execution_count": 12
  },
  {
   "cell_type": "markdown",
   "id": "413f90211ae13478",
   "metadata": {},
   "source": [
    "#### Create preprocessing pipelines\n"
   ]
  },
  {
   "cell_type": "code",
   "id": "ad474ed25ab7c199",
   "metadata": {
    "ExecuteTime": {
     "end_time": "2025-05-17T12:31:07.974603200Z",
     "start_time": "2025-05-17T12:08:18.717148Z"
    }
   },
   "source": [
    "numeric_pipeline = Pipeline(steps=[\n",
    "    ('imputer', SimpleImputer(strategy='median')),\n",
    "    ('scaler', StandardScaler())\n",
    "])\n",
    "categorical_pipeline = Pipeline(steps=[\n",
    "    ('imputer', SimpleImputer(strategy='most_frequent')),\n",
    "    ('onehot', OneHotEncoder(handle_unknown='ignore'))\n",
    "])"
   ],
   "outputs": [],
   "execution_count": 13
  },
  {
   "cell_type": "code",
   "id": "9643121c90da8d61",
   "metadata": {
    "ExecuteTime": {
     "end_time": "2025-05-17T12:31:07.974603200Z",
     "start_time": "2025-05-17T12:08:18.744141Z"
    }
   },
   "source": [
    "preprocessor = ColumnTransformer(\n",
    "    transformers=[\n",
    "        ('numeric', numeric_pipeline, NUMERIC_COLUMNS),\n",
    "        ('categorical', categorical_pipeline, NEW_CATEGORICAL_COLUMNS),\n",
    "    ]\n",
    ")"
   ],
   "outputs": [],
   "execution_count": 14
  },
  {
   "cell_type": "markdown",
   "id": "fa702afbf0a2dab5",
   "metadata": {},
   "source": [
    "#### Define the model pipeline"
   ]
  },
  {
   "cell_type": "code",
   "id": "172537f317c31bac",
   "metadata": {
    "ExecuteTime": {
     "end_time": "2025-05-17T12:31:07.974603200Z",
     "start_time": "2025-05-17T12:08:18.757605Z"
    }
   },
   "source": [
    "model_pipelines: dict[str, Pipeline] = {}\n",
    "\n",
    "def add_model_pipeline(classifier, name: str):\n",
    "    model_pipelines[name] = Pipeline(steps=[\n",
    "        ('preprocessor', preprocessor),\n",
    "        ('classifier', classifier)\n",
    "    ])"
   ],
   "outputs": [],
   "execution_count": 15
  },
  {
   "cell_type": "code",
   "id": "98f15fe7f7557175",
   "metadata": {
    "ExecuteTime": {
     "end_time": "2025-05-17T12:31:07.974603200Z",
     "start_time": "2025-05-17T12:08:18.779882Z"
    }
   },
   "source": [
    "add_model_pipeline(LogisticRegression(max_iter=1000), 'logReg')\n",
    "add_model_pipeline(RandomForestClassifier(random_state=42), 'rfc')\n",
    "add_model_pipeline(SVC(), 'svc')"
   ],
   "outputs": [],
   "execution_count": 16
  },
  {
   "cell_type": "code",
   "id": "e391d58907540d15",
   "metadata": {
    "ExecuteTime": {
     "end_time": "2025-05-17T12:31:07.974603200Z",
     "start_time": "2025-05-17T12:08:18.847327Z"
    }
   },
   "source": [
    "X_train, X_test, y_train, y_test = train_test_split(X, y, test_size=0.2, random_state=42)"
   ],
   "outputs": [],
   "execution_count": 17
  },
  {
   "cell_type": "markdown",
   "id": "c1641b89e822f16b",
   "metadata": {},
   "source": [
    "#### Train the model"
   ]
  },
  {
   "cell_type": "code",
   "id": "bc48f82e7c146e36",
   "metadata": {
    "ExecuteTime": {
     "end_time": "2025-05-17T12:31:07.974603200Z",
     "start_time": "2025-05-17T09:16:10.016086Z"
    }
   },
   "source": [
    "for pipeline in model_pipelines.values():\n",
    "    pipeline.fit(X_train, y_train)"
   ],
   "outputs": [],
   "execution_count": 18
  },
  {
   "cell_type": "markdown",
   "id": "b795987b6af6b7c3",
   "metadata": {},
   "source": [
    "#### Training set results\n"
   ]
  },
  {
   "cell_type": "code",
   "id": "4eb8664f6519d128",
   "metadata": {
    "ExecuteTime": {
     "end_time": "2025-05-17T12:31:07.974603200Z",
     "start_time": "2025-05-17T09:16:16.976614Z"
    }
   },
   "source": [
    "for pipeline_name, pipeline in model_pipelines.items():\n",
    "    print(f\"Model: {pipeline_name}\")\n",
    "    y_pred = pipeline.predict(X_train)\n",
    "    print(\"Accuracy:\", accuracy_score(y_train, y_pred))\n",
    "    print(\"Classification Report:\\n\", classification_report(y_train, y_pred))"
   ],
   "outputs": [
    {
     "name": "stdout",
     "output_type": "stream",
     "text": [
      "Model: logReg\n",
      "Accuracy: 0.9402020757440374\n",
      "Classification Report:\n",
      "               precision    recall  f1-score   support\n",
      "\n",
      "       False       0.94      0.99      0.97     13393\n",
      "        True       0.81      0.32      0.46      1156\n",
      "\n",
      "    accuracy                           0.94     14549\n",
      "   macro avg       0.88      0.66      0.71     14549\n",
      "weighted avg       0.93      0.94      0.93     14549\n",
      "\n",
      "Model: rfc\n",
      "Accuracy: 1.0\n",
      "Classification Report:\n",
      "               precision    recall  f1-score   support\n",
      "\n",
      "       False       1.00      1.00      1.00     13393\n",
      "        True       1.00      1.00      1.00      1156\n",
      "\n",
      "    accuracy                           1.00     14549\n",
      "   macro avg       1.00      1.00      1.00     14549\n",
      "weighted avg       1.00      1.00      1.00     14549\n",
      "\n",
      "Model: svc\n",
      "Accuracy: 0.9430201388411574\n",
      "Classification Report:\n",
      "               precision    recall  f1-score   support\n",
      "\n",
      "       False       0.94      1.00      0.97     13393\n",
      "        True       0.93      0.31      0.46      1156\n",
      "\n",
      "    accuracy                           0.94     14549\n",
      "   macro avg       0.94      0.65      0.72     14549\n",
      "weighted avg       0.94      0.94      0.93     14549\n",
      "\n"
     ]
    }
   ],
   "execution_count": 19
  },
  {
   "cell_type": "markdown",
   "id": "eeb570c99725ce75",
   "metadata": {},
   "source": [
    "#### Test set results"
   ]
  },
  {
   "cell_type": "code",
   "id": "2736624e0f5befee",
   "metadata": {
    "ExecuteTime": {
     "end_time": "2025-05-17T12:31:07.988161500Z",
     "start_time": "2025-05-17T09:16:20.048448Z"
    }
   },
   "source": [
    "for pipeline_name, pipeline in model_pipelines.items():\n",
    "    print(f\"Model: {pipeline_name}\")\n",
    "    y_pred = pipeline.predict(X_test)\n",
    "    print(\"Accuracy:\", accuracy_score(y_test, y_pred))\n",
    "    print(\"Classification Report:\\n\", classification_report(y_test, y_pred, digits=4))"
   ],
   "outputs": [
    {
     "name": "stdout",
     "output_type": "stream",
     "text": [
      "Model: logReg\n",
      "Accuracy: 0.936778449697636\n",
      "Classification Report:\n",
      "               precision    recall  f1-score   support\n",
      "\n",
      "       False     0.9411    0.9931    0.9664      3333\n",
      "        True     0.8099    0.3213    0.4601       305\n",
      "\n",
      "    accuracy                         0.9368      3638\n",
      "   macro avg     0.8755    0.6572    0.7133      3638\n",
      "weighted avg     0.9301    0.9368    0.9240      3638\n",
      "\n",
      "Model: rfc\n",
      "Accuracy: 0.94282572842221\n",
      "Classification Report:\n",
      "               precision    recall  f1-score   support\n",
      "\n",
      "       False     0.9450    0.9955    0.9696      3333\n",
      "        True     0.8819    0.3672    0.5185       305\n",
      "\n",
      "    accuracy                         0.9428      3638\n",
      "   macro avg     0.9135    0.6814    0.7441      3638\n",
      "weighted avg     0.9397    0.9428    0.9318      3638\n",
      "\n",
      "Model: svc\n",
      "Accuracy: 0.9392523364485982\n",
      "Classification Report:\n",
      "               precision    recall  f1-score   support\n",
      "\n",
      "       False     0.9395    0.9979    0.9678      3333\n",
      "        True     0.9286    0.2984    0.4516       305\n",
      "\n",
      "    accuracy                         0.9393      3638\n",
      "   macro avg     0.9341    0.6481    0.7097      3638\n",
      "weighted avg     0.9386    0.9393    0.9246      3638\n",
      "\n"
     ]
    }
   ],
   "execution_count": 20
  },
  {
   "cell_type": "markdown",
   "id": "7dd401ee19f8212b",
   "metadata": {},
   "source": [
    "#### Balancing the dataset\n",
    "Since the vast majority (over 90%) of the songs are deemed as not instrumentall, we will oversample the instrumentall ones using SMOTE and reduce the number of not instrumentall ones using TomekLinks."
   ]
  },
  {
   "cell_type": "code",
   "id": "a6f2a0b0b44a2d1e",
   "metadata": {
    "ExecuteTime": {
     "end_time": "2025-05-17T12:31:07.988161500Z",
     "start_time": "2025-05-17T09:16:20.972385Z"
    }
   },
   "source": [
    "split = StratifiedShuffleSplit(n_splits=1, test_size=0.2, random_state=42)\n",
    "train_index, test_index = next(split.split(X, y))\n",
    "X_res_train, X_res_test = X.iloc[train_index], X.iloc[test_index]\n",
    "y_res_train, y_res_test = y.iloc[train_index], y.iloc[test_index]\n",
    "\n",
    "res_model_pipelines: dict[str, Pipeline] = {}\n",
    "\n",
    "tomek = TomekLinks(sampling_strategy='majority')\n",
    "smote = SMOTE(random_state=42)\n",
    "resampler = SMOTETomek(random_state=42, tomek=tomek, smote=smote)\n",
    "\n",
    "\n",
    "def add_res_model_pipeline(classifier, name: str):\n",
    "    res_model_pipelines[name] = ImblearnPipeline(steps=[\n",
    "        ('preprocessor', preprocessor),\n",
    "        ('resampler', resampler),\n",
    "        ('classifier', classifier)\n",
    "    ])\n",
    "\n",
    "add_res_model_pipeline(LogisticRegression(max_iter=1000), 'logReg')\n",
    "add_res_model_pipeline(RandomForestClassifier(random_state=42), 'rfc')\n",
    "add_res_model_pipeline(SVC(), 'svc')"
   ],
   "outputs": [],
   "execution_count": 21
  },
  {
   "cell_type": "markdown",
   "id": "5a40693324a8a565",
   "metadata": {},
   "source": [
    "#### Train the models again"
   ]
  },
  {
   "cell_type": "code",
   "id": "e32b424998ea09a5",
   "metadata": {
    "ExecuteTime": {
     "end_time": "2025-05-17T12:31:07.988161500Z",
     "start_time": "2025-05-17T09:16:21.181498Z"
    }
   },
   "source": [
    "for pipeline in res_model_pipelines.values():\n",
    "    pipeline.fit(X_res_train, y_res_train)"
   ],
   "outputs": [],
   "execution_count": 22
  },
  {
   "cell_type": "markdown",
   "id": "4000a3d8115182a8",
   "metadata": {},
   "source": [
    "#### Training data metrics"
   ]
  },
  {
   "cell_type": "code",
   "id": "9641c1c6dfb796fd",
   "metadata": {
    "ExecuteTime": {
     "end_time": "2025-05-17T12:31:07.988161500Z",
     "start_time": "2025-05-17T09:16:43.095043Z"
    }
   },
   "source": [
    "for pipeline_name, pipeline in res_model_pipelines.items():\n",
    "    print(f\"Model: {pipeline_name}\")\n",
    "    y_pred = pipeline.predict(X_res_train)\n",
    "    print(\"Classification Report:\\n\", classification_report(y_res_train, y_pred))"
   ],
   "outputs": [
    {
     "name": "stdout",
     "output_type": "stream",
     "text": [
      "Model: logReg\n",
      "Classification Report:\n",
      "               precision    recall  f1-score   support\n",
      "\n",
      "       False       0.97      0.81      0.88     13380\n",
      "        True       0.26      0.76      0.39      1169\n",
      "\n",
      "    accuracy                           0.81     14549\n",
      "   macro avg       0.62      0.78      0.63     14549\n",
      "weighted avg       0.92      0.81      0.84     14549\n",
      "\n",
      "Model: rfc\n",
      "Classification Report:\n",
      "               precision    recall  f1-score   support\n",
      "\n",
      "       False       1.00      1.00      1.00     13380\n",
      "        True       1.00      1.00      1.00      1169\n",
      "\n",
      "    accuracy                           1.00     14549\n",
      "   macro avg       1.00      1.00      1.00     14549\n",
      "weighted avg       1.00      1.00      1.00     14549\n",
      "\n",
      "Model: svc\n",
      "Classification Report:\n",
      "               precision    recall  f1-score   support\n",
      "\n",
      "       False       0.99      0.88      0.93     13380\n",
      "        True       0.38      0.86      0.52      1169\n",
      "\n",
      "    accuracy                           0.87     14549\n",
      "   macro avg       0.68      0.87      0.72     14549\n",
      "weighted avg       0.94      0.87      0.89     14549\n",
      "\n"
     ]
    }
   ],
   "execution_count": 23
  },
  {
   "cell_type": "markdown",
   "id": "84e6bada4ba8687c",
   "metadata": {},
   "source": [
    "#### Test data metrics"
   ]
  },
  {
   "cell_type": "code",
   "id": "3cfc781bc2eb2522",
   "metadata": {
    "ExecuteTime": {
     "end_time": "2025-05-17T12:31:07.988161500Z",
     "start_time": "2025-05-17T09:16:54.432678Z"
    }
   },
   "source": [
    "for pipeline_name, pipeline in res_model_pipelines.items():\n",
    "    print(f\"Model: {pipeline_name}\")\n",
    "    y_pred = pipeline.predict(X_res_test)\n",
    "    print(\"Classification Report:\\n\", classification_report(y_res_test, y_pred, digits=4))"
   ],
   "outputs": [
    {
     "name": "stdout",
     "output_type": "stream",
     "text": [
      "Model: logReg\n",
      "Classification Report:\n",
      "               precision    recall  f1-score   support\n",
      "\n",
      "       False     0.9739    0.8019    0.8795      3346\n",
      "        True     0.2492    0.7534    0.3745       292\n",
      "\n",
      "    accuracy                         0.7980      3638\n",
      "   macro avg     0.6115    0.7776    0.6270      3638\n",
      "weighted avg     0.9157    0.7980    0.8390      3638\n",
      "\n",
      "Model: rfc\n",
      "Classification Report:\n",
      "               precision    recall  f1-score   support\n",
      "\n",
      "       False     0.9563    0.9603    0.9582      3346\n",
      "        True     0.5216    0.4966    0.5088       292\n",
      "\n",
      "    accuracy                         0.9230      3638\n",
      "   macro avg     0.7389    0.7284    0.7335      3638\n",
      "weighted avg     0.9214    0.9230    0.9222      3638\n",
      "\n",
      "Model: svc\n",
      "Classification Report:\n",
      "               precision    recall  f1-score   support\n",
      "\n",
      "       False     0.9704    0.8539    0.9084      3346\n",
      "        True     0.2954    0.7021    0.4158       292\n",
      "\n",
      "    accuracy                         0.8417      3638\n",
      "   macro avg     0.6329    0.7780    0.6621      3638\n",
      "weighted avg     0.9163    0.8417    0.8689      3638\n",
      "\n"
     ]
    }
   ],
   "execution_count": 24
  },
  {
   "cell_type": "markdown",
   "id": "6948ea69aa7b4b57",
   "metadata": {},
   "source": [
    "##  Regression implementation\n",
    "\n",
    "Goal: try to predict the number of song's streams on Spotify based on YouTube metrics and song licensing\n",
    "\n",
    "#### Defining the custom models"
   ]
  },
  {
   "cell_type": "code",
   "id": "93cede4b3d3fecd3",
   "metadata": {
    "ExecuteTime": {
     "end_time": "2025-05-17T12:31:07.988161500Z",
     "start_time": "2025-05-17T12:08:24.945418Z"
    }
   },
   "source": [
    "from abc import ABC\n",
    "\n",
    "class CustomModel(ABC):\n",
    "    def __init__(self):\n",
    "        self.coef_ = None\n",
    "        self.intercept_ = None\n",
    "\n",
    "    def fit(self, X, y):\n",
    "       pass\n",
    "\n",
    "    def predict(self, X):\n",
    "        if self.coef_ is None:\n",
    "            raise ValueError(\"Model is not fitted yet.\")\n",
    "        if X.ndim == 1:\n",
    "            X = X.reshape(1, -1)\n",
    "        X = np.asarray(X).astype(np.float64)\n",
    "        return X.dot(self.coef_) + self.intercept_\n",
    "\n",
    "    def score(self, X, y):\n",
    "        X = np.asarray(X).astype(np.float64)\n",
    "        y = np.asarray(y).astype(np.float64)\n",
    "        y_pred = self.predict(X)\n",
    "        u = ((y - y_pred) ** 2).sum()\n",
    "        v = ((y - y.mean()) ** 2).sum()\n",
    "        return 1 - (u / v) if v != 0 else 0.0\n",
    "\n",
    "    @staticmethod\n",
    "    def prepare_data(X, y) -> tuple[np.ndarray, np.ndarray]:\n",
    "        X = np.asarray(X).astype(np.float64)\n",
    "        y = np.asarray(y).astype(np.float64)\n",
    "        if y.ndim > 1 and y.shape[1] == 1:\n",
    "            y = y.ravel()\n",
    "        return X, y\n",
    "\n",
    "class CustomLinearRegression(CustomModel):\n",
    "\n",
    "    def fit(self, X, y):\n",
    "        X, y = self.prepare_data(X, y)\n",
    "        X_design = np.c_[np.ones(X.shape[0]), X]\n",
    "        weights, _, _, _ = np.linalg.lstsq(X_design, y, rcond=None)\n",
    "        self.intercept_ = weights[0]\n",
    "        self.coef_ = weights[1:]\n",
    "        return self\n",
    "\n",
    "class CustomGradientDescentRegression(CustomModel):\n",
    "    def __init__(self, learning_rate=0.15, n_iterations=1000, tol=1e-3, random_state=42):\n",
    "        super().__init__()\n",
    "        self.learning_rate = learning_rate\n",
    "        self.n_iterations = n_iterations\n",
    "        self.tol = tol\n",
    "        self.cost_history_ = []\n",
    "        if random_state is not None:\n",
    "            np.random.seed(random_state)\n",
    "\n",
    "    @staticmethod\n",
    "    def _get_msqe_cost(X, y, theta):\n",
    "        return (1 / len(y)) * np.sum(np.square(X.dot(theta) - y))\n",
    "\n",
    "    def fit(self, X, y):\n",
    "        X, y = self.prepare_data(X, y)\n",
    "        m, n = X.shape\n",
    "        X_with_intercept = np.c_[np.ones(m), X]\n",
    "        theta = np.random.randn(n + 1)\n",
    "        prev_cost = float('inf')\n",
    "        self.cost_history_ = []\n",
    "\n",
    "        for i in range(self.n_iterations):\n",
    "            theta = self._calculate_theta(X_with_intercept, y, theta, m)\n",
    "            current_cost = self._update_cost(X_with_intercept, y, theta)\n",
    "            if self._should_stop(prev_cost, current_cost):\n",
    "                break\n",
    "            prev_cost = current_cost\n",
    "        self.intercept_ = theta[0]\n",
    "        self.coef_ = theta[1:]\n",
    "        return self\n",
    "\n",
    "    def _calculate_theta(self, X, y, old_theta, m):\n",
    "        predictions = X.dot(old_theta)\n",
    "        gradient = (1 /m) * X.T.dot(predictions - y)\n",
    "        return old_theta - self.learning_rate * gradient\n",
    "\n",
    "    def _should_stop(self, prev_cost, current_cost) -> bool:\n",
    "        return current_cost < self.tol or abs(prev_cost - current_cost) < self.tol\n",
    "\n",
    "    def _update_cost(self, X, y, theta) -> np.float64:\n",
    "        current_cost = self._get_msqe_cost(X, y, theta)\n",
    "        self.cost_history_.append(current_cost)\n",
    "        return current_cost\n",
    "\n",
    "class CustomGradientDescentRegWithBatches(CustomGradientDescentRegression):\n",
    "    def __init__(self, learning_rate=0.15, n_iterations=1000, tol=1e-3, random_state=42, batch_size=64):\n",
    "        super().__init__(learning_rate, n_iterations, tol, random_state)\n",
    "        self.batch_size = batch_size\n",
    "\n",
    "    @override\n",
    "    def fit(self, X, y):\n",
    "        X, y = self.prepare_data(X, y)\n",
    "        m, n = X.shape\n",
    "        X_with_intercept = np.c_[np.ones(m), X]\n",
    "        theta = np.random.randn(n + 1)\n",
    "        prev_cost = float('inf')\n",
    "        self.cost_history_ = []\n",
    "        indices = np.arange(m)\n",
    "\n",
    "        for i in range(self.n_iterations):\n",
    "            np.random.shuffle(indices)\n",
    "\n",
    "            for start_idx in range(0, m, self.batch_size):\n",
    "                batch_indices = indices[start_idx:min(start_idx + self.batch_size, m)]\n",
    "                X_batch = X_with_intercept[batch_indices]\n",
    "                y_batch = y[batch_indices]\n",
    "                theta = self._calculate_theta(X_batch, y_batch, theta, len(y_batch))\n",
    "\n",
    "            current_cost = self._update_cost(X_with_intercept, y, theta)\n",
    "            if self._should_stop(prev_cost, current_cost):\n",
    "                break\n",
    "            prev_cost = current_cost\n",
    "\n",
    "        self.intercept_ = theta[0]\n",
    "        self.coef_ = theta[1:]\n",
    "        return self"
   ],
   "outputs": [],
   "execution_count": 18
  },
  {
   "cell_type": "markdown",
   "id": "21f7000bc865670e",
   "metadata": {},
   "source": [
    "#### Define the new pipeline\n",
    "Target value: number of streams\n",
    "Predictions based on: YouTube metrics and song licensing"
   ]
  },
  {
   "cell_type": "code",
   "id": "94b37a7f86c15d9a",
   "metadata": {
    "ExecuteTime": {
     "end_time": "2025-05-17T12:31:07.988161500Z",
     "start_time": "2025-05-17T12:08:28.382810Z"
    }
   },
   "source": [
    "target = 'Loudness'\n",
    "BASE_CAT_COLUMNS = CATEGORICAL_COLUMNS.copy()\n",
    "BASE_NUM_COLUMNS = NUMERIC_COLUMNS.copy()\n",
    "BASE_NUM_COLUMNS.remove(target)\n",
    "columns_preprocessor = ColumnTransformer(\n",
    "    transformers=[\n",
    "        ('numeric', numeric_pipeline,  BASE_NUM_COLUMNS),\n",
    "        ('categorical', categorical_pipeline, BASE_CAT_COLUMNS)]\n",
    ")\n",
    "spotify_preprocessor = Pipeline(\n",
    "    steps=[\n",
    "        ('column', columns_preprocessor)\n",
    "    ]\n",
    ")\n",
    "X = df[BASE_NUM_COLUMNS + BASE_CAT_COLUMNS].copy()\n",
    "y = df[target].copy()\n",
    "X_train, X_test, y_train, y_test = train_test_split(X, y, test_size=0.2, random_state=1)\n",
    "y_train = y_train.fillna(df[target].median())\n",
    "y_test = y_test.fillna(df[target].median())"
   ],
   "outputs": [],
   "execution_count": 19
  },
  {
   "cell_type": "markdown",
   "id": "246174bd732f967d",
   "metadata": {},
   "source": [
    "#### Train the models\n"
   ]
  },
  {
   "cell_type": "code",
   "id": "13920995581d742b",
   "metadata": {
    "ExecuteTime": {
     "end_time": "2025-05-17T12:31:07.999946700Z",
     "start_time": "2025-05-17T12:08:31.639030Z"
    }
   },
   "source": [
    "spotify_model_pipelines: dict[str, Pipeline] = {}\n",
    "\n",
    "def add_spotify_model_pipeline(regressor, name: str, pipeline_set=None):\n",
    "    if pipeline_set is None:\n",
    "        pipeline_set = spotify_model_pipelines\n",
    "    pipeline_set[name] = Pipeline(steps=[\n",
    "        ('preprocessor', spotify_preprocessor),\n",
    "        ('regressor', regressor)\n",
    "    ])\n",
    "\n",
    "tol = 1e-6\n",
    "add_spotify_model_pipeline(CustomLinearRegression(), 'custom_linReg')\n",
    "add_spotify_model_pipeline(LinearRegression(), 'linReg')\n",
    "add_spotify_model_pipeline(CustomGradientDescentRegression(tol=tol, learning_rate=0.035, random_state=42), 'custom_gdReg')\n",
    "add_spotify_model_pipeline(CustomGradientDescentRegWithBatches(tol=tol, learning_rate=0.005, random_state=42), 'custom_gdReg_batch')\n",
    "add_spotify_model_pipeline(SGDRegressor(tol=tol, learning_rate='invscaling', random_state=42, penalty=None), 'sgdReg')\n",
    "add_spotify_model_pipeline(RandomForestRegressor(random_state=42, n_jobs=-1), 'rfReg')\n",
    "add_spotify_model_pipeline(GradientBoostingRegressor(random_state=42), 'gbReg')\n",
    "\n",
    "def print_results(model_name: str, mse: float, score: float):\n",
    "    print(f\"Model: {model_name}\")\n",
    "    print(f\"MSE: {mse:.6}\")\n",
    "    print(f\"Score: {score:.6}\")\n",
    "    print(\"------------------------------------------\")"
   ],
   "outputs": [],
   "execution_count": 20
  },
  {
   "cell_type": "markdown",
   "id": "641e0866765a6d03",
   "metadata": {},
   "source": [
    "#### Without polynomial features"
   ]
  },
  {
   "cell_type": "code",
   "execution_count": 32,
   "id": "26556c725ddea541",
   "metadata": {
    "ExecuteTime": {
     "end_time": "2025-05-17T12:31:07.999946700Z",
     "start_time": "2025-05-15T10:52:16.924518Z"
    }
   },
   "outputs": [],
   "source": [
    "for pipeline in spotify_model_pipelines.values():\n",
    "    pipeline.fit(X_train, y_train)"
   ]
  },
  {
   "cell_type": "markdown",
   "id": "e6b93f60dd71f14a",
   "metadata": {},
   "source": [
    "Training set results\n"
   ]
  },
  {
   "cell_type": "code",
   "execution_count": 33,
   "id": "eeb691f090b195d8",
   "metadata": {
    "ExecuteTime": {
     "end_time": "2025-05-17T12:31:07.999946700Z",
     "start_time": "2025-05-15T11:00:33.582399Z"
    }
   },
   "outputs": [
    {
     "name": "stdout",
     "output_type": "stream",
     "text": [
      "Model: custom_linReg\n",
      "MSE: 0.00217648\n",
      "Score: 0.679357\n",
      "------------------------------------------\n",
      "Model: linReg\n",
      "MSE: 0.00217648\n",
      "Score: 0.679357\n",
      "------------------------------------------\n",
      "Model: custom_gdReg\n",
      "MSE: 0.00604565\n",
      "Score: 0.109343\n",
      "------------------------------------------\n",
      "Model: custom_gdReg_batch\n",
      "MSE: 0.00221253\n",
      "Score: 0.674045\n",
      "------------------------------------------\n",
      "Model: sgdReg\n",
      "MSE: 0.00218419\n",
      "Score: 0.678221\n",
      "------------------------------------------\n",
      "Model: rfReg\n",
      "MSE: 0.000218612\n",
      "Score: 0.967794\n",
      "------------------------------------------\n",
      "Model: gbReg\n",
      "MSE: 0.00151939\n",
      "Score: 0.776161\n",
      "------------------------------------------\n"
     ]
    }
   ],
   "source": [
    "for pipeline_name, pipeline in spotify_model_pipelines.items():\n",
    "    print_results(pipeline_name, mean_squared_error(y_train, pipeline.predict(X_train)), pipeline.score(X_train, y_train))"
   ]
  },
  {
   "cell_type": "markdown",
   "id": "dc79709f",
   "metadata": {},
   "source": [
    "Test set results"
   ]
  },
  {
   "cell_type": "code",
   "execution_count": 34,
   "id": "bd167218",
   "metadata": {},
   "outputs": [
    {
     "name": "stdout",
     "output_type": "stream",
     "text": [
      "Model: custom_linReg\n",
      "MSE: 0.00215312\n",
      "Score: 0.669317\n",
      "------------------------------------------\n",
      "Model: linReg\n",
      "MSE: 0.00215312\n",
      "Score: 0.669317\n",
      "------------------------------------------\n",
      "Model: custom_gdReg\n",
      "MSE: 0.00589102\n",
      "Score: 0.0952369\n",
      "------------------------------------------\n",
      "Model: custom_gdReg_batch\n",
      "MSE: 0.00220651\n",
      "Score: 0.661116\n",
      "------------------------------------------\n",
      "Model: sgdReg\n",
      "MSE: 0.00215204\n",
      "Score: 0.669482\n",
      "------------------------------------------\n",
      "Model: rfReg\n",
      "MSE: 0.00158753\n",
      "Score: 0.756181\n",
      "------------------------------------------\n",
      "Model: gbReg\n",
      "MSE: 0.00171943\n",
      "Score: 0.735923\n",
      "------------------------------------------\n"
     ]
    }
   ],
   "source": [
    "for pipeline_name, pipeline in spotify_model_pipelines.items():\n",
    "    print_results(pipeline_name, mean_squared_error(y_test, pipeline.predict(X_test)), pipeline.score(X_test, y_test))"
   ]
  },
  {
   "cell_type": "markdown",
   "id": "7bbd8601",
   "metadata": {},
   "source": [
    "#### With added polynomial features"
   ]
  },
  {
   "cell_type": "code",
   "id": "59c8fd72",
   "metadata": {
    "ExecuteTime": {
     "end_time": "2025-05-17T12:31:08.001971Z",
     "start_time": "2025-05-17T12:08:38.703825Z"
    }
   },
   "source": [
    "spotify_preprocessor.steps.append(('poly', PolynomialFeatures(degree=2, include_bias=False)))\n",
    "\n",
    "for pipeline in spotify_model_pipelines.values():\n",
    "    pipeline.fit(X_train, y_train)"
   ],
   "outputs": [],
   "execution_count": 21
  },
  {
   "cell_type": "markdown",
   "id": "efc45042",
   "metadata": {},
   "source": [
    "Training set results"
   ]
  },
  {
   "cell_type": "code",
   "execution_count": 36,
   "id": "ab88395d",
   "metadata": {},
   "outputs": [
    {
     "name": "stdout",
     "output_type": "stream",
     "text": [
      "Model: custom_linReg\n",
      "MSE: 0.00164776\n",
      "Score: 0.757249\n",
      "------------------------------------------\n",
      "Model: linReg\n",
      "MSE: 0.00164776\n",
      "Score: 0.757249\n",
      "------------------------------------------\n",
      "Model: custom_gdReg\n",
      "MSE: 0.21071\n",
      "Score: -30.0423\n",
      "------------------------------------------\n",
      "Model: custom_gdReg_batch\n",
      "MSE: 0.00425166\n",
      "Score: 0.373637\n",
      "------------------------------------------\n",
      "Model: sgdReg\n",
      "MSE: 0.00171391\n",
      "Score: 0.747504\n",
      "------------------------------------------\n",
      "Model: rfReg\n",
      "MSE: 0.000219236\n",
      "Score: 0.967702\n",
      "------------------------------------------\n",
      "Model: gbReg\n",
      "MSE: 0.00145104\n",
      "Score: 0.78623\n",
      "------------------------------------------\n"
     ]
    }
   ],
   "source": [
    "for pipeline_name, pipeline in spotify_model_pipelines.items():\n",
    "    print_results(pipeline_name, mean_squared_error(y_train, pipeline.predict(X_train)), pipeline.score(X_train, y_train))"
   ]
  },
  {
   "cell_type": "markdown",
   "id": "6a0ed38e277795e5",
   "metadata": {},
   "source": "Training and test loss for custom gradient descent with batches"
  },
  {
   "metadata": {
    "ExecuteTime": {
     "end_time": "2025-05-17T12:31:08.001971Z",
     "start_time": "2025-05-17T09:35:53.537329Z"
    }
   },
   "cell_type": "code",
   "source": [
    "model = CustomGradientDescentRegWithBatches(tol=tol, learning_rate=0.005, random_state=42)\n",
    "model_pipe = Pipeline(steps=[\n",
    "    ('preprocessor', spotify_preprocessor),\n",
    "    ('regressor', model)\n",
    "])\n",
    "model_pipe.fit(X_test, y_test)\n",
    "test_loss = model.cost_history_\n",
    "train_loss = spotify_model_pipelines.get('custom_gdReg_batch').steps[1][1].cost_history_"
   ],
   "id": "b69878ae0150f743",
   "outputs": [],
   "execution_count": 48
  },
  {
   "metadata": {
    "ExecuteTime": {
     "end_time": "2025-05-17T12:31:08.004888Z",
     "start_time": "2025-05-17T09:45:26.158945Z"
    }
   },
   "cell_type": "code",
   "source": [
    "plt.figure(figsize=(12, 8))\n",
    "plt.plot(train_loss, label=\"Training Loss\", color='blue', linewidth=1.5)\n",
    "plt.text(len(train_loss)-1, train_loss[-1], f\"{train_loss[-1]:.4f}\", color='blue')\n",
    "plt.plot(test_loss, label=\"Test Loss\", color='red', linewidth=1.5)\n",
    "plt.text(len(test_loss)-1, test_loss[-1], f\"{test_loss[-1]:.4f}\", color='red')\n",
    "plt.xlabel(\"Epochs\", fontsize=12)\n",
    "plt.ylabel(\"Mean Squared Error (MSE)\", fontsize=12)\n",
    "plt.title(\"Training vs Test Loss Curves\", fontsize=14)\n",
    "plt.legend(loc=\"upper right\", fontsize=11)\n",
    "plt.grid(True)\n",
    "plt.show()"
   ],
   "id": "1bb982cc78ff9a29",
   "outputs": [
    {
     "data": {
      "text/plain": [
       "<Figure size 1200x800 with 1 Axes>"
      ],
      "image/png": "[encoded data removed]"
     },
     "metadata": {},
     "output_type": "display_data"
    }
   ],
   "execution_count": 55
  },
  {
   "metadata": {},
   "cell_type": "markdown",
   "source": "Predicted vs true values for the custom model, based on feature number 0",
   "id": "ad52b0584ae9e7a3"
  },
  {
   "cell_type": "code",
   "id": "e715294a",
   "metadata": {
    "ExecuteTime": {
     "end_time": "2025-05-17T12:31:08.004888Z",
     "start_time": "2025-05-17T09:24:23.746541Z"
    }
   },
   "source": [
    "feature_index = 0\n",
    "X_test_feature = X_test.iloc[:, feature_index].values\n",
    "plt.figure(figsize=(10, 6))\n",
    "plt.scatter(X_test_feature, spotify_model_pipelines.get('custom_gdReg_batch').predict(X_test), color='red', label='Model Predictions', alpha=0.8)\n",
    "plt.scatter(X_test_feature, y_test, color='blue', label='True Values', alpha=0.6)\n",
    "plt.xlabel(f\"Feature {feature_index}\")\n",
    "plt.ylabel(\"Target / Predicted Value\")\n",
    "plt.title(\"True Values (Blue) vs Model Predictions (Red)\")\n",
    "plt.legend()\n",
    "plt.grid()\n",
    "plt.show()"
   ],
   "outputs": [
    {
     "data": {
      "text/plain": [
       "<Figure size 1000x600 with 1 Axes>"
      ],
      "image/png": "[encoded data removed]"
     },
     "metadata": {},
     "output_type": "display_data"
    }
   ],
   "execution_count": 41
  },
  {
   "cell_type": "markdown",
   "id": "66a867b62733ee2b",
   "metadata": {},
   "source": [
    "Test set results"
   ]
  },
  {
   "cell_type": "code",
   "execution_count": 38,
   "id": "a3ce9724db230169",
   "metadata": {
    "ExecuteTime": {
     "end_time": "2025-05-17T12:31:08.004888Z",
     "start_time": "2025-05-15T11:00:42.442548Z"
    }
   },
   "outputs": [
    {
     "name": "stdout",
     "output_type": "stream",
     "text": [
      "Model: custom_linReg\n",
      "MSE: 0.00172731\n",
      "Score: 0.734714\n",
      "------------------------------------------\n",
      "Model: linReg\n",
      "MSE: 0.00172731\n",
      "Score: 0.734714\n",
      "------------------------------------------\n",
      "Model: custom_gdReg\n",
      "MSE: 0.223685\n",
      "Score: -33.3543\n",
      "------------------------------------------\n",
      "Model: custom_gdReg_batch\n",
      "MSE: 0.00469972\n",
      "Score: 0.2782\n",
      "------------------------------------------\n",
      "Model: sgdReg\n",
      "MSE: 0.00178779\n",
      "Score: 0.725425\n",
      "------------------------------------------\n",
      "Model: rfReg\n",
      "MSE: 0.00160631\n",
      "Score: 0.753297\n",
      "------------------------------------------\n",
      "Model: gbReg\n",
      "MSE: 0.00170166\n",
      "Score: 0.738654\n",
      "------------------------------------------\n"
     ]
    }
   ],
   "source": [
    "for pipeline_name, pipeline in spotify_model_pipelines.items():\n",
    "    print_results(pipeline_name, mean_squared_error(y_test, pipeline.predict(X_test)), pipeline.score(X_test, y_test))"
   ]
  },
  {
   "cell_type": "markdown",
   "id": "117b26399e034e91",
   "metadata": {},
   "source": [
    "#### With cross-validation (KFold with three splits)"
   ]
  },
  {
   "cell_type": "code",
   "id": "9e76fb60313213f8",
   "metadata": {
    "ExecuteTime": {
     "end_time": "2025-05-17T12:31:08.004888Z",
     "start_time": "2025-05-17T12:08:48.132766Z"
    }
   },
   "source": [
    "@dataclass\n",
    "class KFoldResult:\n",
    "    train_mse_scores: list[float]\n",
    "    train_r2_scores: list[float]\n",
    "    test_mse_scores: list[float]\n",
    "    test_r2_scores: list[float]\n",
    "\n",
    "    def get_test_mse(self):\n",
    "        return np.mean(self.test_mse_scores)\n",
    "\n",
    "    def get_train_mse(self):\n",
    "        return np.mean(self.train_mse_scores)\n",
    "\n",
    "    def get_test_r2(self):\n",
    "        return np.mean(self.test_r2_scores)\n",
    "\n",
    "    def get_train_r2(self):\n",
    "        return np.mean(self.train_r2_scores)\n",
    "\n",
    "\n",
    "def train_with_k_fold(pipelines) -> dict[str, KFoldResult]:\n",
    "    kf = KFold(n_splits=3, shuffle=True, random_state=1)\n",
    "    train_mse_scores = {model_name: [] for model_name in pipelines.keys()}\n",
    "    train_r2_scores = {model_name: [] for model_name in pipelines.keys()}\n",
    "    test_mse_scores = {model_name: [] for model_name in pipelines.keys()}\n",
    "    test_r2_scores = {model_name: [] for model_name in pipelines.keys()}\n",
    "\n",
    "    for train_index, test_index in kf.split(X):\n",
    "        X_cv_train, X_cv_val = X.iloc[train_index], X.iloc[test_index]\n",
    "        y_cv_train, y_cv_val = y.iloc[train_index], y.iloc[test_index]\n",
    "        y_cv_train = y_cv_train.fillna(df[target].median())\n",
    "        y_cv_val = y_cv_val.fillna(df[target].median())\n",
    "        for pipeline_name, pipeline in pipelines.items():\n",
    "            pipeline.fit(X_cv_train, y_cv_train)\n",
    "            y_cv_pred = pipeline.predict(X_cv_val)\n",
    "            y_cv_train_pred = pipeline.predict(X_cv_train)\n",
    "\n",
    "            train_mse_scores[pipeline_name].append(mean_squared_error(y_cv_train, y_cv_train_pred))\n",
    "            train_r2_scores[pipeline_name].append(r2_score(y_cv_train, y_cv_train_pred))\n",
    "            test_mse_scores[pipeline_name].append(mean_squared_error(y_cv_val, y_cv_pred))\n",
    "            test_r2_scores[pipeline_name].append(r2_score(y_cv_val, y_cv_pred))\n",
    "\n",
    "    return {pipeline_name : KFoldResult(train_mse_scores[pipeline_name], train_r2_scores[pipeline_name], test_mse_scores[pipeline_name], test_r2_scores[pipeline_name]) for pipeline_name in pipelines.keys()}"
   ],
   "outputs": [],
   "execution_count": 22
  },
  {
   "cell_type": "markdown",
   "id": "7231fd9673c0d2f0",
   "metadata": {},
   "source": [
    "Train the models with k_fold"
   ]
  },
  {
   "cell_type": "code",
   "execution_count": 43,
   "id": "51c5ae51ad461eb0",
   "metadata": {
    "ExecuteTime": {
     "end_time": "2025-05-17T12:31:08.004888Z",
     "start_time": "2025-05-16T13:04:48.709055Z"
    }
   },
   "outputs": [],
   "source": [
    "training_results = train_with_k_fold(spotify_model_pipelines)\n",
    "\n",
    "def print_k_fold_results(pipelines, k_fold_results: dict[str, KFoldResult], print_test: bool):\n",
    "    for pipeline_name in pipelines.keys():\n",
    "        current_result = k_fold_results[pipeline_name]\n",
    "        if print_test:\n",
    "            print_results(pipeline_name, current_result.get_test_mse(), current_result.get_test_r2())\n",
    "        else:\n",
    "            print_results(pipeline_name, current_result.get_train_mse(), current_result.get_train_r2())"
   ]
  },
  {
   "cell_type": "markdown",
   "id": "cd0508d19e228767",
   "metadata": {},
   "source": [
    "Training set results\n"
   ]
  },
  {
   "cell_type": "code",
   "execution_count": 46,
   "id": "4eef9e51822332c0",
   "metadata": {
    "ExecuteTime": {
     "end_time": "2025-05-17T12:31:08.004888Z",
     "start_time": "2025-05-16T13:04:53.464944Z"
    }
   },
   "outputs": [
    {
     "name": "stdout",
     "output_type": "stream",
     "text": [
      "Model: custom_linReg\n",
      "MSE: 0.00164632\n",
      "Score: 0.75541\n",
      "------------------------------------------\n",
      "Model: linReg\n",
      "MSE: 0.00164632\n",
      "Score: 0.75541\n",
      "------------------------------------------\n",
      "Model: custom_gdReg\n",
      "MSE: 0.161178\n",
      "Score: -23.0424\n",
      "------------------------------------------\n",
      "Model: custom_gdReg_batch\n",
      "MSE: 0.00579179\n",
      "Score: 0.14243\n",
      "------------------------------------------\n",
      "Model: sgdReg\n",
      "MSE: 0.00174677\n",
      "Score: 0.740427\n",
      "------------------------------------------\n",
      "Model: rfReg\n",
      "MSE: 0.00022543\n",
      "Score: 0.966506\n",
      "------------------------------------------\n",
      "Model: gbReg\n",
      "MSE: 0.00143883\n",
      "Score: 0.786224\n",
      "------------------------------------------\n"
     ]
    }
   ],
   "source": [
    "print_k_fold_results(spotify_model_pipelines, training_results, print_test=False)"
   ]
  },
  {
   "cell_type": "markdown",
   "id": "da553e2faf925375",
   "metadata": {},
   "source": [
    "Test set results"
   ]
  },
  {
   "cell_type": "code",
   "execution_count": 47,
   "id": "1b946281fcf39213",
   "metadata": {
    "ExecuteTime": {
     "end_time": "2025-05-17T12:31:08.004888Z",
     "start_time": "2025-05-14T17:34:02.519672Z"
    }
   },
   "outputs": [
    {
     "name": "stdout",
     "output_type": "stream",
     "text": [
      "Model: custom_linReg\n",
      "MSE: 0.00171507\n",
      "Score: 0.745008\n",
      "------------------------------------------\n",
      "Model: linReg\n",
      "MSE: 0.00171507\n",
      "Score: 0.745008\n",
      "------------------------------------------\n",
      "Model: custom_gdReg\n",
      "MSE: 0.1713\n",
      "Score: -24.2703\n",
      "------------------------------------------\n",
      "Model: custom_gdReg_batch\n",
      "MSE: 0.00705641\n",
      "Score: -0.0587309\n",
      "------------------------------------------\n",
      "Model: sgdReg\n",
      "MSE: 0.00179956\n",
      "Score: 0.732581\n",
      "------------------------------------------\n",
      "Model: rfReg\n",
      "MSE: 0.00158691\n",
      "Score: 0.763981\n",
      "------------------------------------------\n",
      "Model: gbReg\n",
      "MSE: 0.00165398\n",
      "Score: 0.754034\n",
      "------------------------------------------\n"
     ]
    }
   ],
   "source": [
    "print_k_fold_results(spotify_model_pipelines, training_results, print_test=True)"
   ]
  },
  {
   "cell_type": "markdown",
   "id": "6b94ed1660d3faf2",
   "metadata": {},
   "source": [
    "#### Adding L1 and L2 regularization\n",
    "\n",
    "Defining models with both L1 and L2 regularization"
   ]
  },
  {
   "cell_type": "code",
   "id": "71108a71e0771dd9",
   "metadata": {
    "ExecuteTime": {
     "end_time": "2025-05-17T12:31:08.004888Z",
     "start_time": "2025-05-17T12:08:55.528007Z"
    }
   },
   "source": [
    "class CustomLinearRegressionWithL1(CustomModel):\n",
    "    def __init__(self, alpha=1.0):\n",
    "        super().__init__()\n",
    "        self.alpha = alpha\n",
    "\n",
    "    def fit(self, X, y):\n",
    "        X, y = self.prepare_data(X, y)\n",
    "        X_design = np.c_[np.ones(X.shape[0]), X]\n",
    "        I = np.eye(X_design.shape[1])\n",
    "        I[0, 0] = 0\n",
    "\n",
    "        regularized_matrix = X_design.T @ X_design + self.alpha * I\n",
    "        pseudo_inverse = np.linalg.inv(regularized_matrix) @ X_design.T\n",
    "        weights = pseudo_inverse @ y\n",
    "\n",
    "        self.intercept_ = weights[0]\n",
    "        self.coef_ = weights[1:]\n",
    "        return self\n",
    "\n",
    "\n",
    "spotify_model_pipelines_with_reg = {}\n",
    "\n",
    "alpha = 1.0\n",
    "add_spotify_model_pipeline(CustomLinearRegressionWithL1(alpha), 'custom_L1', spotify_model_pipelines_with_reg)\n",
    "add_spotify_model_pipeline(Ridge(alpha=alpha, random_state=42), 'L1Reg', spotify_model_pipelines_with_reg)\n",
    "add_spotify_model_pipeline(Lasso(alpha=alpha, random_state=42), 'L2Reg', spotify_model_pipelines_with_reg)\n",
    "add_spotify_model_pipeline(SGDRegressor(tol=tol, learning_rate='invscaling', random_state=42, penalty='l1', alpha=alpha), 'sgdRegL1', spotify_model_pipelines_with_reg)\n",
    "add_spotify_model_pipeline(SGDRegressor(tol=tol, learning_rate='invscaling', random_state=42, penalty='l2', alpha=alpha), 'sgdRegL2', spotify_model_pipelines_with_reg)"
   ],
   "outputs": [],
   "execution_count": 23
  },
  {
   "cell_type": "markdown",
   "id": "e55ad96501ddfcfc",
   "metadata": {},
   "source": [
    "Train the models with K-fold"
   ]
  },
  {
   "cell_type": "code",
   "execution_count": 81,
   "id": "f0ac18f97c44329c",
   "metadata": {
    "ExecuteTime": {
     "end_time": "2025-05-17T12:31:08.004888Z",
     "start_time": "2025-05-15T10:35:28.404232Z"
    }
   },
   "outputs": [],
   "source": [
    "training_results_with_reg = train_with_k_fold(spotify_model_pipelines_with_reg)"
   ]
  },
  {
   "cell_type": "markdown",
   "id": "c70414860352d70b",
   "metadata": {},
   "source": [
    "Weights before and after L1 regularisation for linear regression"
   ]
  },
  {
   "cell_type": "code",
   "execution_count": 82,
   "id": "555ce08f8ca703b",
   "metadata": {
    "ExecuteTime": {
     "end_time": "2025-05-17T12:31:08.004888Z",
     "start_time": "2025-05-15T10:18:32.478365Z"
    }
   },
   "outputs": [
    {
     "name": "stdout",
     "output_type": "stream",
     "text": [
      "Before:\n",
      "[ 3.49847342e-03  2.00483316e-02  9.44777690e-04 -1.52824511e-03\n",
      " -5.76636663e-04 -1.03571031e-03 -2.66891736e-03  2.79151510e-04\n",
      "  5.07022363e-04  1.87957582e-03  4.20510068e-03 -5.20798223e-03\n",
      "  1.00671162e-03  4.51916446e-02  4.06215955e-02  4.78976922e-02\n",
      "  7.45034793e-02  5.92074530e-02  5.86328296e-02  7.50781027e-02\n",
      "  7.18428988e-02  6.18680335e-02  5.81440991e-04 -3.65191261e-03\n",
      "  5.03408395e-04  6.53338910e-04 -1.03728776e-03  8.17803006e-04\n",
      "  1.28004634e-03  1.43933696e-05 -1.19722170e-03 -1.94395746e-03\n",
      " -4.82796287e-04 -1.13250059e-04  1.96333020e-03  5.67708160e-04\n",
      "  2.62486088e-03  3.05904386e-04  1.11534949e-03  2.38312393e-03\n",
      "  1.63364567e-03  1.86482775e-03 -2.02527246e-03  5.52374588e-03\n",
      " -1.48978342e-02  5.02124073e-04  9.96797115e-04 -5.76731223e-03\n",
      "  1.24841144e-04  7.11073058e-03  3.69774652e-04  2.93036270e-03\n",
      " -3.80561410e-03 -1.78222194e-03  3.12547651e-03  3.07972113e-05\n",
      "  5.29287309e-03  9.25036150e-03  5.50509698e-03  1.04815946e-02\n",
      "  9.56673694e-03  1.14851420e-02  8.56318957e-03  7.10624596e-03\n",
      "  1.29420856e-02  4.58558060e-04 -5.44488885e-04  5.31969464e-04\n",
      " -8.04090887e-04  2.36409488e-04 -3.58135239e-04  5.25399990e-04\n",
      "  2.92429003e-03 -9.72860318e-04 -2.39628158e-03 -4.59608383e-04\n",
      " -1.80104094e-03  4.35170180e-03 -1.60588317e-03 -7.88458993e-04\n",
      "  1.73323668e-03  1.78372018e-03 -8.38942492e-04  2.95160394e-04\n",
      "  6.49617296e-04  7.74310778e-04 -2.64705425e-03 -5.54077491e-04\n",
      "  2.63906223e-03  6.72673842e-04  2.59257692e-03  1.68336656e-03\n",
      " -2.96821651e-03  2.32554951e-03 -2.17383965e-04 -1.13563769e-04\n",
      " -1.43358308e-03  1.89017426e-05 -1.03834007e-03 -4.89905037e-04\n",
      "  1.47608743e-03 -3.00433254e-03 -1.10989748e-04 -1.41725536e-03\n",
      " -2.08065047e-03 -3.90613249e-04  2.56387223e-03  5.17512205e-04\n",
      "  2.47513696e-04 -2.80439832e-04  3.06866888e-03 -3.62067285e-03\n",
      "  6.57276009e-04 -1.31230059e-03  2.10696281e-03 -1.37129888e-03\n",
      "  2.13282514e-03 -2.70946180e-03 -2.50694048e-03  1.93030382e-03\n",
      "  5.70298174e-03 -6.27961840e-03 -7.35929636e-04 -2.63089763e-04\n",
      "  9.06034067e-04  3.82634972e-04 -5.73459323e-04 -1.83320281e-03\n",
      "  1.44563224e-03  1.51446183e-03  3.33419581e-05 -1.54233509e-03\n",
      "  4.73282814e-04  4.28954214e-04 -1.46466453e-03 -2.25595773e-03\n",
      "  1.22024741e-03  1.48898669e-03 -2.52469701e-03 -2.73364342e-03\n",
      " -1.12118287e-03 -5.59904662e-03  5.59958686e-03  9.13777379e-05\n",
      " -3.67437509e-03 -1.49338532e-03 -9.93934075e-04 -5.25638845e-03\n",
      "  3.58140517e-03 -1.00119963e-03 -1.66771772e-03 -2.05840003e-03\n",
      " -6.10517328e-04 -2.87583362e-03  2.06916258e-04  2.74720648e-03\n",
      " -5.27783454e-04  2.35131431e-03  3.29665816e-04 -2.72721614e-03\n",
      " -4.54864989e-04 -9.54277181e-05  1.32618184e-03 -9.51602612e-04\n",
      " -3.93834297e-04  6.72985807e-04 -1.12446382e-05  2.90396148e-04\n",
      " -8.15955334e-04  1.09510684e-03 -2.12182664e-03 -3.11446850e-04\n",
      " -5.79016416e-04 -4.19459518e-04  4.50409336e-04 -1.55637634e-03\n",
      "  1.16857170e-03  8.94827003e-04 -9.23405068e-04  1.43042743e-03\n",
      "  2.35478352e-03 -1.84776115e-03 -3.39975028e-03  3.90677264e-03\n",
      "  1.35823942e-02 -7.12625470e-03 -1.87750404e-02  1.03030883e-03\n",
      " -6.71751508e-03  2.44035393e-03  6.15673697e-03  5.16435118e-03\n",
      " -3.28477536e-03 -1.09707768e-03  2.97665350e-03  3.77427127e-03\n",
      " -1.89469545e-03 -1.17722762e-02  3.17664449e-02  2.05875717e-03\n",
      "  1.72992222e-02 -7.04372444e-03 -6.05039713e-03 -1.10244143e-03\n",
      "  5.30754211e-03  4.06492786e-03  1.40172821e-04 -2.94013149e-03\n",
      "  7.14523217e-03 -5.86432492e-03 -3.85418708e-03 -6.93792684e-03\n",
      "  3.52089873e-04  1.37785474e-03 -3.40039354e-03 -1.80758869e-03\n",
      " -6.15727470e-03  9.49292464e-04 -6.02019213e-04 -4.60596302e-03\n",
      "  6.62854279e-04 -1.66078445e-03  3.16627859e-03 -4.98782518e-04\n",
      "  2.92269171e-04  7.14442450e-04  2.03058030e-03 -1.02386867e-03\n",
      " -6.26244708e-04  1.63295633e-03  4.51916446e-02  0.00000000e+00\n",
      "  0.00000000e+00  2.90329865e-02  1.61586580e-02  1.81048290e-02\n",
      "  2.70868156e-02  2.42302538e-02  2.09613908e-02  4.06215955e-02\n",
      "  0.00000000e+00  1.75019290e-02  2.31196665e-02  2.10566733e-02\n",
      "  1.95649222e-02  2.37277941e-02  1.68938014e-02  4.78976922e-02\n",
      "  2.79685638e-02  1.99291284e-02  1.94713273e-02  2.84263649e-02\n",
      "  2.38848509e-02  2.40128413e-02  7.45034793e-02  0.00000000e+00\n",
      "  5.86328296e-02  1.58706497e-02  3.75190647e-02  3.69844146e-02\n",
      "  5.92074530e-02  0.00000000e+00  5.92074530e-02  3.43238341e-02\n",
      "  2.48836189e-02  5.86328296e-02  0.00000000e+00  3.17620407e-02\n",
      "  2.68707888e-02  7.50781027e-02  4.00808580e-02  3.49972447e-02\n",
      "  7.18428988e-02  0.00000000e+00  6.18680335e-02]\n",
      "After:\n",
      "[ 3.49828350e-03  2.00374983e-02  9.44766132e-04 -1.52453777e-03\n",
      " -5.84910776e-04 -1.03440342e-03 -2.66153735e-03  2.79318236e-04\n",
      "  5.03587424e-04  1.83047476e-03  4.21479490e-03 -5.16212690e-03\n",
      "  1.00546062e-03  6.12063456e-04 -3.93452343e-03  3.32246127e-03\n",
      " -3.95118858e-05  3.95062386e-05 -5.34581841e-04  5.34581958e-04\n",
      "  4.98085663e-03 -4.98085718e-03  5.81392103e-04 -3.64485735e-03\n",
      "  5.02203697e-04  6.51945703e-04 -1.03225894e-03  8.15682774e-04\n",
      "  1.27488030e-03  1.37096451e-05 -1.20285164e-03 -1.89906727e-03\n",
      " -5.59427581e-04 -7.85060076e-05  1.96510478e-03  5.73466510e-04\n",
      "  2.60849500e-03  3.16321992e-04  1.11623368e-03  2.38204982e-03\n",
      "  1.63370106e-03  1.86458244e-03 -2.02682738e-03  5.52511088e-03\n",
      " -1.48971766e-02  5.01655179e-04  9.96500622e-04 -5.76172871e-03\n",
      "  1.24374140e-04  7.10533834e-03  3.68591747e-04  2.92949912e-03\n",
      " -3.78723711e-03 -1.81393145e-03  3.13806830e-03  2.59693246e-05\n",
      "  5.30840679e-03  9.20828126e-03  5.52081022e-03  1.04834063e-02\n",
      "  9.55409199e-03  1.14699378e-02  8.56756048e-03  7.11002455e-03\n",
      "  1.29274737e-02  4.59949549e-04 -5.44749993e-04  5.31406591e-04\n",
      " -8.05180264e-04  2.36920261e-04 -3.57187504e-04  5.26264747e-04\n",
      "  2.92437698e-03 -9.65154768e-04 -2.40448567e-03 -4.57457476e-04\n",
      " -1.79899387e-03  4.34354369e-03 -1.59978369e-03 -7.86826972e-04\n",
      "  1.73159310e-03  1.78255252e-03 -8.37786390e-04  2.92066171e-04\n",
      "  6.52699961e-04  7.72149766e-04 -2.64352053e-03 -5.54916064e-04\n",
      "  2.63952614e-03  6.73757493e-04  2.59302275e-03  1.66814826e-03\n",
      " -2.98066559e-03  2.35069629e-03 -2.15340512e-04 -1.04824037e-04\n",
      " -1.44301595e-03  2.33022155e-05 -1.03722194e-03 -4.87315828e-04\n",
      "  1.47704377e-03 -3.00158154e-03 -1.23886594e-04 -1.40065117e-03\n",
      " -2.07922532e-03 -3.90671180e-04  2.55798955e-03  5.17469133e-04\n",
      "  2.45068622e-04 -2.24237258e-04  2.99475119e-03 -3.60399174e-03\n",
      "  6.57595189e-04 -1.28820711e-03  2.04879721e-03 -1.34550087e-03\n",
      "  2.12072358e-03 -2.70563436e-03 -2.50574999e-03  1.92083921e-03\n",
      "  5.69761652e-03 -6.28252729e-03 -7.35231241e-04 -2.61064237e-04\n",
      "  9.06552569e-04  3.81473794e-04 -5.71443902e-04 -1.82975689e-03\n",
      "  1.44240527e-03  1.51271806e-03  3.36954185e-05 -1.54033183e-03\n",
      "  4.72232990e-04  4.29798611e-04 -1.46420202e-03 -2.25109681e-03\n",
      "  1.21669339e-03  1.48886484e-03 -2.52326825e-03 -2.73202993e-03\n",
      " -1.12196253e-03 -5.59815823e-03  5.61113126e-03  1.14310557e-04\n",
      " -3.70956654e-03 -1.49300186e-03 -1.01707488e-03 -5.21022530e-03\n",
      "  3.56576283e-03 -9.93731713e-04 -1.66780563e-03 -2.05759115e-03\n",
      " -6.03946195e-04 -2.86820512e-03  2.06667771e-04  2.74848928e-03\n",
      " -5.28178661e-04  2.36355032e-03  3.02636115e-04 -2.71034693e-03\n",
      " -4.55180863e-04 -9.64115450e-05  1.32354909e-03 -9.47819314e-04\n",
      " -3.95201390e-04  6.74519625e-04 -9.87429250e-06  2.89192528e-04\n",
      " -8.15395057e-04  1.09471329e-03 -2.12078723e-03 -3.13397261e-04\n",
      " -5.46612852e-04 -4.49639045e-04  4.47970021e-04 -1.55989959e-03\n",
      "  1.16680299e-03  8.96684027e-04 -9.15356581e-04  1.41894400e-03\n",
      "  2.34866776e-03 -1.84508033e-03 -3.39258513e-03  3.89617255e-03\n",
      "  1.34754193e-02 -7.65739737e-03 -1.80378093e-02  1.07681209e-03\n",
      " -6.52136842e-03  2.10616168e-03  6.24568150e-03  5.00318820e-03\n",
      " -3.17271337e-03 -1.01773612e-03  2.84821090e-03  3.66900838e-03\n",
      " -1.83853360e-03 -1.09929503e-02  3.07600042e-02  1.96010327e-03\n",
      "  1.70415683e-02 -6.60745909e-03 -6.21931436e-03 -8.35375747e-04\n",
      "  5.05017052e-03  3.87414241e-03  3.40652522e-04 -2.73127787e-03\n",
      "  6.94607277e-03 -5.73427297e-03 -3.80084618e-03 -6.88449293e-03\n",
      "  2.74422915e-04  1.44794296e-03 -3.50568445e-03 -1.65644247e-03\n",
      " -6.03707436e-03  8.74947423e-04 -6.99519136e-04 -4.46260779e-03\n",
      "  6.62838132e-04 -1.64952694e-03  3.13853495e-03 -4.83547393e-04\n",
      "  2.86142019e-04  7.19318599e-04  2.03365697e-03 -1.02819636e-03\n",
      " -6.37939515e-04  1.64340013e-03  6.12063020e-04  0.00000000e+00\n",
      "  0.00000000e+00  4.04770607e-03 -3.43564304e-03 -1.50546589e-03\n",
      "  2.11752891e-03  1.96730039e-03 -1.35523737e-03 -3.93452387e-03\n",
      "  0.00000000e+00 -7.05384216e-03  3.11931829e-03  1.08884775e-03\n",
      " -5.02337162e-03  1.40911277e-03 -5.34363663e-03  3.32246084e-03\n",
      "  2.96662702e-03  3.55833814e-04 -1.17963763e-04  3.44042460e-03\n",
      "  1.60444376e-03  1.71801709e-03 -3.95090695e-05  0.00000000e+00\n",
      " -5.34581897e-04  4.95072841e-04  2.55595019e-04 -2.95104082e-04\n",
      "  3.95090580e-05  0.00000000e+00  3.95090595e-05  4.72526189e-03\n",
      " -4.68575283e-03 -5.34581902e-04  0.00000000e+00  2.17471192e-03\n",
      " -2.70929382e-03  5.34581894e-04  2.80614499e-03 -2.27156309e-03\n",
      "  4.98085691e-03  0.00000000e+00 -4.98085692e-03]\n",
      "Difference:\n",
      "[-1.89921780e-07 -1.08333057e-05 -1.15577266e-08  3.70733839e-06\n",
      " -8.27411387e-06  1.30689665e-06  7.38001130e-06  1.66726499e-07\n",
      " -3.43493893e-06 -4.91010607e-05  9.69422200e-06  4.58553353e-05\n",
      " -1.25100436e-06 -4.45795811e-02 -4.45561189e-02 -4.45752309e-02\n",
      " -7.45429912e-02 -5.91679467e-02 -5.91674114e-02 -7.45435207e-02\n",
      " -6.68620421e-02 -6.68488907e-02 -4.88882038e-08  7.05525551e-06\n",
      " -1.20469782e-06 -1.39320677e-06  5.02881671e-06 -2.12023232e-06\n",
      " -5.16603637e-06 -6.83724508e-07 -5.62994309e-06  4.48901913e-05\n",
      " -7.66312941e-05  3.47440516e-05  1.77457382e-06  5.75835080e-06\n",
      " -1.63658776e-05  1.04176064e-05  8.84195540e-07 -1.07411655e-06\n",
      "  5.53830052e-08 -2.45304363e-07 -1.55492433e-06  1.36500290e-06\n",
      "  6.57681208e-07 -4.68894040e-07 -2.96493143e-07  5.58351706e-06\n",
      " -4.67003355e-07 -5.39223590e-06 -1.18290476e-06 -8.63582540e-07\n",
      "  1.83769873e-05 -3.17095096e-05  1.25917885e-05 -4.82788679e-06\n",
      "  1.55336988e-05 -4.20802459e-05  1.57132422e-05  1.81164860e-06\n",
      " -1.26449531e-05 -1.52042219e-05  4.37091514e-06  3.77858912e-06\n",
      " -1.46118962e-05  1.39148920e-06 -2.61107963e-07 -5.62873189e-07\n",
      " -1.08937726e-06  5.10772824e-07  9.47735303e-07  8.64757606e-07\n",
      "  8.69541416e-08  7.70555041e-06 -8.20409592e-06  2.15090779e-06\n",
      "  2.04707127e-06 -8.15811323e-06  6.09948382e-06  1.63202100e-06\n",
      " -1.64357929e-06 -1.16765953e-06  1.15610162e-06 -3.09422301e-06\n",
      "  3.08266491e-06 -2.16101225e-06  3.53371696e-06 -8.38573566e-07\n",
      "  4.63904971e-07  1.08365095e-06  4.45828699e-07 -1.52183090e-05\n",
      " -1.24490758e-05  2.51467808e-05  2.04345329e-06  8.73973215e-06\n",
      " -9.43286923e-06  4.40047293e-06  1.11813045e-06  2.58920912e-06\n",
      "  9.56340535e-07  2.75100300e-06 -1.28968463e-05  1.66041899e-05\n",
      "  1.42515333e-06 -5.79303796e-08 -5.88268003e-06 -4.30713608e-08\n",
      " -2.44507438e-06  5.62025748e-05 -7.39176927e-05  1.66811023e-05\n",
      "  3.19179492e-07  2.40934746e-05 -5.81655993e-05  2.57980100e-05\n",
      " -1.21015588e-05  3.82744359e-06  1.19049589e-06 -9.46461092e-06\n",
      " -5.36522205e-06 -2.90889119e-06  6.98394303e-07  2.02552505e-06\n",
      "  5.18501168e-07 -1.16117793e-06  2.01542090e-06  3.44592256e-06\n",
      " -3.22697049e-06 -1.74377674e-06  3.53460401e-07  2.00325952e-06\n",
      " -1.04982348e-06  8.44397151e-07  4.62504840e-07  4.86092140e-06\n",
      " -3.55402535e-06 -1.21855054e-07  1.42875690e-06  1.61349322e-06\n",
      " -7.79664073e-07  8.88382105e-07  1.15443982e-05  2.29328189e-05\n",
      " -3.51914460e-05  3.83459095e-07 -2.31408025e-05  4.61631479e-05\n",
      " -1.56423330e-05  7.46792119e-06 -8.79091568e-08  8.08878870e-07\n",
      "  6.57113265e-06  7.62849839e-06 -2.48486192e-07  1.28280255e-06\n",
      " -3.95206551e-07  1.22360106e-05 -2.70297011e-05  1.68692102e-05\n",
      " -3.15874460e-07 -9.83826920e-07 -2.63274529e-06  3.78329829e-06\n",
      " -1.36709256e-06  1.53381822e-06  1.37034569e-06 -1.20361976e-06\n",
      "  5.60277461e-07 -3.93551344e-07  1.03940855e-06 -1.95041095e-06\n",
      "  3.24035644e-05 -3.01795271e-05 -2.43931535e-06 -3.52324419e-06\n",
      " -1.76871768e-06  1.85702435e-06  8.04848630e-06 -1.14834259e-05\n",
      " -6.11576157e-06  2.68082267e-06  7.16514764e-06 -1.06000856e-05\n",
      " -1.06974865e-04 -5.31142678e-04  7.37231077e-04  4.65032564e-05\n",
      "  1.96146655e-04 -3.34192244e-04  8.89445285e-05 -1.61162982e-04\n",
      "  1.12061983e-04  7.93415567e-05 -1.28442602e-04 -1.05262892e-04\n",
      "  5.61618532e-05  7.79325868e-04 -1.00644069e-03 -9.86538998e-05\n",
      " -2.57653940e-04  4.36265352e-04 -1.68917232e-04  2.67065683e-04\n",
      " -2.57371586e-04 -1.90785450e-04  2.00479701e-04  2.08853615e-04\n",
      " -1.99159398e-04  1.30051944e-04  5.33409016e-05  5.34339138e-05\n",
      " -7.76669571e-05  7.00882166e-05 -1.05290906e-04  1.51146220e-04\n",
      "  1.20200337e-04 -7.43450412e-05 -9.74999226e-05  1.43355225e-04\n",
      " -1.61465833e-08  1.12575136e-05 -2.77436437e-05  1.52351249e-05\n",
      " -6.12715268e-06  4.87614953e-06  3.07667774e-06 -4.32768423e-06\n",
      " -1.16948063e-05  1.04438020e-05 -4.45795816e-02  0.00000000e+00\n",
      "  0.00000000e+00 -2.49852805e-02 -1.95943011e-02 -1.96102949e-02\n",
      " -2.49692867e-02 -2.22629534e-02 -2.23166281e-02 -4.45561194e-02\n",
      "  0.00000000e+00 -2.45557711e-02 -2.00003483e-02 -1.99678256e-02\n",
      " -2.45882938e-02 -2.23186813e-02 -2.22374381e-02 -4.45752313e-02\n",
      " -2.50019368e-02 -1.95732946e-02 -1.95892910e-02 -2.49859403e-02\n",
      " -2.22804071e-02 -2.22948242e-02 -7.45429884e-02  0.00000000e+00\n",
      " -5.91674115e-02 -1.53755769e-02 -3.72634697e-02 -3.72795187e-02\n",
      " -5.91679439e-02  0.00000000e+00 -5.91679439e-02 -2.95985722e-02\n",
      " -2.95693717e-02 -5.91674115e-02  0.00000000e+00 -2.95873288e-02\n",
      " -2.95800827e-02 -7.45435208e-02 -3.72747130e-02 -3.72688077e-02\n",
      " -6.68620418e-02  0.00000000e+00 -6.68488904e-02]\n"
     ]
    }
   ],
   "source": [
    "print(\"Before:\")\n",
    "weights_before = spotify_model_pipelines['custom_linReg'].steps[1][1].coef_\n",
    "print(weights_before)\n",
    "print(\"After:\")\n",
    "weights_after = spotify_model_pipelines_with_reg['custom_L1'].steps[1][1].coef_\n",
    "print(weights_after)\n",
    "print(\"Difference:\")\n",
    "print(weights_after - weights_before)"
   ]
  },
  {
   "cell_type": "markdown",
   "id": "ff92f74d82b9a497",
   "metadata": {},
   "source": [
    "Training results"
   ]
  },
  {
   "cell_type": "code",
   "execution_count": 83,
   "id": "1aa7bba9feeec2b3",
   "metadata": {
    "ExecuteTime": {
     "end_time": "2025-05-17T12:31:08.021298100Z",
     "start_time": "2025-05-15T10:35:42.091809Z"
    }
   },
   "outputs": [
    {
     "name": "stdout",
     "output_type": "stream",
     "text": [
      "Model: custom_L1\n",
      "MSE: 0.00164633\n",
      "Score: 0.755408\n",
      "------------------------------------------\n",
      "Model: L1Reg\n",
      "MSE: 0.00164633\n",
      "Score: 0.755408\n",
      "------------------------------------------\n",
      "Model: L2Reg\n",
      "MSE: 0.00673185\n",
      "Score: 0.0\n",
      "------------------------------------------\n",
      "Model: sgdRegL1\n",
      "MSE: 0.00673279\n",
      "Score: -0.000142045\n",
      "------------------------------------------\n",
      "Model: sgdRegL2\n",
      "MSE: 0.0021217\n",
      "Score: 0.684863\n",
      "------------------------------------------\n"
     ]
    }
   ],
   "source": [
    "print_k_fold_results(spotify_model_pipelines_with_reg, training_results_with_reg, print_test=False)"
   ]
  },
  {
   "cell_type": "markdown",
   "id": "32cc7d59ad32f604",
   "metadata": {},
   "source": [
    "Test results"
   ]
  },
  {
   "cell_type": "code",
   "execution_count": 84,
   "id": "4a5fa2a6d02bb654",
   "metadata": {
    "ExecuteTime": {
     "end_time": "2025-05-17T12:31:08.021298100Z",
     "start_time": "2025-05-15T10:35:46.374371Z"
    }
   },
   "outputs": [
    {
     "name": "stdout",
     "output_type": "stream",
     "text": [
      "Model: custom_L1\n",
      "MSE: 0.00171481\n",
      "Score: 0.745047\n",
      "------------------------------------------\n",
      "Model: L1Reg\n",
      "MSE: 0.00171481\n",
      "Score: 0.745047\n",
      "------------------------------------------\n",
      "Model: L2Reg\n",
      "MSE: 0.00673588\n",
      "Score: -0.000882451\n",
      "------------------------------------------\n",
      "Model: sgdRegL1\n",
      "MSE: 0.00673351\n",
      "Score: -0.000546611\n",
      "------------------------------------------\n",
      "Model: sgdRegL2\n",
      "MSE: 0.00216187\n",
      "Score: 0.678562\n",
      "------------------------------------------\n"
     ]
    }
   ],
   "source": [
    "print_k_fold_results(spotify_model_pipelines_with_reg, training_results_with_reg, print_test=True)"
   ]
  },
  {
   "cell_type": "markdown",
   "id": "b1226147d10c379d",
   "metadata": {},
   "source": [
    "#### Hyperparameter tuning\n",
    "Choosing the best performing models (Ridge regression, SGD) for parameter tuning. RF regressor and GradientBoost regressor skipped due to very high computional cost."
   ]
  },
  {
   "cell_type": "code",
   "execution_count": 90,
   "id": "e6911c885f3b3a42",
   "metadata": {
    "ExecuteTime": {
     "end_time": "2025-05-17T12:31:08.021298100Z",
     "start_time": "2025-05-15T11:30:22.245902Z"
    }
   },
   "outputs": [],
   "source": [
    "X_trans_train= spotify_preprocessor.fit_transform(X=X_train)\n",
    "scorer = make_scorer(mean_squared_error, greater_is_better=False)\n",
    "\n",
    "def grid_search_cv(model_name, config, random_search):\n",
    "    print(f\"GridSearchCV for {model_name}\")\n",
    "    if random_search:\n",
    "        grid_search = RandomizedSearchCV(\n",
    "            estimator=config['model'],\n",
    "            param_distributions=config['params'],\n",
    "            n_iter=55,\n",
    "            scoring=scorer,\n",
    "            cv=5,\n",
    "            n_jobs=-1,\n",
    "            random_state=42,\n",
    "            verbose=1\n",
    "        )\n",
    "    else:\n",
    "        grid_search = GridSearchCV(\n",
    "            estimator=config['model'],\n",
    "            param_grid=config['params'],\n",
    "            scoring=scorer,\n",
    "            cv=5,\n",
    "            n_jobs=-1,\n",
    "            verbose=10,\n",
    "        )\n",
    "    grid_search.fit(X_trans_train, y_train)\n",
    "\n",
    "    print(f\"Best parameters for {model_name}:\")\n",
    "    param_list = []\n",
    "    for param_name, param_value in grid_search.best_params_.items():\n",
    "        param_list.append(f\"{param_name}={param_value}\")\n",
    "    print(f\"{model_name}(\" + \", \".join(param_list) + \")\")\n",
    "    print(f\"Best score for {model_name}: {grid_search.best_score_}\")\n"
   ]
  },
  {
   "cell_type": "markdown",
   "id": "6ca715d1b0acb08d",
   "metadata": {},
   "source": [
    "GridSearchCV for Ridge regression"
   ]
  },
  {
   "cell_type": "code",
   "execution_count": 86,
   "id": "b0dbd1d76ff34db2",
   "metadata": {
    "ExecuteTime": {
     "end_time": "2025-05-17T12:31:08.021298100Z",
     "start_time": "2025-05-15T10:38:34.723451Z"
    }
   },
   "outputs": [
    {
     "name": "stdout",
     "output_type": "stream",
     "text": [
      "GridSearchCV for Ridge\n",
      "Fitting 5 folds for each of 55 candidates, totalling 275 fits\n",
      "Best parameters for Ridge:\n",
      "Ridge(alpha=15.741890047456648)\n",
      "Best score for Ridge: -0.001706411672508681\n"
     ]
    }
   ],
   "source": [
    "ridge_conf = {\n",
    "    'model': Ridge(random_state=42, tol=tol),\n",
    "    'params': {\n",
    "        'alpha': loguniform(0.0001, 100)\n",
    "    }\n",
    "}\n",
    "grid_search_cv('Ridge', ridge_conf, True)"
   ]
  },
  {
   "cell_type": "markdown",
   "id": "8238e12c0f619150",
   "metadata": {},
   "source": [
    "GridSearchCV for SGD"
   ]
  },
  {
   "cell_type": "code",
   "execution_count": 88,
   "id": "686030b971328846",
   "metadata": {
    "ExecuteTime": {
     "end_time": "2025-05-17T12:31:08.021298100Z",
     "start_time": "2025-05-15T10:32:14.715170Z"
    }
   },
   "outputs": [
    {
     "name": "stdout",
     "output_type": "stream",
     "text": [
      "GridSearchCV for SGDRegressor\n",
      "Fitting 5 folds for each of 55 candidates, totalling 275 fits\n",
      "Best parameters for SGDRegressor:\n",
      "SGDRegressor(alpha=0.00010792764548678457, learning_rate=invscaling, penalty=elasticnet)\n",
      "Best score for SGDRegressor: -0.0017687449450905983\n"
     ]
    }
   ],
   "source": [
    "sgd_conf = {\n",
    "    'model': SGDRegressor(random_state=42, tol=tol, max_iter=5000),\n",
    "    'params': {\n",
    "        'alpha': loguniform(0.0001, 100),\n",
    "        'penalty': ['l2', 'l1', 'elasticnet', None],\n",
    "        'learning_rate': ['constant', 'optimal', 'invscaling', 'adaptive']\n",
    "    }\n",
    "}\n",
    "grid_search_cv('SGDRegressor', sgd_conf, True)"
   ]
  },
  {
   "cell_type": "markdown",
   "id": "a477ed8cef53799c",
   "metadata": {},
   "source": [
    "### Ensemble methods\n",
    "\n",
    "Chosen best performing models (Ridge regression, SGD, RF regressor, GB regressor) with optimal parameters deducted by the GridSearchCV or the default ones. Alpha parameters are rounded up to six decimal places."
   ]
  },
  {
   "cell_type": "code",
   "id": "5ceacf61c42aea34",
   "metadata": {
    "ExecuteTime": {
     "end_time": "2025-05-17T12:31:08.021298100Z",
     "start_time": "2025-05-17T12:09:03.358635Z"
    }
   },
   "source": [
    "best_ridge = Ridge(alpha=15.741890, random_state=42)\n",
    "best_sgd = SGDRegressor(alpha=np.float64(0.000108), learning_rate='invscaling', penalty='elasticnet', max_iter=5000, random_state=42)\n",
    "best_rf = RandomForestRegressor(random_state=42, n_jobs=-1)\n",
    "best_gb = GradientBoostingRegressor(random_state=42)"
   ],
   "outputs": [],
   "execution_count": 24
  },
  {
   "cell_type": "markdown",
   "id": "d573da68262e14e7",
   "metadata": {},
   "source": [
    "#### Stacking regressor"
   ]
  },
  {
   "cell_type": "code",
   "id": "2f011b2e9e3f8a",
   "metadata": {
    "ExecuteTime": {
     "end_time": "2025-05-17T12:31:08.021298100Z",
     "start_time": "2025-05-17T12:09:06.726864Z"
    }
   },
   "source": [
    "stacker = StackingRegressor(estimators=[\n",
    "    ('ridge', best_ridge),\n",
    "    ('sgd', best_sgd),\n",
    "    ('rf', best_rf),\n",
    "    ('gb', best_gb)\n",
    "], n_jobs=-1)\n",
    "stacking_pipeline = Pipeline(steps=[\n",
    "    ('preprocessor', spotify_preprocessor),\n",
    "    ('regressor', stacker)\n",
    "])"
   ],
   "outputs": [],
   "execution_count": 25
  },
  {
   "cell_type": "markdown",
   "id": "9284cb51bdf6607e",
   "metadata": {},
   "source": [
    "Train the stacking regressor"
   ]
  },
  {
   "cell_type": "code",
   "id": "f8c3d461220121e4",
   "metadata": {
    "ExecuteTime": {
     "end_time": "2025-05-17T14:33:14.763106Z",
     "start_time": "2025-05-17T14:18:57.632927Z"
    }
   },
   "source": [
    "stacking_pipeline.fit(X_train, y_train)"
   ],
   "outputs": [
    {
     "data": {
      "text/plain": [
       "Pipeline(steps=[('preprocessor',\n",
       "                 Pipeline(steps=[('column',\n",
       "                                  ColumnTransformer(transformers=[('numeric',\n",
       "                                                                   Pipeline(steps=[('imputer',\n",
       "                                                                                    SimpleImputer(strategy='median')),\n",
       "                                                                                   ('scaler',\n",
       "                                                                                    StandardScaler())]),\n",
       "                                                                   ['Danceability',\n",
       "                                                                    'Energy',\n",
       "                                                                    'Key',\n",
       "                                                                    'Speechiness',\n",
       "                                                                    'Acousticness',\n",
       "                                                                    'Liveness',\n",
       "                                                                    'Valence',\n",
       "                                                                    'Tempo',\n",
       "                                                                    'Duration_ms',\n",
       "                                                                    'Views',\n",
       "                                                                    'Likes',\n",
       "                                                                    'Comments',\n",
       "                                                                    'Stream']),\n",
       "                                                                  ('categorical',\n",
       "                                                                   Pi...\n",
       "                                  PolynomialFeatures(include_bias=False))])),\n",
       "                ('regressor',\n",
       "                 StackingRegressor(estimators=[('ridge',\n",
       "                                                Ridge(alpha=15.74189,\n",
       "                                                      random_state=42)),\n",
       "                                               ('sgd',\n",
       "                                                SGDRegressor(alpha=np.float64(0.000108),\n",
       "                                                             max_iter=5000,\n",
       "                                                             penalty='elasticnet',\n",
       "                                                             random_state=42)),\n",
       "                                               ('rf',\n",
       "                                                RandomForestRegressor(n_jobs=-1,\n",
       "                                                                      random_state=42)),\n",
       "                                               ('gb',\n",
       "                                                GradientBoostingRegressor(random_state=42))],\n",
       "                                   n_jobs=-1))])"
      ],
      "text/html": [
       "<style>#sk-container-id-1 {\n",
       "  /* Definition of color scheme common for light and dark mode */\n",
       "  --sklearn-color-text: #000;\n",
       "  --sklearn-color-text-muted: #666;\n",
       "  --sklearn-color-line: gray;\n",
       "  /* Definition of color scheme for unfitted estimators */\n",
       "  --sklearn-color-unfitted-level-0: #fff5e6;\n",
       "  --sklearn-color-unfitted-level-1: #f6e4d2;\n",
       "  --sklearn-color-unfitted-level-2: #ffe0b3;\n",
       "  --sklearn-color-unfitted-level-3: chocolate;\n",
       "  /* Definition of color scheme for fitted estimators */\n",
       "  --sklearn-color-fitted-level-0: #f0f8ff;\n",
       "  --sklearn-color-fitted-level-1: #d4ebff;\n",
       "  --sklearn-color-fitted-level-2: #b3dbfd;\n",
       "  --sklearn-color-fitted-level-3: cornflowerblue;\n",
       "\n",
       "  /* Specific color for light theme */\n",
       "  --sklearn-color-text-on-default-background: var(--sg-text-color, var(--theme-code-foreground, var(--jp-content-font-color1, black)));\n",
       "  --sklearn-color-background: var(--sg-background-color, var(--theme-background, var(--jp-layout-color0, white)));\n",
       "  --sklearn-color-border-box: var(--sg-text-color, var(--theme-code-foreground, var(--jp-content-font-color1, black)));\n",
       "  --sklearn-color-icon: #696969;\n",
       "\n",
       "  @media (prefers-color-scheme: dark) {\n",
       "    /* Redefinition of color scheme for dark theme */\n",
       "    --sklearn-color-text-on-default-background: var(--sg-text-color, var(--theme-code-foreground, var(--jp-content-font-color1, white)));\n",
       "    --sklearn-color-background: var(--sg-background-color, var(--theme-background, var(--jp-layout-color0, #111)));\n",
       "    --sklearn-color-border-box: var(--sg-text-color, var(--theme-code-foreground, var(--jp-content-font-color1, white)));\n",
       "    --sklearn-color-icon: #878787;\n",
       "  }\n",
       "}\n",
       "\n",
       "#sk-container-id-1 {\n",
       "  color: var(--sklearn-color-text);\n",
       "}\n",
       "\n",
       "#sk-container-id-1 pre {\n",
       "  padding: 0;\n",
       "}\n",
       "\n",
       "#sk-container-id-1 input.sk-hidden--visually {\n",
       "  border: 0;\n",
       "  clip: rect(1px 1px 1px 1px);\n",
       "  clip: rect(1px, 1px, 1px, 1px);\n",
       "  height: 1px;\n",
       "  margin: -1px;\n",
       "  overflow: hidden;\n",
       "  padding: 0;\n",
       "  position: absolute;\n",
       "  width: 1px;\n",
       "}\n",
       "\n",
       "#sk-container-id-1 div.sk-dashed-wrapped {\n",
       "  border: 1px dashed var(--sklearn-color-line);\n",
       "  margin: 0 0.4em 0.5em 0.4em;\n",
       "  box-sizing: border-box;\n",
       "  padding-bottom: 0.4em;\n",
       "  background-color: var(--sklearn-color-background);\n",
       "}\n",
       "\n",
       "#sk-container-id-1 div.sk-container {\n",
       "  /* jupyter's `normalize.less` sets `[hidden] { display: none; }`\n",
       "     but bootstrap.min.css set `[hidden] { display: none !important; }`\n",
       "     so we also need the `!important` here to be able to override the\n",
       "     default hidden behavior on the sphinx rendered scikit-learn.org.\n",
       "     See: https://github.com/scikit-learn/scikit-learn/issues/21755 */\n",
       "  display: inline-block !important;\n",
       "  position: relative;\n",
       "}\n",
       "\n",
       "#sk-container-id-1 div.sk-text-repr-fallback {\n",
       "  display: none;\n",
       "}\n",
       "\n",
       "div.sk-parallel-item,\n",
       "div.sk-serial,\n",
       "div.sk-item {\n",
       "  /* draw centered vertical line to link estimators */\n",
       "  background-image: linear-gradient(var(--sklearn-color-text-on-default-background), var(--sklearn-color-text-on-default-background));\n",
       "  background-size: 2px 100%;\n",
       "  background-repeat: no-repeat;\n",
       "  background-position: center center;\n",
       "}\n",
       "\n",
       "/* Parallel-specific style estimator block */\n",
       "\n",
       "#sk-container-id-1 div.sk-parallel-item::after {\n",
       "  content: \"\";\n",
       "  width: 100%;\n",
       "  border-bottom: 2px solid var(--sklearn-color-text-on-default-background);\n",
       "  flex-grow: 1;\n",
       "}\n",
       "\n",
       "#sk-container-id-1 div.sk-parallel {\n",
       "  display: flex;\n",
       "  align-items: stretch;\n",
       "  justify-content: center;\n",
       "  background-color: var(--sklearn-color-background);\n",
       "  position: relative;\n",
       "}\n",
       "\n",
       "#sk-container-id-1 div.sk-parallel-item {\n",
       "  display: flex;\n",
       "  flex-direction: column;\n",
       "}\n",
       "\n",
       "#sk-container-id-1 div.sk-parallel-item:first-child::after {\n",
       "  align-self: flex-end;\n",
       "  width: 50%;\n",
       "}\n",
       "\n",
       "#sk-container-id-1 div.sk-parallel-item:last-child::after {\n",
       "  align-self: flex-start;\n",
       "  width: 50%;\n",
       "}\n",
       "\n",
       "#sk-container-id-1 div.sk-parallel-item:only-child::after {\n",
       "  width: 0;\n",
       "}\n",
       "\n",
       "/* Serial-specific style estimator block */\n",
       "\n",
       "#sk-container-id-1 div.sk-serial {\n",
       "  display: flex;\n",
       "  flex-direction: column;\n",
       "  align-items: center;\n",
       "  background-color: var(--sklearn-color-background);\n",
       "  padding-right: 1em;\n",
       "  padding-left: 1em;\n",
       "}\n",
       "\n",
       "\n",
       "/* Toggleable style: style used for estimator/Pipeline/ColumnTransformer box that is\n",
       "clickable and can be expanded/collapsed.\n",
       "- Pipeline and ColumnTransformer use this feature and define the default style\n",
       "- Estimators will overwrite some part of the style using the `sk-estimator` class\n",
       "*/\n",
       "\n",
       "/* Pipeline and ColumnTransformer style (default) */\n",
       "\n",
       "#sk-container-id-1 div.sk-toggleable {\n",
       "  /* Default theme specific background. It is overwritten whether we have a\n",
       "  specific estimator or a Pipeline/ColumnTransformer */\n",
       "  background-color: var(--sklearn-color-background);\n",
       "}\n",
       "\n",
       "/* Toggleable label */\n",
       "#sk-container-id-1 label.sk-toggleable__label {\n",
       "  cursor: pointer;\n",
       "  display: flex;\n",
       "  width: 100%;\n",
       "  margin-bottom: 0;\n",
       "  padding: 0.5em;\n",
       "  box-sizing: border-box;\n",
       "  text-align: center;\n",
       "  align-items: start;\n",
       "  justify-content: space-between;\n",
       "  gap: 0.5em;\n",
       "}\n",
       "\n",
       "#sk-container-id-1 label.sk-toggleable__label .caption {\n",
       "  font-size: 0.6rem;\n",
       "  font-weight: lighter;\n",
       "  color: var(--sklearn-color-text-muted);\n",
       "}\n",
       "\n",
       "#sk-container-id-1 label.sk-toggleable__label-arrow:before {\n",
       "  /* Arrow on the left of the label */\n",
       "  content: \"▸\";\n",
       "  float: left;\n",
       "  margin-right: 0.25em;\n",
       "  color: var(--sklearn-color-icon);\n",
       "}\n",
       "\n",
       "#sk-container-id-1 label.sk-toggleable__label-arrow:hover:before {\n",
       "  color: var(--sklearn-color-text);\n",
       "}\n",
       "\n",
       "/* Toggleable content - dropdown */\n",
       "\n",
       "#sk-container-id-1 div.sk-toggleable__content {\n",
       "  max-height: 0;\n",
       "  max-width: 0;\n",
       "  overflow: hidden;\n",
       "  text-align: left;\n",
       "  /* unfitted */\n",
       "  background-color: var(--sklearn-color-unfitted-level-0);\n",
       "}\n",
       "\n",
       "#sk-container-id-1 div.sk-toggleable__content.fitted {\n",
       "  /* fitted */\n",
       "  background-color: var(--sklearn-color-fitted-level-0);\n",
       "}\n",
       "\n",
       "#sk-container-id-1 div.sk-toggleable__content pre {\n",
       "  margin: 0.2em;\n",
       "  border-radius: 0.25em;\n",
       "  color: var(--sklearn-color-text);\n",
       "  /* unfitted */\n",
       "  background-color: var(--sklearn-color-unfitted-level-0);\n",
       "}\n",
       "\n",
       "#sk-container-id-1 div.sk-toggleable__content.fitted pre {\n",
       "  /* unfitted */\n",
       "  background-color: var(--sklearn-color-fitted-level-0);\n",
       "}\n",
       "\n",
       "#sk-container-id-1 input.sk-toggleable__control:checked~div.sk-toggleable__content {\n",
       "  /* Expand drop-down */\n",
       "  max-height: 200px;\n",
       "  max-width: 100%;\n",
       "  overflow: auto;\n",
       "}\n",
       "\n",
       "#sk-container-id-1 input.sk-toggleable__control:checked~label.sk-toggleable__label-arrow:before {\n",
       "  content: \"▾\";\n",
       "}\n",
       "\n",
       "/* Pipeline/ColumnTransformer-specific style */\n",
       "\n",
       "#sk-container-id-1 div.sk-label input.sk-toggleable__control:checked~label.sk-toggleable__label {\n",
       "  color: var(--sklearn-color-text);\n",
       "  background-color: var(--sklearn-color-unfitted-level-2);\n",
       "}\n",
       "\n",
       "#sk-container-id-1 div.sk-label.fitted input.sk-toggleable__control:checked~label.sk-toggleable__label {\n",
       "  background-color: var(--sklearn-color-fitted-level-2);\n",
       "}\n",
       "\n",
       "/* Estimator-specific style */\n",
       "\n",
       "/* Colorize estimator box */\n",
       "#sk-container-id-1 div.sk-estimator input.sk-toggleable__control:checked~label.sk-toggleable__label {\n",
       "  /* unfitted */\n",
       "  background-color: var(--sklearn-color-unfitted-level-2);\n",
       "}\n",
       "\n",
       "#sk-container-id-1 div.sk-estimator.fitted input.sk-toggleable__control:checked~label.sk-toggleable__label {\n",
       "  /* fitted */\n",
       "  background-color: var(--sklearn-color-fitted-level-2);\n",
       "}\n",
       "\n",
       "#sk-container-id-1 div.sk-label label.sk-toggleable__label,\n",
       "#sk-container-id-1 div.sk-label label {\n",
       "  /* The background is the default theme color */\n",
       "  color: var(--sklearn-color-text-on-default-background);\n",
       "}\n",
       "\n",
       "/* On hover, darken the color of the background */\n",
       "#sk-container-id-1 div.sk-label:hover label.sk-toggleable__label {\n",
       "  color: var(--sklearn-color-text);\n",
       "  background-color: var(--sklearn-color-unfitted-level-2);\n",
       "}\n",
       "\n",
       "/* Label box, darken color on hover, fitted */\n",
       "#sk-container-id-1 div.sk-label.fitted:hover label.sk-toggleable__label.fitted {\n",
       "  color: var(--sklearn-color-text);\n",
       "  background-color: var(--sklearn-color-fitted-level-2);\n",
       "}\n",
       "\n",
       "/* Estimator label */\n",
       "\n",
       "#sk-container-id-1 div.sk-label label {\n",
       "  font-family: monospace;\n",
       "  font-weight: bold;\n",
       "  display: inline-block;\n",
       "  line-height: 1.2em;\n",
       "}\n",
       "\n",
       "#sk-container-id-1 div.sk-label-container {\n",
       "  text-align: center;\n",
       "}\n",
       "\n",
       "/* Estimator-specific */\n",
       "#sk-container-id-1 div.sk-estimator {\n",
       "  font-family: monospace;\n",
       "  border: 1px dotted var(--sklearn-color-border-box);\n",
       "  border-radius: 0.25em;\n",
       "  box-sizing: border-box;\n",
       "  margin-bottom: 0.5em;\n",
       "  /* unfitted */\n",
       "  background-color: var(--sklearn-color-unfitted-level-0);\n",
       "}\n",
       "\n",
       "#sk-container-id-1 div.sk-estimator.fitted {\n",
       "  /* fitted */\n",
       "  background-color: var(--sklearn-color-fitted-level-0);\n",
       "}\n",
       "\n",
       "/* on hover */\n",
       "#sk-container-id-1 div.sk-estimator:hover {\n",
       "  /* unfitted */\n",
       "  background-color: var(--sklearn-color-unfitted-level-2);\n",
       "}\n",
       "\n",
       "#sk-container-id-1 div.sk-estimator.fitted:hover {\n",
       "  /* fitted */\n",
       "  background-color: var(--sklearn-color-fitted-level-2);\n",
       "}\n",
       "\n",
       "/* Specification for estimator info (e.g. \"i\" and \"?\") */\n",
       "\n",
       "/* Common style for \"i\" and \"?\" */\n",
       "\n",
       ".sk-estimator-doc-link,\n",
       "a:link.sk-estimator-doc-link,\n",
       "a:visited.sk-estimator-doc-link {\n",
       "  float: right;\n",
       "  font-size: smaller;\n",
       "  line-height: 1em;\n",
       "  font-family: monospace;\n",
       "  background-color: var(--sklearn-color-background);\n",
       "  border-radius: 1em;\n",
       "  height: 1em;\n",
       "  width: 1em;\n",
       "  text-decoration: none !important;\n",
       "  margin-left: 0.5em;\n",
       "  text-align: center;\n",
       "  /* unfitted */\n",
       "  border: var(--sklearn-color-unfitted-level-1) 1pt solid;\n",
       "  color: var(--sklearn-color-unfitted-level-1);\n",
       "}\n",
       "\n",
       ".sk-estimator-doc-link.fitted,\n",
       "a:link.sk-estimator-doc-link.fitted,\n",
       "a:visited.sk-estimator-doc-link.fitted {\n",
       "  /* fitted */\n",
       "  border: var(--sklearn-color-fitted-level-1) 1pt solid;\n",
       "  color: var(--sklearn-color-fitted-level-1);\n",
       "}\n",
       "\n",
       "/* On hover */\n",
       "div.sk-estimator:hover .sk-estimator-doc-link:hover,\n",
       ".sk-estimator-doc-link:hover,\n",
       "div.sk-label-container:hover .sk-estimator-doc-link:hover,\n",
       ".sk-estimator-doc-link:hover {\n",
       "  /* unfitted */\n",
       "  background-color: var(--sklearn-color-unfitted-level-3);\n",
       "  color: var(--sklearn-color-background);\n",
       "  text-decoration: none;\n",
       "}\n",
       "\n",
       "div.sk-estimator.fitted:hover .sk-estimator-doc-link.fitted:hover,\n",
       ".sk-estimator-doc-link.fitted:hover,\n",
       "div.sk-label-container:hover .sk-estimator-doc-link.fitted:hover,\n",
       ".sk-estimator-doc-link.fitted:hover {\n",
       "  /* fitted */\n",
       "  background-color: var(--sklearn-color-fitted-level-3);\n",
       "  color: var(--sklearn-color-background);\n",
       "  text-decoration: none;\n",
       "}\n",
       "\n",
       "/* Span, style for the box shown on hovering the info icon */\n",
       ".sk-estimator-doc-link span {\n",
       "  display: none;\n",
       "  z-index: 9999;\n",
       "  position: relative;\n",
       "  font-weight: normal;\n",
       "  right: .2ex;\n",
       "  padding: .5ex;\n",
       "  margin: .5ex;\n",
       "  width: min-content;\n",
       "  min-width: 20ex;\n",
       "  max-width: 50ex;\n",
       "  color: var(--sklearn-color-text);\n",
       "  box-shadow: 2pt 2pt 4pt #999;\n",
       "  /* unfitted */\n",
       "  background: var(--sklearn-color-unfitted-level-0);\n",
       "  border: .5pt solid var(--sklearn-color-unfitted-level-3);\n",
       "}\n",
       "\n",
       ".sk-estimator-doc-link.fitted span {\n",
       "  /* fitted */\n",
       "  background: var(--sklearn-color-fitted-level-0);\n",
       "  border: var(--sklearn-color-fitted-level-3);\n",
       "}\n",
       "\n",
       ".sk-estimator-doc-link:hover span {\n",
       "  display: block;\n",
       "}\n",
       "\n",
       "/* \"?\"-specific style due to the `<a>` HTML tag */\n",
       "\n",
       "#sk-container-id-1 a.estimator_doc_link {\n",
       "  float: right;\n",
       "  font-size: 1rem;\n",
       "  line-height: 1em;\n",
       "  font-family: monospace;\n",
       "  background-color: var(--sklearn-color-background);\n",
       "  border-radius: 1rem;\n",
       "  height: 1rem;\n",
       "  width: 1rem;\n",
       "  text-decoration: none;\n",
       "  /* unfitted */\n",
       "  color: var(--sklearn-color-unfitted-level-1);\n",
       "  border: var(--sklearn-color-unfitted-level-1) 1pt solid;\n",
       "}\n",
       "\n",
       "#sk-container-id-1 a.estimator_doc_link.fitted {\n",
       "  /* fitted */\n",
       "  border: var(--sklearn-color-fitted-level-1) 1pt solid;\n",
       "  color: var(--sklearn-color-fitted-level-1);\n",
       "}\n",
       "\n",
       "/* On hover */\n",
       "#sk-container-id-1 a.estimator_doc_link:hover {\n",
       "  /* unfitted */\n",
       "  background-color: var(--sklearn-color-unfitted-level-3);\n",
       "  color: var(--sklearn-color-background);\n",
       "  text-decoration: none;\n",
       "}\n",
       "\n",
       "#sk-container-id-1 a.estimator_doc_link.fitted:hover {\n",
       "  /* fitted */\n",
       "  background-color: var(--sklearn-color-fitted-level-3);\n",
       "}\n",
       "</style><div id=\"sk-container-id-1\" class=\"sk-top-container\"><div class=\"sk-text-repr-fallback\"><pre>Pipeline(steps=[(&#x27;preprocessor&#x27;,\n",
       "                 Pipeline(steps=[(&#x27;column&#x27;,\n",
       "                                  ColumnTransformer(transformers=[(&#x27;numeric&#x27;,\n",
       "                                                                   Pipeline(steps=[(&#x27;imputer&#x27;,\n",
       "                                                                                    SimpleImputer(strategy=&#x27;median&#x27;)),\n",
       "                                                                                   (&#x27;scaler&#x27;,\n",
       "                                                                                    StandardScaler())]),\n",
       "                                                                   [&#x27;Danceability&#x27;,\n",
       "                                                                    &#x27;Energy&#x27;,\n",
       "                                                                    &#x27;Key&#x27;,\n",
       "                                                                    &#x27;Speechiness&#x27;,\n",
       "                                                                    &#x27;Acousticness&#x27;,\n",
       "                                                                    &#x27;Liveness&#x27;,\n",
       "                                                                    &#x27;Valence&#x27;,\n",
       "                                                                    &#x27;Tempo&#x27;,\n",
       "                                                                    &#x27;Duration_ms&#x27;,\n",
       "                                                                    &#x27;Views&#x27;,\n",
       "                                                                    &#x27;Likes&#x27;,\n",
       "                                                                    &#x27;Comments&#x27;,\n",
       "                                                                    &#x27;Stream&#x27;]),\n",
       "                                                                  (&#x27;categorical&#x27;,\n",
       "                                                                   Pi...\n",
       "                                  PolynomialFeatures(include_bias=False))])),\n",
       "                (&#x27;regressor&#x27;,\n",
       "                 StackingRegressor(estimators=[(&#x27;ridge&#x27;,\n",
       "                                                Ridge(alpha=15.74189,\n",
       "                                                      random_state=42)),\n",
       "                                               (&#x27;sgd&#x27;,\n",
       "                                                SGDRegressor(alpha=np.float64(0.000108),\n",
       "                                                             max_iter=5000,\n",
       "                                                             penalty=&#x27;elasticnet&#x27;,\n",
       "                                                             random_state=42)),\n",
       "                                               (&#x27;rf&#x27;,\n",
       "                                                RandomForestRegressor(n_jobs=-1,\n",
       "                                                                      random_state=42)),\n",
       "                                               (&#x27;gb&#x27;,\n",
       "                                                GradientBoostingRegressor(random_state=42))],\n",
       "                                   n_jobs=-1))])</pre><b>In a Jupyter environment, please rerun this cell to show the HTML representation or trust the notebook. <br />On GitHub, the HTML representation is unable to render, please try loading this page with nbviewer.org.</b></div><div class=\"sk-container\" hidden><div class=\"sk-item sk-dashed-wrapped\"><div class=\"sk-label-container\"><div class=\"sk-label fitted sk-toggleable\"><input class=\"sk-toggleable__control sk-hidden--visually\" id=\"sk-estimator-id-1\" type=\"checkbox\" ><label for=\"sk-estimator-id-1\" class=\"sk-toggleable__label fitted sk-toggleable__label-arrow\"><div><div>Pipeline</div></div><div><a class=\"sk-estimator-doc-link fitted\" rel=\"noreferrer\" target=\"_blank\" href=\"https://scikit-learn.org/1.6/modules/generated/sklearn.pipeline.Pipeline.html\">?<span>Documentation for Pipeline</span></a><span class=\"sk-estimator-doc-link fitted\">i<span>Fitted</span></span></div></label><div class=\"sk-toggleable__content fitted\"><pre>Pipeline(steps=[(&#x27;preprocessor&#x27;,\n",
       "                 Pipeline(steps=[(&#x27;column&#x27;,\n",
       "                                  ColumnTransformer(transformers=[(&#x27;numeric&#x27;,\n",
       "                                                                   Pipeline(steps=[(&#x27;imputer&#x27;,\n",
       "                                                                                    SimpleImputer(strategy=&#x27;median&#x27;)),\n",
       "                                                                                   (&#x27;scaler&#x27;,\n",
       "                                                                                    StandardScaler())]),\n",
       "                                                                   [&#x27;Danceability&#x27;,\n",
       "                                                                    &#x27;Energy&#x27;,\n",
       "                                                                    &#x27;Key&#x27;,\n",
       "                                                                    &#x27;Speechiness&#x27;,\n",
       "                                                                    &#x27;Acousticness&#x27;,\n",
       "                                                                    &#x27;Liveness&#x27;,\n",
       "                                                                    &#x27;Valence&#x27;,\n",
       "                                                                    &#x27;Tempo&#x27;,\n",
       "                                                                    &#x27;Duration_ms&#x27;,\n",
       "                                                                    &#x27;Views&#x27;,\n",
       "                                                                    &#x27;Likes&#x27;,\n",
       "                                                                    &#x27;Comments&#x27;,\n",
       "                                                                    &#x27;Stream&#x27;]),\n",
       "                                                                  (&#x27;categorical&#x27;,\n",
       "                                                                   Pi...\n",
       "                                  PolynomialFeatures(include_bias=False))])),\n",
       "                (&#x27;regressor&#x27;,\n",
       "                 StackingRegressor(estimators=[(&#x27;ridge&#x27;,\n",
       "                                                Ridge(alpha=15.74189,\n",
       "                                                      random_state=42)),\n",
       "                                               (&#x27;sgd&#x27;,\n",
       "                                                SGDRegressor(alpha=np.float64(0.000108),\n",
       "                                                             max_iter=5000,\n",
       "                                                             penalty=&#x27;elasticnet&#x27;,\n",
       "                                                             random_state=42)),\n",
       "                                               (&#x27;rf&#x27;,\n",
       "                                                RandomForestRegressor(n_jobs=-1,\n",
       "                                                                      random_state=42)),\n",
       "                                               (&#x27;gb&#x27;,\n",
       "                                                GradientBoostingRegressor(random_state=42))],\n",
       "                                   n_jobs=-1))])</pre></div> </div></div><div class=\"sk-serial\"><div class=\"sk-item\"><div class=\"sk-label-container\"><div class=\"sk-label fitted sk-toggleable\"><input class=\"sk-toggleable__control sk-hidden--visually\" id=\"sk-estimator-id-2\" type=\"checkbox\" ><label for=\"sk-estimator-id-2\" class=\"sk-toggleable__label fitted sk-toggleable__label-arrow\"><div><div>preprocessor: Pipeline</div></div><div><a class=\"sk-estimator-doc-link fitted\" rel=\"noreferrer\" target=\"_blank\" href=\"https://scikit-learn.org/1.6/modules/generated/sklearn.pipeline.Pipeline.html\">?<span>Documentation for preprocessor: Pipeline</span></a></div></label><div class=\"sk-toggleable__content fitted\"><pre>Pipeline(steps=[(&#x27;column&#x27;,\n",
       "                 ColumnTransformer(transformers=[(&#x27;numeric&#x27;,\n",
       "                                                  Pipeline(steps=[(&#x27;imputer&#x27;,\n",
       "                                                                   SimpleImputer(strategy=&#x27;median&#x27;)),\n",
       "                                                                  (&#x27;scaler&#x27;,\n",
       "                                                                   StandardScaler())]),\n",
       "                                                  [&#x27;Danceability&#x27;, &#x27;Energy&#x27;,\n",
       "                                                   &#x27;Key&#x27;, &#x27;Speechiness&#x27;,\n",
       "                                                   &#x27;Acousticness&#x27;, &#x27;Liveness&#x27;,\n",
       "                                                   &#x27;Valence&#x27;, &#x27;Tempo&#x27;,\n",
       "                                                   &#x27;Duration_ms&#x27;, &#x27;Views&#x27;,\n",
       "                                                   &#x27;Likes&#x27;, &#x27;Comments&#x27;,\n",
       "                                                   &#x27;Stream&#x27;]),\n",
       "                                                 (&#x27;categorical&#x27;,\n",
       "                                                  Pipeline(steps=[(&#x27;imputer&#x27;,\n",
       "                                                                   SimpleImputer(strategy=&#x27;most_frequent&#x27;)),\n",
       "                                                                  (&#x27;onehot&#x27;,\n",
       "                                                                   OneHotEncoder(handle_unknown=&#x27;ignore&#x27;))]),\n",
       "                                                  [&#x27;Album_type&#x27;, &#x27;Licensed&#x27;,\n",
       "                                                   &#x27;official_video&#x27;,\n",
       "                                                   &#x27;Instrumentalness&#x27;])])),\n",
       "                (&#x27;poly&#x27;, PolynomialFeatures(include_bias=False))])</pre></div> </div></div><div class=\"sk-serial\"><div class=\"sk-item sk-dashed-wrapped\"><div class=\"sk-label-container\"><div class=\"sk-label fitted sk-toggleable\"><input class=\"sk-toggleable__control sk-hidden--visually\" id=\"sk-estimator-id-3\" type=\"checkbox\" ><label for=\"sk-estimator-id-3\" class=\"sk-toggleable__label fitted sk-toggleable__label-arrow\"><div><div>column: ColumnTransformer</div></div><div><a class=\"sk-estimator-doc-link fitted\" rel=\"noreferrer\" target=\"_blank\" href=\"https://scikit-learn.org/1.6/modules/generated/sklearn.compose.ColumnTransformer.html\">?<span>Documentation for column: ColumnTransformer</span></a></div></label><div class=\"sk-toggleable__content fitted\"><pre>ColumnTransformer(transformers=[(&#x27;numeric&#x27;,\n",
       "                                 Pipeline(steps=[(&#x27;imputer&#x27;,\n",
       "                                                  SimpleImputer(strategy=&#x27;median&#x27;)),\n",
       "                                                 (&#x27;scaler&#x27;, StandardScaler())]),\n",
       "                                 [&#x27;Danceability&#x27;, &#x27;Energy&#x27;, &#x27;Key&#x27;,\n",
       "                                  &#x27;Speechiness&#x27;, &#x27;Acousticness&#x27;, &#x27;Liveness&#x27;,\n",
       "                                  &#x27;Valence&#x27;, &#x27;Tempo&#x27;, &#x27;Duration_ms&#x27;, &#x27;Views&#x27;,\n",
       "                                  &#x27;Likes&#x27;, &#x27;Comments&#x27;, &#x27;Stream&#x27;]),\n",
       "                                (&#x27;categorical&#x27;,\n",
       "                                 Pipeline(steps=[(&#x27;imputer&#x27;,\n",
       "                                                  SimpleImputer(strategy=&#x27;most_frequent&#x27;)),\n",
       "                                                 (&#x27;onehot&#x27;,\n",
       "                                                  OneHotEncoder(handle_unknown=&#x27;ignore&#x27;))]),\n",
       "                                 [&#x27;Album_type&#x27;, &#x27;Licensed&#x27;, &#x27;official_video&#x27;,\n",
       "                                  &#x27;Instrumentalness&#x27;])])</pre></div> </div></div><div class=\"sk-parallel\"><div class=\"sk-parallel-item\"><div class=\"sk-item\"><div class=\"sk-label-container\"><div class=\"sk-label fitted sk-toggleable\"><input class=\"sk-toggleable__control sk-hidden--visually\" id=\"sk-estimator-id-4\" type=\"checkbox\" ><label for=\"sk-estimator-id-4\" class=\"sk-toggleable__label fitted sk-toggleable__label-arrow\"><div><div>numeric</div></div></label><div class=\"sk-toggleable__content fitted\"><pre>[&#x27;Danceability&#x27;, &#x27;Energy&#x27;, &#x27;Key&#x27;, &#x27;Speechiness&#x27;, &#x27;Acousticness&#x27;, &#x27;Liveness&#x27;, &#x27;Valence&#x27;, &#x27;Tempo&#x27;, &#x27;Duration_ms&#x27;, &#x27;Views&#x27;, &#x27;Likes&#x27;, &#x27;Comments&#x27;, &#x27;Stream&#x27;]</pre></div> </div></div><div class=\"sk-serial\"><div class=\"sk-item\"><div class=\"sk-serial\"><div class=\"sk-item\"><div class=\"sk-estimator fitted sk-toggleable\"><input class=\"sk-toggleable__control sk-hidden--visually\" id=\"sk-estimator-id-5\" type=\"checkbox\" ><label for=\"sk-estimator-id-5\" class=\"sk-toggleable__label fitted sk-toggleable__label-arrow\"><div><div>SimpleImputer</div></div><div><a class=\"sk-estimator-doc-link fitted\" rel=\"noreferrer\" target=\"_blank\" href=\"https://scikit-learn.org/1.6/modules/generated/sklearn.impute.SimpleImputer.html\">?<span>Documentation for SimpleImputer</span></a></div></label><div class=\"sk-toggleable__content fitted\"><pre>SimpleImputer(strategy=&#x27;median&#x27;)</pre></div> </div></div><div class=\"sk-item\"><div class=\"sk-estimator fitted sk-toggleable\"><input class=\"sk-toggleable__control sk-hidden--visually\" id=\"sk-estimator-id-6\" type=\"checkbox\" ><label for=\"sk-estimator-id-6\" class=\"sk-toggleable__label fitted sk-toggleable__label-arrow\"><div><div>StandardScaler</div></div><div><a class=\"sk-estimator-doc-link fitted\" rel=\"noreferrer\" target=\"_blank\" href=\"https://scikit-learn.org/1.6/modules/generated/sklearn.preprocessing.StandardScaler.html\">?<span>Documentation for StandardScaler</span></a></div></label><div class=\"sk-toggleable__content fitted\"><pre>StandardScaler()</pre></div> </div></div></div></div></div></div></div><div class=\"sk-parallel-item\"><div class=\"sk-item\"><div class=\"sk-label-container\"><div class=\"sk-label fitted sk-toggleable\"><input class=\"sk-toggleable__control sk-hidden--visually\" id=\"sk-estimator-id-7\" type=\"checkbox\" ><label for=\"sk-estimator-id-7\" class=\"sk-toggleable__label fitted sk-toggleable__label-arrow\"><div><div>categorical</div></div></label><div class=\"sk-toggleable__content fitted\"><pre>[&#x27;Album_type&#x27;, &#x27;Licensed&#x27;, &#x27;official_video&#x27;, &#x27;Instrumentalness&#x27;]</pre></div> </div></div><div class=\"sk-serial\"><div class=\"sk-item\"><div class=\"sk-serial\"><div class=\"sk-item\"><div class=\"sk-estimator fitted sk-toggleable\"><input class=\"sk-toggleable__control sk-hidden--visually\" id=\"sk-estimator-id-8\" type=\"checkbox\" ><label for=\"sk-estimator-id-8\" class=\"sk-toggleable__label fitted sk-toggleable__label-arrow\"><div><div>SimpleImputer</div></div><div><a class=\"sk-estimator-doc-link fitted\" rel=\"noreferrer\" target=\"_blank\" href=\"https://scikit-learn.org/1.6/modules/generated/sklearn.impute.SimpleImputer.html\">?<span>Documentation for SimpleImputer</span></a></div></label><div class=\"sk-toggleable__content fitted\"><pre>SimpleImputer(strategy=&#x27;most_frequent&#x27;)</pre></div> </div></div><div class=\"sk-item\"><div class=\"sk-estimator fitted sk-toggleable\"><input class=\"sk-toggleable__control sk-hidden--visually\" id=\"sk-estimator-id-9\" type=\"checkbox\" ><label for=\"sk-estimator-id-9\" class=\"sk-toggleable__label fitted sk-toggleable__label-arrow\"><div><div>OneHotEncoder</div></div><div><a class=\"sk-estimator-doc-link fitted\" rel=\"noreferrer\" target=\"_blank\" href=\"https://scikit-learn.org/1.6/modules/generated/sklearn.preprocessing.OneHotEncoder.html\">?<span>Documentation for OneHotEncoder</span></a></div></label><div class=\"sk-toggleable__content fitted\"><pre>OneHotEncoder(handle_unknown=&#x27;ignore&#x27;)</pre></div> </div></div></div></div></div></div></div></div></div><div class=\"sk-item\"><div class=\"sk-estimator fitted sk-toggleable\"><input class=\"sk-toggleable__control sk-hidden--visually\" id=\"sk-estimator-id-10\" type=\"checkbox\" ><label for=\"sk-estimator-id-10\" class=\"sk-toggleable__label fitted sk-toggleable__label-arrow\"><div><div>PolynomialFeatures</div></div><div><a class=\"sk-estimator-doc-link fitted\" rel=\"noreferrer\" target=\"_blank\" href=\"https://scikit-learn.org/1.6/modules/generated/sklearn.preprocessing.PolynomialFeatures.html\">?<span>Documentation for PolynomialFeatures</span></a></div></label><div class=\"sk-toggleable__content fitted\"><pre>PolynomialFeatures(include_bias=False)</pre></div> </div></div></div></div><div class=\"sk-item\"><div class=\"sk-label-container\"><div class=\"sk-label fitted sk-toggleable\"><input class=\"sk-toggleable__control sk-hidden--visually\" id=\"sk-estimator-id-11\" type=\"checkbox\" ><label for=\"sk-estimator-id-11\" class=\"sk-toggleable__label fitted sk-toggleable__label-arrow\"><div><div>regressor: StackingRegressor</div></div><div><a class=\"sk-estimator-doc-link fitted\" rel=\"noreferrer\" target=\"_blank\" href=\"https://scikit-learn.org/1.6/modules/generated/sklearn.ensemble.StackingRegressor.html\">?<span>Documentation for regressor: StackingRegressor</span></a></div></label><div class=\"sk-toggleable__content fitted\"><pre>StackingRegressor(estimators=[(&#x27;ridge&#x27;, Ridge(alpha=15.74189, random_state=42)),\n",
       "                              (&#x27;sgd&#x27;,\n",
       "                               SGDRegressor(alpha=np.float64(0.000108),\n",
       "                                            max_iter=5000, penalty=&#x27;elasticnet&#x27;,\n",
       "                                            random_state=42)),\n",
       "                              (&#x27;rf&#x27;,\n",
       "                               RandomForestRegressor(n_jobs=-1,\n",
       "                                                     random_state=42)),\n",
       "                              (&#x27;gb&#x27;,\n",
       "                               GradientBoostingRegressor(random_state=42))],\n",
       "                  n_jobs=-1)</pre></div> </div></div><div class=\"sk-serial\"><div class=\"sk-item\"><div class=\"sk-parallel\"><div class=\"sk-parallel-item\"><div class=\"sk-item\"><div class=\"sk-label-container\"><div class=\"sk-label fitted sk-toggleable\"><label>ridge</label></div></div><div class=\"sk-serial\"><div class=\"sk-item\"><div class=\"sk-estimator fitted sk-toggleable\"><input class=\"sk-toggleable__control sk-hidden--visually\" id=\"sk-estimator-id-12\" type=\"checkbox\" ><label for=\"sk-estimator-id-12\" class=\"sk-toggleable__label fitted sk-toggleable__label-arrow\"><div><div>Ridge</div></div><div><a class=\"sk-estimator-doc-link fitted\" rel=\"noreferrer\" target=\"_blank\" href=\"https://scikit-learn.org/1.6/modules/generated/sklearn.linear_model.Ridge.html\">?<span>Documentation for Ridge</span></a></div></label><div class=\"sk-toggleable__content fitted\"><pre>Ridge(alpha=15.74189, random_state=42)</pre></div> </div></div></div></div></div><div class=\"sk-parallel-item\"><div class=\"sk-item\"><div class=\"sk-label-container\"><div class=\"sk-label fitted sk-toggleable\"><label>sgd</label></div></div><div class=\"sk-serial\"><div class=\"sk-item\"><div class=\"sk-estimator fitted sk-toggleable\"><input class=\"sk-toggleable__control sk-hidden--visually\" id=\"sk-estimator-id-13\" type=\"checkbox\" ><label for=\"sk-estimator-id-13\" class=\"sk-toggleable__label fitted sk-toggleable__label-arrow\"><div><div>SGDRegressor</div></div><div><a class=\"sk-estimator-doc-link fitted\" rel=\"noreferrer\" target=\"_blank\" href=\"https://scikit-learn.org/1.6/modules/generated/sklearn.linear_model.SGDRegressor.html\">?<span>Documentation for SGDRegressor</span></a></div></label><div class=\"sk-toggleable__content fitted\"><pre>SGDRegressor(alpha=np.float64(0.000108), max_iter=5000, penalty=&#x27;elasticnet&#x27;,\n",
       "             random_state=42)</pre></div> </div></div></div></div></div><div class=\"sk-parallel-item\"><div class=\"sk-item\"><div class=\"sk-label-container\"><div class=\"sk-label fitted sk-toggleable\"><label>rf</label></div></div><div class=\"sk-serial\"><div class=\"sk-item\"><div class=\"sk-estimator fitted sk-toggleable\"><input class=\"sk-toggleable__control sk-hidden--visually\" id=\"sk-estimator-id-14\" type=\"checkbox\" ><label for=\"sk-estimator-id-14\" class=\"sk-toggleable__label fitted sk-toggleable__label-arrow\"><div><div>RandomForestRegressor</div></div><div><a class=\"sk-estimator-doc-link fitted\" rel=\"noreferrer\" target=\"_blank\" href=\"https://scikit-learn.org/1.6/modules/generated/sklearn.ensemble.RandomForestRegressor.html\">?<span>Documentation for RandomForestRegressor</span></a></div></label><div class=\"sk-toggleable__content fitted\"><pre>RandomForestRegressor(n_jobs=-1, random_state=42)</pre></div> </div></div></div></div></div><div class=\"sk-parallel-item\"><div class=\"sk-item\"><div class=\"sk-label-container\"><div class=\"sk-label fitted sk-toggleable\"><label>gb</label></div></div><div class=\"sk-serial\"><div class=\"sk-item\"><div class=\"sk-estimator fitted sk-toggleable\"><input class=\"sk-toggleable__control sk-hidden--visually\" id=\"sk-estimator-id-15\" type=\"checkbox\" ><label for=\"sk-estimator-id-15\" class=\"sk-toggleable__label fitted sk-toggleable__label-arrow\"><div><div>GradientBoostingRegressor</div></div><div><a class=\"sk-estimator-doc-link fitted\" rel=\"noreferrer\" target=\"_blank\" href=\"https://scikit-learn.org/1.6/modules/generated/sklearn.ensemble.GradientBoostingRegressor.html\">?<span>Documentation for GradientBoostingRegressor</span></a></div></label><div class=\"sk-toggleable__content fitted\"><pre>GradientBoostingRegressor(random_state=42)</pre></div> </div></div></div></div></div></div></div><div class=\"sk-item\"><div class=\"sk-parallel\"><div class=\"sk-parallel-item\"><div class=\"sk-item\"><div class=\"sk-label-container\"><div class=\"sk-label fitted sk-toggleable\"><label>final_estimator</label></div></div><div class=\"sk-serial\"><div class=\"sk-item\"><div class=\"sk-estimator fitted sk-toggleable\"><input class=\"sk-toggleable__control sk-hidden--visually\" id=\"sk-estimator-id-16\" type=\"checkbox\" ><label for=\"sk-estimator-id-16\" class=\"sk-toggleable__label fitted sk-toggleable__label-arrow\"><div><div>RidgeCV</div></div><div><a class=\"sk-estimator-doc-link fitted\" rel=\"noreferrer\" target=\"_blank\" href=\"https://scikit-learn.org/1.6/modules/generated/sklearn.linear_model.RidgeCV.html\">?<span>Documentation for RidgeCV</span></a></div></label><div class=\"sk-toggleable__content fitted\"><pre>RidgeCV()</pre></div> </div></div></div></div></div></div></div></div></div></div></div></div></div>"
      ]
     },
     "execution_count": 141,
     "metadata": {},
     "output_type": "execute_result"
    }
   ],
   "execution_count": 141
  },
  {
   "cell_type": "markdown",
   "id": "237cfbda5ab7e474",
   "metadata": {},
   "source": [
    "Training data results"
   ]
  },
  {
   "cell_type": "code",
   "execution_count": 100,
   "id": "202344f48ec8fe36",
   "metadata": {},
   "outputs": [
    {
     "name": "stdout",
     "output_type": "stream",
     "text": [
      "Model: Stacking regressor\n",
      "MSE: 0.000552179\n",
      "Score: 0.918652\n",
      "------------------------------------------\n"
     ]
    }
   ],
   "source": [
    "print_results('Stacking regressor', mean_squared_error(y_train, stacking_pipeline.predict(X_train)), stacking_pipeline.score(X_train, y_train))"
   ]
  },
  {
   "cell_type": "markdown",
   "id": "1fc73b042185c13",
   "metadata": {},
   "source": [
    "Test data results"
   ]
  },
  {
   "cell_type": "code",
   "execution_count": 101,
   "id": "cd5de22503b5972c",
   "metadata": {},
   "outputs": [
    {
     "name": "stdout",
     "output_type": "stream",
     "text": [
      "Model: Stacking regressor\n",
      "MSE: 0.00157462\n",
      "Score: 0.758164\n",
      "------------------------------------------\n"
     ]
    }
   ],
   "source": [
    "print_results('Stacking regressor', mean_squared_error(y_test, stacking_pipeline.predict(X_test)), stacking_pipeline.score(X_test, y_test))"
   ]
  },
  {
   "cell_type": "markdown",
   "id": "2ca6587c6ceaffd7",
   "metadata": {},
   "source": [
    "## Regression model in PyTorch"
   ]
  },
  {
   "cell_type": "code",
   "id": "9f8eca8ddbd6a83a",
   "metadata": {
    "ExecuteTime": {
     "end_time": "2025-05-17T12:31:08.021298100Z",
     "start_time": "2025-05-17T12:09:10.616574Z"
    }
   },
   "source": [
    "class TorchModelWrapper:\n",
    "    def __init__(self, batch_size=64, num_epochs=300, patience=32):\n",
    "        self.n_features = None\n",
    "        self.model = None\n",
    "        self.criterion = nn.MSELoss()\n",
    "        self.optimizer = None\n",
    "        self.scheduler = None\n",
    "        self.batch_size = batch_size\n",
    "        self.num_epochs = num_epochs\n",
    "        self.patience = patience\n",
    "        self.device = torch.device('cuda' if torch.cuda.is_available() else 'cpu')\n",
    "        self.train_losses = []\n",
    "        self.val_losses = []\n",
    "        self.r2_scores = []\n",
    "        torch.manual_seed(42)\n",
    "        np.random.seed(42)\n",
    "\n",
    "    def fit(self, X_train, y_train, verbose=False):\n",
    "        X_train_transformed = tensor(spotify_preprocessor.fit_transform(X_train), dtype=float32)\n",
    "        y_train_tensor = tensor(y_train.values, dtype=float32)\n",
    "        train_dataset = TensorDataset(X_train_transformed, y_train_tensor)\n",
    "\n",
    "        self.n_features = X_train_transformed.shape[1]\n",
    "        self.model = nn.Linear(self.n_features, 1)\n",
    "        self.optimizer = AdamW(self.model.parameters(), lr=0.01, weight_decay=1e-5)\n",
    "        self.scheduler = ReduceLROnPlateau(self.optimizer, mode='min', patience=5, factor=0.5)\n",
    "\n",
    "        train_size = int(0.8 * len(train_dataset))\n",
    "        val_size = len(train_dataset) - train_size\n",
    "        train_subset, val_subset = random_split(train_dataset, [train_size, val_size])\n",
    "        train_loader = DataLoader(train_subset, batch_size=self.batch_size, shuffle=True)\n",
    "        val_loader = DataLoader(val_subset, batch_size=self.batch_size)\n",
    "        counter = 0\n",
    "        best_val_loss = float('inf')\n",
    "        best_model_state = None\n",
    "\n",
    "        for epoch in range(self.num_epochs):\n",
    "            train_loss = self._train_epoch(train_loader)\n",
    "            self.train_losses.append(train_loss)\n",
    "            val_loss, r2 = self._validate(val_loader)\n",
    "            self.val_losses.append(val_loss)\n",
    "            self.r2_scores.append(r2)\n",
    "            self.scheduler.step(val_loss)\n",
    "\n",
    "            if verbose and (epoch + 1) % 5 == 0:\n",
    "                print(f\"Epoch {epoch + 1}/{self.num_epochs}, Train Loss: {train_loss:.4f}, Val Loss: {val_loss:.4f}, R^2: {r2:.6f}\")\n",
    "\n",
    "            if val_loss < best_val_loss:\n",
    "                best_val_loss = val_loss\n",
    "                counter = 0\n",
    "                best_model_state = copy.deepcopy(self.model.state_dict())\n",
    "            else:\n",
    "                counter += 1\n",
    "                if counter >= self.patience:\n",
    "                    if verbose:\n",
    "                        print(f\"Early stopping at epoch {epoch + 1}\")\n",
    "                    break\n",
    "\n",
    "        self.model.load_state_dict(best_model_state)\n",
    "        self.model.eval()\n",
    "        return self\n",
    "\n",
    "    def _train_epoch(self, data_loader) -> float:\n",
    "        self.model.train()\n",
    "        running_loss = 0.0\n",
    "        for X_batch, y_batch in data_loader:\n",
    "            X_batch, y_batch = X_batch.to(self.device), y_batch.to(self.device)\n",
    "            self.optimizer.zero_grad()\n",
    "            y_pred = self.model(X_batch).squeeze()\n",
    "            loss = self.criterion(y_pred, y_batch)\n",
    "            loss.backward()\n",
    "            self.optimizer.step()\n",
    "            running_loss += loss.item() * X_batch.size(0)\n",
    "        return running_loss / len(data_loader.dataset)\n",
    "\n",
    "    def _validate(self, data_loader) -> tuple[float, float]:\n",
    "        self.model.eval()\n",
    "        running_loss = 0.0\n",
    "        all_predictions = []\n",
    "        all_targets = []\n",
    "        with no_grad():\n",
    "            for X_batch, y_batch in data_loader:\n",
    "                X_batch, y_batch = X_batch.to(self.device), y_batch.to(self.device)\n",
    "                y_pred = self.model(X_batch).squeeze()\n",
    "                loss = self.criterion(y_pred, y_batch)\n",
    "                running_loss += loss.item() * X_batch.size(0)\n",
    "                all_predictions.extend(y_pred.cpu().numpy().flatten())\n",
    "                all_targets.extend(y_batch.cpu().numpy().flatten())\n",
    "        y_true = np.array(all_targets)\n",
    "        y_pred = np.array(all_predictions)\n",
    "        r2 = 1 - np.sum((y_true - y_pred) ** 2) / np.sum((y_true - np.mean(y_true)) ** 2)\n",
    "        return running_loss / len(data_loader.dataset), r2\n",
    "\n",
    "    def predict(self, X, is_transformed=True):\n",
    "        X_test_tensor = tensor(spotify_preprocessor.fit_transform(X) if not is_transformed else X, dtype=float32)\n",
    "        self.model.eval()\n",
    "        X_test_tensor = X_test_tensor.to(self.device)\n",
    "        with torch.no_grad():\n",
    "            predictions = self.model(X_test_tensor).squeeze()\n",
    "        return predictions.cpu().numpy()"
   ],
   "outputs": [],
   "execution_count": 26
  },
  {
   "cell_type": "markdown",
   "id": "e4cda3e9b018dda4",
   "metadata": {},
   "source": [
    "Train the model"
   ]
  },
  {
   "cell_type": "code",
   "id": "b1f0714dd74e5af3",
   "metadata": {
    "ExecuteTime": {
     "end_time": "2025-05-17T12:31:08.021298100Z",
     "start_time": "2025-05-17T12:09:18.307487Z"
    }
   },
   "source": [
    "torch_model = TorchModelWrapper()\n",
    "torch_model.fit(X_train, y_train, verbose=True)"
   ],
   "outputs": [
    {
     "name": "stdout",
     "output_type": "stream",
     "text": [
      "Epoch 5/300, Train Loss: 0.0084, Val Loss: 0.0071, R^2: -0.110512\n",
      "Epoch 10/300, Train Loss: 0.0052, Val Loss: 0.0032, R^2: 0.501074\n",
      "Epoch 15/300, Train Loss: 0.0028, Val Loss: 0.0023, R^2: 0.636982\n",
      "Epoch 20/300, Train Loss: 0.0032, Val Loss: 0.0025, R^2: 0.602386\n",
      "Epoch 25/300, Train Loss: 0.0023, Val Loss: 0.0026, R^2: 0.598009\n",
      "Epoch 30/300, Train Loss: 0.0019, Val Loss: 0.0019, R^2: 0.698482\n",
      "Epoch 35/300, Train Loss: 0.0020, Val Loss: 0.0020, R^2: 0.688561\n",
      "Epoch 40/300, Train Loss: 0.0019, Val Loss: 0.0018, R^2: 0.712048\n",
      "Epoch 45/300, Train Loss: 0.0018, Val Loss: 0.0018, R^2: 0.724937\n",
      "Epoch 50/300, Train Loss: 0.0019, Val Loss: 0.0018, R^2: 0.721627\n",
      "Epoch 55/300, Train Loss: 0.0018, Val Loss: 0.0018, R^2: 0.725114\n",
      "Epoch 60/300, Train Loss: 0.0017, Val Loss: 0.0017, R^2: 0.727963\n",
      "Epoch 65/300, Train Loss: 0.0017, Val Loss: 0.0017, R^2: 0.735331\n",
      "Epoch 70/300, Train Loss: 0.0017, Val Loss: 0.0017, R^2: 0.732359\n",
      "Epoch 75/300, Train Loss: 0.0017, Val Loss: 0.0017, R^2: 0.731507\n",
      "Epoch 80/300, Train Loss: 0.0017, Val Loss: 0.0017, R^2: 0.737157\n",
      "Epoch 85/300, Train Loss: 0.0017, Val Loss: 0.0017, R^2: 0.737506\n",
      "Epoch 90/300, Train Loss: 0.0017, Val Loss: 0.0017, R^2: 0.736756\n",
      "Epoch 95/300, Train Loss: 0.0017, Val Loss: 0.0017, R^2: 0.737487\n",
      "Early stopping at epoch 98\n"
     ]
    },
    {
     "data": {
      "text/plain": [
       "<__main__.TorchModelWrapper at 0x21c79f619a0>"
      ]
     },
     "execution_count": 27,
     "metadata": {},
     "output_type": "execute_result"
    }
   ],
   "execution_count": 27
  },
  {
   "cell_type": "markdown",
   "id": "b4a15efefdc5054f",
   "metadata": {},
   "source": [
    "#"
   ]
  },
  {
   "cell_type": "markdown",
   "id": "e5b28ce369768692",
   "metadata": {},
   "source": [
    "#### Training set results"
   ]
  },
  {
   "cell_type": "code",
   "id": "4fa5098176c3db7b",
   "metadata": {
    "ExecuteTime": {
     "end_time": "2025-05-17T12:31:08.037085600Z",
     "start_time": "2025-05-17T12:09:42.036731Z"
    }
   },
   "source": [
    "y_pred_train = torch_model.predict(X_train, is_transformed=False)\n",
    "print_results('Torch model', mean_squared_error(y_train, y_pred_train), r2_score(y_train, y_pred_train))"
   ],
   "outputs": [
    {
     "name": "stdout",
     "output_type": "stream",
     "text": [
      "Model: Torch model\n",
      "MSE: 0.00167057\n",
      "Score: 0.753889\n",
      "------------------------------------------\n"
     ]
    }
   ],
   "execution_count": 28
  },
  {
   "cell_type": "markdown",
   "id": "8e334bde1494f6d7",
   "metadata": {},
   "source": [
    "#### Test set results"
   ]
  },
  {
   "cell_type": "code",
   "id": "c152af65f7f24105",
   "metadata": {
    "ExecuteTime": {
     "end_time": "2025-05-17T12:31:08.037085600Z",
     "start_time": "2025-05-17T12:09:44.388904Z"
    }
   },
   "source": [
    "y_pred_test = torch_model.predict(X_test, is_transformed=False)\n",
    "print_results('Torch model', mean_squared_error(y_test, y_pred_test), r2_score(y_test, y_pred_test))"
   ],
   "outputs": [
    {
     "name": "stdout",
     "output_type": "stream",
     "text": [
      "Model: Torch model\n",
      "MSE: 0.00173478\n",
      "Score: 0.733566\n",
      "------------------------------------------\n"
     ]
    }
   ],
   "execution_count": 29
  },
  {
   "cell_type": "code",
   "id": "f8481297d51d29b6",
   "metadata": {
    "ExecuteTime": {
     "end_time": "2025-05-17T12:31:08.037085600Z",
     "start_time": "2025-05-17T12:09:55.549174Z"
    }
   },
   "source": [
    "plt.figure(figsize=(12, 5))\n",
    "\n",
    "plt.subplot(1, 2, 1)\n",
    "plt.plot(torch_model.train_losses, label='Training Loss')\n",
    "plt.plot(torch_model.val_losses, label='Validation Loss')\n",
    "plt.xlabel('Epoch')\n",
    "plt.ylabel('Loss (MSE)')\n",
    "plt.legend()\n",
    "plt.title('Training and Validation Loss')\n",
    "\n",
    "plt.subplot(1, 2, 2)\n",
    "plt.plot(torch_model.r2_scores, label='R²')\n",
    "plt.xlabel('Epoch')\n",
    "plt.ylabel('R²')\n",
    "plt.title('R² on Validation Set')\n",
    "plt.legend()\n",
    "\n",
    "plt.tight_layout()\n",
    "plt.show()\n",
    "\n",
    "plt.figure(figsize=(10, 6))\n",
    "plt.scatter(y_test, y_pred_test, alpha=0.5)\n",
    "plt.plot([y_test.min(), y_test.max()], [y_test.min(), y_test.max()], 'r--')\n",
    "plt.xlabel('Actual')\n",
    "plt.ylabel('Predicted')\n",
    "plt.title('Actual vs Predicted Values')\n",
    "plt.grid(True)\n",
    "plt.show()\n"
   ],
   "outputs": [
    {
     "data": {
      "text/plain": [
       "<Figure size 1200x500 with 2 Axes>"
      ],
      "image/png": "[encoded data removed]"
     },
     "metadata": {},
     "output_type": "display_data"
    },
    {
     "data": {
      "text/plain": [
       "<Figure size 1000x600 with 1 Axes>"
      ],
      "image/png": "[encoded data removed]"
     },
     "metadata": {},
     "output_type": "display_data"
    }
   ],
   "execution_count": 30
  },
  {
   "cell_type": "markdown",
   "id": "f573057985d7e968",
   "metadata": {},
   "source": [
    "### Mixture of experts model\n",
    "\n",
    "Choosing the best models as experts and splitting the data into 65% for training models, 20% for training the gating model and 15% for testing the MoE model"
   ]
  },
  {
   "cell_type": "code",
   "id": "6962d7d1a5292531",
   "metadata": {
    "ExecuteTime": {
     "end_time": "2025-05-17T12:31:08.038041900Z",
     "start_time": "2025-05-17T12:10:00.121490Z"
    }
   },
   "source": [
    "X_train_set, X_test_moe, y_train_set, y_test_moe = train_test_split(X, y, test_size=0.15, random_state=42)\n",
    "y_train_set = y_train_set.fillna(df[target].median())\n",
    "y_test_moe = y_test_moe.fillna(df[target].median())\n",
    "X_train_experts, X_train_gating, y_train_experts, y_train_gating = train_test_split(X_train_set, y_train_set, test_size=0.17, random_state=42)\n",
    "X_train_gating = spotify_preprocessor.fit_transform(X_train_gating)\n",
    "X_test_moe = spotify_preprocessor.fit_transform(X_test_moe)\n",
    "\n",
    "experts = {\n",
    "    ('ridge', best_ridge),\n",
    "    ('sgd', best_sgd),\n",
    "    ('rf', best_rf),\n",
    "    ('gb', best_gb),\n",
    "    ('torch', TorchModelWrapper())\n",
    "}\n",
    "expert_pipelines = {}\n",
    "\n",
    "for expert_name, expert_model in experts:\n",
    "    if expert_name == 'torch':\n",
    "        expert_pipelines['torch'] = expert_model\n",
    "    else:\n",
    "        add_spotify_model_pipeline(expert_model, expert_name, expert_pipelines)"
   ],
   "outputs": [],
   "execution_count": 31
  },
  {
   "cell_type": "markdown",
   "id": "5312dfd5ff4ba1c6",
   "metadata": {},
   "source": [
    "Pretraining the models:"
   ]
  },
  {
   "cell_type": "code",
   "id": "f0008c46855d90b6",
   "metadata": {
    "ExecuteTime": {
     "end_time": "2025-05-17T12:31:08.038041900Z",
     "start_time": "2025-05-17T12:10:02.450865Z"
    }
   },
   "source": [
    "for pipeline_name, pipeline in expert_pipelines.items():\n",
    "    print(f'Training pipeline: {pipeline_name}')\n",
    "    pipeline.fit(X_train_experts, y_train_experts)"
   ],
   "outputs": [
    {
     "name": "stdout",
     "output_type": "stream",
     "text": [
      "Training pipeline: rf\n",
      "Training pipeline: sgd\n",
      "Training pipeline: torch\n",
      "Training pipeline: ridge\n",
      "Training pipeline: gb\n"
     ]
    }
   ],
   "execution_count": 32
  },
  {
   "cell_type": "markdown",
   "id": "de22ed86134e7d3b",
   "metadata": {},
   "source": [
    "Defining a Top-K gating model that uses pretrained expert models"
   ]
  },
  {
   "cell_type": "code",
   "id": "2766214762adb6a5",
   "metadata": {
    "ExecuteTime": {
     "end_time": "2025-05-17T12:34:29.672987Z",
     "start_time": "2025-05-17T12:34:29.657794Z"
    }
   },
   "source": [
    "class TopKGatingModel:\n",
    "    def __init__(self, expert_models, k):\n",
    "        self.expert_models = expert_models\n",
    "        self.n_experts = len(expert_models)\n",
    "        self.k = min(k, max(self.n_experts-1, 1))\n",
    "        self.gater = RandomForestClassifier(n_jobs=-1, random_state=42, n_estimators=10)\n",
    "\n",
    "\n",
    "    def fit(self, X, y):\n",
    "        kf = KFold(n_splits=5, shuffle=True, random_state=42)\n",
    "        best_expert_indices = np.zeros(len(X), dtype=int)\n",
    "        for train_idx, val_idx in kf.split(X):\n",
    "            X_val, y_val = X[val_idx], y.iloc[val_idx]\n",
    "            expert_errors = []\n",
    "            for expert in self.expert_models:\n",
    "                y_pred = expert.predict(X_val)\n",
    "                errors = np.abs(y_pred - y_val)\n",
    "                expert_errors.append(errors)\n",
    "            expert_errors = np.column_stack(expert_errors)\n",
    "            best_expert_indices[val_idx] = np.argmin(expert_errors, axis=1)\n",
    "        self.gater.fit(X, best_expert_indices)\n",
    "        return self\n",
    "\n",
    "    def predict_top_k_weights(self, X):\n",
    "        all_weights = self.gater.predict_proba(X)\n",
    "        top_k_indices = np.argsort(-all_weights, axis=1)[:, :self.k]\n",
    "        top_k_weights = np.array([\n",
    "            all_weights[i, top_k_indices[i]] for i in range(len(X))\n",
    "        ])\n",
    "        top_k_weights = top_k_weights / top_k_weights.sum(axis=1, keepdims=True)\n",
    "        return top_k_indices, top_k_weights\n"
   ],
   "outputs": [],
   "execution_count": 125
  },
  {
   "cell_type": "markdown",
   "id": "3a0e659b0adf0ef",
   "metadata": {},
   "source": [
    "Define the Mixture of Experts model"
   ]
  },
  {
   "cell_type": "code",
   "id": "5c13d1905aeb3d9c",
   "metadata": {
    "ExecuteTime": {
     "end_time": "2025-05-17T12:34:30.605126Z",
     "start_time": "2025-05-17T12:34:30.593208Z"
    }
   },
   "source": [
    "class TopKMixtureOfExperts:\n",
    "    def __init__(self, k=2):\n",
    "        self.k = k\n",
    "        self.expert_models = None\n",
    "        self.expert_names = None\n",
    "        self.gating_model = None\n",
    "\n",
    "    def fit(self, experts, X_train_gate, y_train_gate):\n",
    "        expert_names, expert_models = zip(*experts)\n",
    "        self.expert_models = list(expert_models)\n",
    "        self.expert_names = list(expert_names)\n",
    "        self.gating_model = TopKGatingModel(self.expert_models, k=self.k)\n",
    "        self.gating_model.fit(X_train_gate, y_train_gate)\n",
    "        return self\n",
    "\n",
    "    def predict(self, X, verbose=False):\n",
    "        num_samples = len(X)\n",
    "        top_k_indices, top_k_weights = self.gating_model.predict_top_k_weights(X)\n",
    "    \n",
    "        expert_preds = {}\n",
    "        for expert_idx in np.unique(top_k_indices):\n",
    "            expert_preds[expert_idx] = self.expert_models[expert_idx].predict(X)\n",
    "    \n",
    "        final_predictions = np.zeros(num_samples)\n",
    "        \n",
    "        for i in range(num_samples):\n",
    "            preds = np.array([expert_preds[expert_idx][i] for expert_idx in top_k_indices[i]])\n",
    "            final_predictions[i] = np.sum(preds * top_k_weights[i])\n",
    "            if verbose:\n",
    "                print(f\"[Sample {i}] Experts: {top_k_indices[i]}, Weights: {top_k_weights[i]}. Used {\", \".join(self.expert_names[j] for j in top_k_indices[i])}\")\n",
    "        return final_predictions\n"
   ],
   "outputs": [],
   "execution_count": 126
  },
  {
   "cell_type": "markdown",
   "id": "68b2242c292bfee2",
   "metadata": {},
   "source": [
    "Train the gating model in MoE"
   ]
  },
  {
   "cell_type": "code",
   "id": "46f9e66e64d98d49",
   "metadata": {
    "ExecuteTime": {
     "end_time": "2025-05-17T12:36:58.116029Z",
     "start_time": "2025-05-17T12:36:57.803391Z"
    }
   },
   "source": [
    "moe_model = TopKMixtureOfExperts(k=2)\n",
    "moe_model.fit(experts, X_train_gating, y_train_gating)"
   ],
   "outputs": [
    {
     "data": {
      "text/plain": [
       "<__main__.TopKMixtureOfExperts at 0x21c0d7f4aa0>"
      ]
     },
     "execution_count": 133,
     "metadata": {},
     "output_type": "execute_result"
    }
   ],
   "execution_count": 133
  },
  {
   "metadata": {},
   "cell_type": "markdown",
   "source": "Training data results (only using the dataset for training the experts to avoid leakage from the gate training data)",
   "id": "85409538ff30cbe6"
  },
  {
   "metadata": {
    "ExecuteTime": {
     "end_time": "2025-05-17T12:42:46.636702Z",
     "start_time": "2025-05-17T12:42:46.187621Z"
    }
   },
   "cell_type": "code",
   "source": [
    "y_pred_train = moe_model.predict(spotify_preprocessor.fit_transform(X_train_experts), verbose=False)\n",
    "print_results('MoE model', mean_squared_error(y_train_experts, y_pred_train), r2_score(y_train_experts, y_pred_train))"
   ],
   "id": "a21e9ed3b0dadd8a",
   "outputs": [
    {
     "name": "stdout",
     "output_type": "stream",
     "text": [
      "Model: MoE model\n",
      "MSE: 0.000927732\n",
      "Score: 0.861646\n",
      "------------------------------------------\n"
     ]
    }
   ],
   "execution_count": 139
  },
  {
   "cell_type": "markdown",
   "id": "8b0ffdfa7e6c189d",
   "metadata": {},
   "source": [
    "Test data results"
   ]
  },
  {
   "cell_type": "code",
   "id": "86122a60cd923e85",
   "metadata": {
    "scrolled": true,
    "ExecuteTime": {
     "end_time": "2025-05-17T12:36:58.250513Z",
     "start_time": "2025-05-17T12:36:58.119828Z"
    }
   },
   "source": [
    "y_pred_test = moe_model.predict(X_test_moe, verbose=False)\n",
    "print_results('MoE model', mean_squared_error(y_test_moe, y_pred_test), r2_score(y_test_moe, y_pred_test))"
   ],
   "outputs": [
    {
     "name": "stdout",
     "output_type": "stream",
     "text": [
      "Model: MoE model\n",
      "MSE: 0.00147497\n",
      "Score: 0.789624\n",
      "------------------------------------------\n"
     ]
    }
   ],
   "execution_count": 134
  }
 ],
 "metadata": {
  "kernelspec": {
   "display_name": "Python 3",
   "language": "python",
   "name": "python3"
  },
  "language_info": {
   "codemirror_mode": {
    "name": "ipython",
    "version": 3
   },
   "file_extension": ".py",
   "mimetype": "text/x-python",
   "name": "python",
   "nbconvert_exporter": "python",
   "pygments_lexer": "ipython3",
   "version": "3.13.3"
  }
 },
 "nbformat": 4,
 "nbformat_minor": 5
}
