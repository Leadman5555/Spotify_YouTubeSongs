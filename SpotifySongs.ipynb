{
 "cells": [
  {
   "cell_type": "code",
   "id": "initial_id",
   "metadata": {
    "collapsed": true,
    "ExecuteTime": {
     "end_time": "2025-03-15T14:18:54.432401Z",
     "start_time": "2025-03-15T14:18:53.979056Z"
    }
   },
   "source": [
    "import numpy as np\n",
    "import pandas as pd\n",
    "import seaborn as sns\n",
    "import kagglehub\n",
    "import os\n",
    "from matplotlib import pyplot as plt\n",
    "from pandas import DataFrame\n",
    "\n",
    "PATH_TO_DATASET = os.path.join(kagglehub.dataset_download(\"salvatorerastelli/spotify-and-youtube\"), \"Spotify_Youtube.csv\")\n",
    "DATA_PATH = os.path.join(os.getcwd(), \"data\")\n",
    "PLOT_PATH = os.path.join(DATA_PATH, \"plots\")\n",
    "CSV_PATH = os.path.join(DATA_PATH, \"csv\")"
   ],
   "outputs": [
    {
     "name": "stdout",
     "output_type": "stream",
     "text": [
      "Warning: Looks like you're using an outdated `kagglehub` version, please consider updating (latest version: 0.3.10)\n"
     ]
    }
   ],
   "execution_count": 74
  },
  {
   "metadata": {},
   "cell_type": "markdown",
   "source": [
    "# Loading the dataset\n",
    "#### Initial dataset parsing\n",
    "Goal is to remove unwanted columns such as song URL as well as dividing columns into numeric and categorical.\n"
   ],
   "id": "6e08b300cacf4fa"
  },
  {
   "metadata": {
    "ExecuteTime": {
     "end_time": "2025-03-15T12:50:28.208548Z",
     "start_time": "2025-03-15T12:50:27.692Z"
    }
   },
   "cell_type": "code",
   "source": [
    "df = pd.read_csv(PATH_TO_DATASET)\n",
    "NUMERIC_COLUMNS = ['Danceability', 'Energy', 'Key', 'Loudness', 'Speechiness', 'Acousticness', 'Instrumentalness', 'Liveness', 'Valence', 'Tempo', 'Duration_ms', 'Views', 'Likes', 'Comments', 'Stream']\n",
    "CATEGORICAL_COLUMNS = ['Artist', 'Track', 'Album', 'Album_type', 'Title', 'Channel', 'Licensed', 'official_video']\n",
    "df.drop(columns=['Description', 'Url_youtube', 'Url_spotify', 'Uri'],axis=1, inplace=True)\n",
    "df.head()\n"
   ],
   "id": "b2596aebc95a672e",
   "outputs": [
    {
     "data": {
      "text/plain": [
       "   Unnamed: 0    Artist                                          Track  \\\n",
       "0           0  Gorillaz                                 Feel Good Inc.   \n",
       "1           1  Gorillaz                                Rhinestone Eyes   \n",
       "2           2  Gorillaz  New Gold (feat. Tame Impala and Bootie Brown)   \n",
       "3           3  Gorillaz                             On Melancholy Hill   \n",
       "4           4  Gorillaz                                 Clint Eastwood   \n",
       "\n",
       "                                           Album Album_type  Danceability  \\\n",
       "0                                     Demon Days      album         0.818   \n",
       "1                                  Plastic Beach      album         0.676   \n",
       "2  New Gold (feat. Tame Impala and Bootie Brown)     single         0.695   \n",
       "3                                  Plastic Beach      album         0.689   \n",
       "4                                       Gorillaz      album         0.663   \n",
       "\n",
       "   Energy   Key  Loudness  Speechiness  ...    Tempo  Duration_ms  \\\n",
       "0   0.705   6.0    -6.679       0.1770  ...  138.559     222640.0   \n",
       "1   0.703   8.0    -5.815       0.0302  ...   92.761     200173.0   \n",
       "2   0.923   1.0    -3.930       0.0522  ...  108.014     215150.0   \n",
       "3   0.739   2.0    -5.810       0.0260  ...  120.423     233867.0   \n",
       "4   0.694  10.0    -8.627       0.1710  ...  167.953     340920.0   \n",
       "\n",
       "                                               Title   Channel        Views  \\\n",
       "0         Gorillaz - Feel Good Inc. (Official Video)  Gorillaz  693555221.0   \n",
       "1  Gorillaz - Rhinestone Eyes [Storyboard Film] (...  Gorillaz   72011645.0   \n",
       "2  Gorillaz - New Gold ft. Tame Impala & Bootie B...  Gorillaz    8435055.0   \n",
       "3     Gorillaz - On Melancholy Hill (Official Video)  Gorillaz  211754952.0   \n",
       "4         Gorillaz - Clint Eastwood (Official Video)  Gorillaz  618480958.0   \n",
       "\n",
       "       Likes  Comments Licensed  official_video        Stream  \n",
       "0  6220896.0  169907.0     True            True  1.040235e+09  \n",
       "1  1079128.0   31003.0     True            True  3.100837e+08  \n",
       "2   282142.0    7399.0     True            True  6.306347e+07  \n",
       "3  1788577.0   55229.0     True            True  4.346636e+08  \n",
       "4  6197318.0  155930.0     True            True  6.172597e+08  \n",
       "\n",
       "[5 rows x 24 columns]"
      ],
      "text/html": [
       "<div>\n",
       "<style scoped>\n",
       "    .dataframe tbody tr th:only-of-type {\n",
       "        vertical-align: middle;\n",
       "    }\n",
       "\n",
       "    .dataframe tbody tr th {\n",
       "        vertical-align: top;\n",
       "    }\n",
       "\n",
       "    .dataframe thead th {\n",
       "        text-align: right;\n",
       "    }\n",
       "</style>\n",
       "<table border=\"1\" class=\"dataframe\">\n",
       "  <thead>\n",
       "    <tr style=\"text-align: right;\">\n",
       "      <th></th>\n",
       "      <th>Unnamed: 0</th>\n",
       "      <th>Artist</th>\n",
       "      <th>Track</th>\n",
       "      <th>Album</th>\n",
       "      <th>Album_type</th>\n",
       "      <th>Danceability</th>\n",
       "      <th>Energy</th>\n",
       "      <th>Key</th>\n",
       "      <th>Loudness</th>\n",
       "      <th>Speechiness</th>\n",
       "      <th>...</th>\n",
       "      <th>Tempo</th>\n",
       "      <th>Duration_ms</th>\n",
       "      <th>Title</th>\n",
       "      <th>Channel</th>\n",
       "      <th>Views</th>\n",
       "      <th>Likes</th>\n",
       "      <th>Comments</th>\n",
       "      <th>Licensed</th>\n",
       "      <th>official_video</th>\n",
       "      <th>Stream</th>\n",
       "    </tr>\n",
       "  </thead>\n",
       "  <tbody>\n",
       "    <tr>\n",
       "      <th>0</th>\n",
       "      <td>0</td>\n",
       "      <td>Gorillaz</td>\n",
       "      <td>Feel Good Inc.</td>\n",
       "      <td>Demon Days</td>\n",
       "      <td>album</td>\n",
       "      <td>0.818</td>\n",
       "      <td>0.705</td>\n",
       "      <td>6.0</td>\n",
       "      <td>-6.679</td>\n",
       "      <td>0.1770</td>\n",
       "      <td>...</td>\n",
       "      <td>138.559</td>\n",
       "      <td>222640.0</td>\n",
       "      <td>Gorillaz - Feel Good Inc. (Official Video)</td>\n",
       "      <td>Gorillaz</td>\n",
       "      <td>693555221.0</td>\n",
       "      <td>6220896.0</td>\n",
       "      <td>169907.0</td>\n",
       "      <td>True</td>\n",
       "      <td>True</td>\n",
       "      <td>1.040235e+09</td>\n",
       "    </tr>\n",
       "    <tr>\n",
       "      <th>1</th>\n",
       "      <td>1</td>\n",
       "      <td>Gorillaz</td>\n",
       "      <td>Rhinestone Eyes</td>\n",
       "      <td>Plastic Beach</td>\n",
       "      <td>album</td>\n",
       "      <td>0.676</td>\n",
       "      <td>0.703</td>\n",
       "      <td>8.0</td>\n",
       "      <td>-5.815</td>\n",
       "      <td>0.0302</td>\n",
       "      <td>...</td>\n",
       "      <td>92.761</td>\n",
       "      <td>200173.0</td>\n",
       "      <td>Gorillaz - Rhinestone Eyes [Storyboard Film] (...</td>\n",
       "      <td>Gorillaz</td>\n",
       "      <td>72011645.0</td>\n",
       "      <td>1079128.0</td>\n",
       "      <td>31003.0</td>\n",
       "      <td>True</td>\n",
       "      <td>True</td>\n",
       "      <td>3.100837e+08</td>\n",
       "    </tr>\n",
       "    <tr>\n",
       "      <th>2</th>\n",
       "      <td>2</td>\n",
       "      <td>Gorillaz</td>\n",
       "      <td>New Gold (feat. Tame Impala and Bootie Brown)</td>\n",
       "      <td>New Gold (feat. Tame Impala and Bootie Brown)</td>\n",
       "      <td>single</td>\n",
       "      <td>0.695</td>\n",
       "      <td>0.923</td>\n",
       "      <td>1.0</td>\n",
       "      <td>-3.930</td>\n",
       "      <td>0.0522</td>\n",
       "      <td>...</td>\n",
       "      <td>108.014</td>\n",
       "      <td>215150.0</td>\n",
       "      <td>Gorillaz - New Gold ft. Tame Impala &amp; Bootie B...</td>\n",
       "      <td>Gorillaz</td>\n",
       "      <td>8435055.0</td>\n",
       "      <td>282142.0</td>\n",
       "      <td>7399.0</td>\n",
       "      <td>True</td>\n",
       "      <td>True</td>\n",
       "      <td>6.306347e+07</td>\n",
       "    </tr>\n",
       "    <tr>\n",
       "      <th>3</th>\n",
       "      <td>3</td>\n",
       "      <td>Gorillaz</td>\n",
       "      <td>On Melancholy Hill</td>\n",
       "      <td>Plastic Beach</td>\n",
       "      <td>album</td>\n",
       "      <td>0.689</td>\n",
       "      <td>0.739</td>\n",
       "      <td>2.0</td>\n",
       "      <td>-5.810</td>\n",
       "      <td>0.0260</td>\n",
       "      <td>...</td>\n",
       "      <td>120.423</td>\n",
       "      <td>233867.0</td>\n",
       "      <td>Gorillaz - On Melancholy Hill (Official Video)</td>\n",
       "      <td>Gorillaz</td>\n",
       "      <td>211754952.0</td>\n",
       "      <td>1788577.0</td>\n",
       "      <td>55229.0</td>\n",
       "      <td>True</td>\n",
       "      <td>True</td>\n",
       "      <td>4.346636e+08</td>\n",
       "    </tr>\n",
       "    <tr>\n",
       "      <th>4</th>\n",
       "      <td>4</td>\n",
       "      <td>Gorillaz</td>\n",
       "      <td>Clint Eastwood</td>\n",
       "      <td>Gorillaz</td>\n",
       "      <td>album</td>\n",
       "      <td>0.663</td>\n",
       "      <td>0.694</td>\n",
       "      <td>10.0</td>\n",
       "      <td>-8.627</td>\n",
       "      <td>0.1710</td>\n",
       "      <td>...</td>\n",
       "      <td>167.953</td>\n",
       "      <td>340920.0</td>\n",
       "      <td>Gorillaz - Clint Eastwood (Official Video)</td>\n",
       "      <td>Gorillaz</td>\n",
       "      <td>618480958.0</td>\n",
       "      <td>6197318.0</td>\n",
       "      <td>155930.0</td>\n",
       "      <td>True</td>\n",
       "      <td>True</td>\n",
       "      <td>6.172597e+08</td>\n",
       "    </tr>\n",
       "  </tbody>\n",
       "</table>\n",
       "<p>5 rows × 24 columns</p>\n",
       "</div>"
      ]
     },
     "execution_count": 11,
     "metadata": {},
     "output_type": "execute_result"
    }
   ],
   "execution_count": 11
  },
  {
   "metadata": {},
   "cell_type": "markdown",
   "source": [
    "# Reading basic data\n",
    "\n",
    "#### Numerical values"
   ],
   "id": "371153f77e4c39b8"
  },
  {
   "metadata": {
    "ExecuteTime": {
     "end_time": "2025-03-15T13:22:54.033100Z",
     "start_time": "2025-03-15T13:22:53.984918Z"
    }
   },
   "cell_type": "code",
   "source": [
    "\n",
    "numeric_missing_value = df[NUMERIC_COLUMNS].isna().sum()\n",
    "print(f\"Count of missing numeric values:\\n{numeric_missing_value}\\n\")\n",
    "df.dropna(subset=NUMERIC_COLUMNS, inplace=True)\n",
    "numeric_summary = df[NUMERIC_COLUMNS].describe(percentiles=[0.05, 0.5, 0.95])\n",
    "display(numeric_summary)"
   ],
   "id": "8962150ca50baf21",
   "outputs": [
    {
     "name": "stdout",
     "output_type": "stream",
     "text": [
      "Count of missing numeric values:\n",
      " Danceability        0\n",
      "Energy              0\n",
      "Key                 0\n",
      "Loudness            0\n",
      "Speechiness         0\n",
      "Acousticness        0\n",
      "Instrumentalness    0\n",
      "Liveness            0\n",
      "Valence             0\n",
      "Tempo               0\n",
      "Duration_ms         0\n",
      "Views               0\n",
      "Likes               0\n",
      "Comments            0\n",
      "Stream              0\n",
      "dtype: int64\n",
      "\n"
     ]
    },
    {
     "data": {
      "text/plain": [
       "       Danceability        Energy           Key      Loudness   Speechiness  \\\n",
       "count  19549.000000  19549.000000  19549.000000  19549.000000  19549.000000   \n",
       "mean       0.621059      0.635170      5.294337     -7.633179      0.095392   \n",
       "std        0.165489      0.213555      3.579338      4.618839      0.106243   \n",
       "min        0.000000      0.000020      0.000000    -46.251000      0.000000   \n",
       "5%         0.319000      0.220000      0.000000    -15.674200      0.027800   \n",
       "50%        0.639000      0.666000      5.000000     -6.516000      0.050700   \n",
       "95%        0.862000      0.929000     11.000000     -3.195800      0.319600   \n",
       "max        0.975000      1.000000     11.000000      0.920000      0.964000   \n",
       "\n",
       "       Acousticness  Instrumentalness      Liveness       Valence  \\\n",
       "count  19549.000000      19549.000000  19549.000000  19549.000000   \n",
       "mean       0.289106          0.055292      0.191226      0.528950   \n",
       "std        0.285908          0.192519      0.165197      0.245228   \n",
       "min        0.000001          0.000000      0.014500      0.000000   \n",
       "5%         0.001614          0.000000      0.058400      0.119000   \n",
       "50%        0.190000          0.000002      0.125000      0.536000   \n",
       "95%        0.885600          0.575400      0.551000      0.920000   \n",
       "max        0.996000          1.000000      1.000000      0.993000   \n",
       "\n",
       "              Tempo   Duration_ms         Views         Likes      Comments  \\\n",
       "count  19549.000000  1.954900e+04  1.954900e+04  1.954900e+04  1.954900e+04   \n",
       "mean     120.605702  2.246281e+05  9.545626e+07  6.700487e+05  2.786371e+04   \n",
       "std       29.619340  1.269126e+05  2.775744e+08  1.805054e+06  1.959074e+05   \n",
       "min        0.000000  3.098500e+04  2.600000e+01  0.000000e+00  0.000000e+00   \n",
       "5%        78.435600  1.342670e+05  5.476040e+04  8.340000e+02  1.100000e+01   \n",
       "50%      119.964000  2.132530e+05  1.491440e+07  1.279090e+05  3.343000e+03   \n",
       "95%      174.799600  3.342132e+05  4.398550e+08  3.041081e+06  1.020016e+05   \n",
       "max      243.372000  4.676058e+06  8.079649e+09  5.078865e+07  1.608314e+07   \n",
       "\n",
       "             Stream  \n",
       "count  1.954900e+04  \n",
       "mean   1.371101e+08  \n",
       "std    2.463589e+08  \n",
       "min    6.574000e+03  \n",
       "5%     2.651398e+06  \n",
       "50%    4.979139e+07  \n",
       "95%    5.844489e+08  \n",
       "max    3.386520e+09  "
      ],
      "text/html": [
       "<div>\n",
       "<style scoped>\n",
       "    .dataframe tbody tr th:only-of-type {\n",
       "        vertical-align: middle;\n",
       "    }\n",
       "\n",
       "    .dataframe tbody tr th {\n",
       "        vertical-align: top;\n",
       "    }\n",
       "\n",
       "    .dataframe thead th {\n",
       "        text-align: right;\n",
       "    }\n",
       "</style>\n",
       "<table border=\"1\" class=\"dataframe\">\n",
       "  <thead>\n",
       "    <tr style=\"text-align: right;\">\n",
       "      <th></th>\n",
       "      <th>Danceability</th>\n",
       "      <th>Energy</th>\n",
       "      <th>Key</th>\n",
       "      <th>Loudness</th>\n",
       "      <th>Speechiness</th>\n",
       "      <th>Acousticness</th>\n",
       "      <th>Instrumentalness</th>\n",
       "      <th>Liveness</th>\n",
       "      <th>Valence</th>\n",
       "      <th>Tempo</th>\n",
       "      <th>Duration_ms</th>\n",
       "      <th>Views</th>\n",
       "      <th>Likes</th>\n",
       "      <th>Comments</th>\n",
       "      <th>Stream</th>\n",
       "    </tr>\n",
       "  </thead>\n",
       "  <tbody>\n",
       "    <tr>\n",
       "      <th>count</th>\n",
       "      <td>19549.000000</td>\n",
       "      <td>19549.000000</td>\n",
       "      <td>19549.000000</td>\n",
       "      <td>19549.000000</td>\n",
       "      <td>19549.000000</td>\n",
       "      <td>19549.000000</td>\n",
       "      <td>19549.000000</td>\n",
       "      <td>19549.000000</td>\n",
       "      <td>19549.000000</td>\n",
       "      <td>19549.000000</td>\n",
       "      <td>1.954900e+04</td>\n",
       "      <td>1.954900e+04</td>\n",
       "      <td>1.954900e+04</td>\n",
       "      <td>1.954900e+04</td>\n",
       "      <td>1.954900e+04</td>\n",
       "    </tr>\n",
       "    <tr>\n",
       "      <th>mean</th>\n",
       "      <td>0.621059</td>\n",
       "      <td>0.635170</td>\n",
       "      <td>5.294337</td>\n",
       "      <td>-7.633179</td>\n",
       "      <td>0.095392</td>\n",
       "      <td>0.289106</td>\n",
       "      <td>0.055292</td>\n",
       "      <td>0.191226</td>\n",
       "      <td>0.528950</td>\n",
       "      <td>120.605702</td>\n",
       "      <td>2.246281e+05</td>\n",
       "      <td>9.545626e+07</td>\n",
       "      <td>6.700487e+05</td>\n",
       "      <td>2.786371e+04</td>\n",
       "      <td>1.371101e+08</td>\n",
       "    </tr>\n",
       "    <tr>\n",
       "      <th>std</th>\n",
       "      <td>0.165489</td>\n",
       "      <td>0.213555</td>\n",
       "      <td>3.579338</td>\n",
       "      <td>4.618839</td>\n",
       "      <td>0.106243</td>\n",
       "      <td>0.285908</td>\n",
       "      <td>0.192519</td>\n",
       "      <td>0.165197</td>\n",
       "      <td>0.245228</td>\n",
       "      <td>29.619340</td>\n",
       "      <td>1.269126e+05</td>\n",
       "      <td>2.775744e+08</td>\n",
       "      <td>1.805054e+06</td>\n",
       "      <td>1.959074e+05</td>\n",
       "      <td>2.463589e+08</td>\n",
       "    </tr>\n",
       "    <tr>\n",
       "      <th>min</th>\n",
       "      <td>0.000000</td>\n",
       "      <td>0.000020</td>\n",
       "      <td>0.000000</td>\n",
       "      <td>-46.251000</td>\n",
       "      <td>0.000000</td>\n",
       "      <td>0.000001</td>\n",
       "      <td>0.000000</td>\n",
       "      <td>0.014500</td>\n",
       "      <td>0.000000</td>\n",
       "      <td>0.000000</td>\n",
       "      <td>3.098500e+04</td>\n",
       "      <td>2.600000e+01</td>\n",
       "      <td>0.000000e+00</td>\n",
       "      <td>0.000000e+00</td>\n",
       "      <td>6.574000e+03</td>\n",
       "    </tr>\n",
       "    <tr>\n",
       "      <th>5%</th>\n",
       "      <td>0.319000</td>\n",
       "      <td>0.220000</td>\n",
       "      <td>0.000000</td>\n",
       "      <td>-15.674200</td>\n",
       "      <td>0.027800</td>\n",
       "      <td>0.001614</td>\n",
       "      <td>0.000000</td>\n",
       "      <td>0.058400</td>\n",
       "      <td>0.119000</td>\n",
       "      <td>78.435600</td>\n",
       "      <td>1.342670e+05</td>\n",
       "      <td>5.476040e+04</td>\n",
       "      <td>8.340000e+02</td>\n",
       "      <td>1.100000e+01</td>\n",
       "      <td>2.651398e+06</td>\n",
       "    </tr>\n",
       "    <tr>\n",
       "      <th>50%</th>\n",
       "      <td>0.639000</td>\n",
       "      <td>0.666000</td>\n",
       "      <td>5.000000</td>\n",
       "      <td>-6.516000</td>\n",
       "      <td>0.050700</td>\n",
       "      <td>0.190000</td>\n",
       "      <td>0.000002</td>\n",
       "      <td>0.125000</td>\n",
       "      <td>0.536000</td>\n",
       "      <td>119.964000</td>\n",
       "      <td>2.132530e+05</td>\n",
       "      <td>1.491440e+07</td>\n",
       "      <td>1.279090e+05</td>\n",
       "      <td>3.343000e+03</td>\n",
       "      <td>4.979139e+07</td>\n",
       "    </tr>\n",
       "    <tr>\n",
       "      <th>95%</th>\n",
       "      <td>0.862000</td>\n",
       "      <td>0.929000</td>\n",
       "      <td>11.000000</td>\n",
       "      <td>-3.195800</td>\n",
       "      <td>0.319600</td>\n",
       "      <td>0.885600</td>\n",
       "      <td>0.575400</td>\n",
       "      <td>0.551000</td>\n",
       "      <td>0.920000</td>\n",
       "      <td>174.799600</td>\n",
       "      <td>3.342132e+05</td>\n",
       "      <td>4.398550e+08</td>\n",
       "      <td>3.041081e+06</td>\n",
       "      <td>1.020016e+05</td>\n",
       "      <td>5.844489e+08</td>\n",
       "    </tr>\n",
       "    <tr>\n",
       "      <th>max</th>\n",
       "      <td>0.975000</td>\n",
       "      <td>1.000000</td>\n",
       "      <td>11.000000</td>\n",
       "      <td>0.920000</td>\n",
       "      <td>0.964000</td>\n",
       "      <td>0.996000</td>\n",
       "      <td>1.000000</td>\n",
       "      <td>1.000000</td>\n",
       "      <td>0.993000</td>\n",
       "      <td>243.372000</td>\n",
       "      <td>4.676058e+06</td>\n",
       "      <td>8.079649e+09</td>\n",
       "      <td>5.078865e+07</td>\n",
       "      <td>1.608314e+07</td>\n",
       "      <td>3.386520e+09</td>\n",
       "    </tr>\n",
       "  </tbody>\n",
       "</table>\n",
       "</div>"
      ]
     },
     "metadata": {},
     "output_type": "display_data"
    }
   ],
   "execution_count": 46
  },
  {
   "metadata": {},
   "cell_type": "markdown",
   "source": "#### Categorical values\n",
   "id": "40406331602c0ab9"
  },
  {
   "metadata": {
    "ExecuteTime": {
     "end_time": "2025-03-15T13:22:16.755344Z",
     "start_time": "2025-03-15T13:22:16.677155Z"
    }
   },
   "cell_type": "code",
   "source": [
    "categorical_missing_value = df[CATEGORICAL_COLUMNS].isna().sum()\n",
    "print(f\"Count of missing categorical values:\\n{categorical_missing_value}\\n\")\n",
    "df.dropna(subset=CATEGORICAL_COLUMNS, inplace=True)\n",
    "categorical_summary = df[CATEGORICAL_COLUMNS].describe()\n",
    "display(categorical_summary)\n",
    "#proportions for columns 'Album_type', 'Licensed' and 'official_video'\n",
    "categorical_proportions = [\n",
    "    df['Album_type'].value_counts(normalize=True),\n",
    "    df['Licensed'].value_counts(normalize=True),\n",
    "    df['official_video'].value_counts(normalize=True)\n",
    "]\n",
    "display(categorical_proportions)"
   ],
   "id": "3003a79c7788da6c",
   "outputs": [
    {
     "name": "stdout",
     "output_type": "stream",
     "text": [
      "Count of missing categorical values:\n",
      " Artist            0\n",
      "Track             0\n",
      "Album             0\n",
      "Album_type        0\n",
      "Title             0\n",
      "Channel           0\n",
      "Licensed          0\n",
      "official_video    0\n",
      "dtype: int64\n"
     ]
    },
    {
     "data": {
      "text/plain": [
       "             Artist                                      Track          Album  \\\n",
       "count         19549                                      19549          19549   \n",
       "unique         2040                                      16866          11381   \n",
       "top     SICK LEGEND  El Ultimo Adiós - Varios Artistas Version  Greatest Hits   \n",
       "freq             10                                         23             28   \n",
       "\n",
       "       Album_type                                              Title  \\\n",
       "count       19549                                              19549   \n",
       "unique          3                                              17534   \n",
       "top         album  Color Esperanza 2020 - Various Artists (Offici...   \n",
       "freq        14148                                                 18   \n",
       "\n",
       "         Channel Licensed official_video  \n",
       "count      19549    19549          19549  \n",
       "unique      6482        2              2  \n",
       "top     T-Series     True           True  \n",
       "freq         237    13727          15260  "
      ],
      "text/html": [
       "<div>\n",
       "<style scoped>\n",
       "    .dataframe tbody tr th:only-of-type {\n",
       "        vertical-align: middle;\n",
       "    }\n",
       "\n",
       "    .dataframe tbody tr th {\n",
       "        vertical-align: top;\n",
       "    }\n",
       "\n",
       "    .dataframe thead th {\n",
       "        text-align: right;\n",
       "    }\n",
       "</style>\n",
       "<table border=\"1\" class=\"dataframe\">\n",
       "  <thead>\n",
       "    <tr style=\"text-align: right;\">\n",
       "      <th></th>\n",
       "      <th>Artist</th>\n",
       "      <th>Track</th>\n",
       "      <th>Album</th>\n",
       "      <th>Album_type</th>\n",
       "      <th>Title</th>\n",
       "      <th>Channel</th>\n",
       "      <th>Licensed</th>\n",
       "      <th>official_video</th>\n",
       "    </tr>\n",
       "  </thead>\n",
       "  <tbody>\n",
       "    <tr>\n",
       "      <th>count</th>\n",
       "      <td>19549</td>\n",
       "      <td>19549</td>\n",
       "      <td>19549</td>\n",
       "      <td>19549</td>\n",
       "      <td>19549</td>\n",
       "      <td>19549</td>\n",
       "      <td>19549</td>\n",
       "      <td>19549</td>\n",
       "    </tr>\n",
       "    <tr>\n",
       "      <th>unique</th>\n",
       "      <td>2040</td>\n",
       "      <td>16866</td>\n",
       "      <td>11381</td>\n",
       "      <td>3</td>\n",
       "      <td>17534</td>\n",
       "      <td>6482</td>\n",
       "      <td>2</td>\n",
       "      <td>2</td>\n",
       "    </tr>\n",
       "    <tr>\n",
       "      <th>top</th>\n",
       "      <td>SICK LEGEND</td>\n",
       "      <td>El Ultimo Adiós - Varios Artistas Version</td>\n",
       "      <td>Greatest Hits</td>\n",
       "      <td>album</td>\n",
       "      <td>Color Esperanza 2020 - Various Artists (Offici...</td>\n",
       "      <td>T-Series</td>\n",
       "      <td>True</td>\n",
       "      <td>True</td>\n",
       "    </tr>\n",
       "    <tr>\n",
       "      <th>freq</th>\n",
       "      <td>10</td>\n",
       "      <td>23</td>\n",
       "      <td>28</td>\n",
       "      <td>14148</td>\n",
       "      <td>18</td>\n",
       "      <td>237</td>\n",
       "      <td>13727</td>\n",
       "      <td>15260</td>\n",
       "    </tr>\n",
       "  </tbody>\n",
       "</table>\n",
       "</div>"
      ]
     },
     "metadata": {},
     "output_type": "display_data"
    },
    {
     "data": {
      "text/plain": [
       "[Album_type\n",
       " album          0.723720\n",
       " single         0.239859\n",
       " compilation    0.036421\n",
       " Name: proportion, dtype: float64,\n",
       " Licensed\n",
       " True     0.702184\n",
       " False    0.297816\n",
       " Name: proportion, dtype: float64,\n",
       " official_video\n",
       " True     0.780603\n",
       " False    0.219397\n",
       " Name: proportion, dtype: float64]"
      ]
     },
     "metadata": {},
     "output_type": "display_data"
    }
   ],
   "execution_count": 44
  },
  {
   "metadata": {},
   "cell_type": "markdown",
   "source": "#### [Optional] Save the data to .csv files.",
   "id": "bdacca9c1ab4e4ed"
  },
  {
   "metadata": {
    "ExecuteTime": {
     "end_time": "2025-03-15T14:02:22.873675Z",
     "start_time": "2025-03-15T14:02:22.853199Z"
    }
   },
   "cell_type": "code",
   "source": [
    "def save_to_csv(to_save, filename):\n",
    "    full_filename = f'{filename}.csv'\n",
    "    if not isinstance(to_save, list):\n",
    "        to_save.to_csv(os.path.join(CSV_PATH, full_filename), index=True)\n",
    "    else:\n",
    "        to_save[0].to_csv(os.path.join(CSV_PATH, full_filename), index=True)\n",
    "        for df_to_save in to_save[1:]:\n",
    "            df_to_save.to_csv(os.path.join(CSV_PATH, full_filename), mode='a', index=True)\n",
    "    print(f\"Saved file {full_filename}\")\n",
    "\n",
    "save_to_csv(numeric_summary, \"numeric_summary\")\n",
    "save_to_csv(numeric_missing_value, \"numeric_missing_value\")\n",
    "save_to_csv(categorical_summary, \"categorical_summary\")\n",
    "save_to_csv(categorical_missing_value, \"categorical_missing_value\")\n",
    "save_to_csv(categorical_proportions, \"categorical_proportions\")\n",
    "print(f\"Data saved to {CSV_PATH}\")"
   ],
   "id": "f45804983a4c27c8",
   "outputs": [
    {
     "name": "stdout",
     "output_type": "stream",
     "text": [
      "Save file numeric_summary.csv\n",
      "Save file numeric_missing_value.csv\n",
      "Save file categorical_summary.csv\n",
      "Save file categorical_missing_value.csv\n",
      "Save file categorical_proportions.csv\n",
      "Data saved to C:\\Users\\Ignac\\OneDrive\\Pulpit\\Studia\\S4\\MSID\\SpotifySongs\\data\n"
     ]
    }
   ],
   "execution_count": 69
  },
  {
   "metadata": {},
   "cell_type": "code",
   "outputs": [],
   "execution_count": null,
   "source": "# Visualizing the data",
   "id": "6ec67eaf45569aaf"
  },
  {
   "metadata": {
    "ExecuteTime": {
     "end_time": "2025-03-15T14:18:44.605309Z",
     "start_time": "2025-03-15T14:18:44.596623Z"
    }
   },
   "cell_type": "code",
   "source": [
    "def save_plot(plot, filename):\n",
    "    full_filename = f'{filename}.png'\n",
    "    plot.savefig(os.path.join(PLOT_PATH, full_filename), bbox_inches='tight')\n",
    "    print(f\"Saved plot {full_filename}\")"
   ],
   "id": "6dfb17231239d6f2",
   "outputs": [],
   "execution_count": 72
  },
  {
   "metadata": {},
   "cell_type": "markdown",
   "source": [
    "## 1. Boxplots and violinplots\n",
    "\n",
    "#### Relationship between song's performance (number of Views (YouTube) and Streams (Spotify)) and the presence of an official video for the song\n",
    "\n",
    "- **Streams**"
   ],
   "id": "9cad8762b868bba4"
  },
  {
   "metadata": {
    "ExecuteTime": {
     "end_time": "2025-03-15T14:42:33.907016Z",
     "start_time": "2025-03-15T14:42:33.591265Z"
    }
   },
   "cell_type": "code",
   "source": [
    "sns.boxplot(x=\"official_video\", y=\"Stream\", data=df)\n",
    "plt.show()\n",
    "plt.close()\n",
    "sns.violinplot(x=\"official_video\", y=\"Stream\", data=df)\n",
    "plt.show()\n",
    "plt.close()"
   ],
   "id": "9d969d980342d044",
   "outputs": [
    {
     "data": {
      "text/plain": [
       "<Figure size 640x480 with 1 Axes>"
      ],
      "image/png": "[encoded data removed]"
     },
     "metadata": {},
     "output_type": "display_data"
    },
    {
     "data": {
      "text/plain": [
       "<Figure size 640x480 with 1 Axes>"
      ],
      "image/png": "[encoded data removed]"
     },
     "metadata": {},
     "output_type": "display_data"
    }
   ],
   "execution_count": 84
  },
  {
   "metadata": {},
   "cell_type": "markdown",
   "source": "- **Views**",
   "id": "b9975c22e3aaa9a3"
  },
  {
   "metadata": {
    "ExecuteTime": {
     "end_time": "2025-03-15T14:44:17.478364Z",
     "start_time": "2025-03-15T14:44:17.215525Z"
    }
   },
   "cell_type": "code",
   "source": [
    "sns.boxplot(x=\"official_video\", y=\"Views\", data=df)\n",
    "plt.show()\n",
    "plt.close()\n",
    "sns.violinplot(x=\"official_video\", y=\"Views\", data=df)\n",
    "plt.show()\n",
    "plt.close()"
   ],
   "id": "31a671a2dc79d3d9",
   "outputs": [
    {
     "data": {
      "text/plain": [
       "<Figure size 640x480 with 1 Axes>"
      ],
      "image/png": "[encoded data removed]"
     },
     "metadata": {},
     "output_type": "display_data"
    },
    {
     "data": {
      "text/plain": [
       "<Figure size 640x480 with 1 Axes>"
      ],
      "image/png": "[encoded data removed]"
     },
     "metadata": {},
     "output_type": "display_data"
    }
   ],
   "execution_count": 85
  },
  {
   "metadata": {},
   "cell_type": "markdown",
   "source": "#### Relationship between the upload format of a song (as a single, album or part of a compilation) and the number of streams on Spotify",
   "id": "ee5a94774b98c483"
  },
  {
   "metadata": {
    "ExecuteTime": {
     "end_time": "2025-03-15T14:46:08.897344Z",
     "start_time": "2025-03-15T14:46:08.667649Z"
    }
   },
   "cell_type": "code",
   "source": [
    "sns.boxplot(x=\"Album_type\", y=\"Stream\", data=df)\n",
    "plt.show()\n",
    "plt.close()\n",
    "sns.violinplot(x=\"Album_type\", y=\"Stream\", data=df)\n",
    "plt.show()\n",
    "plt.close()"
   ],
   "id": "eb66e992ff8674de",
   "outputs": [
    {
     "data": {
      "text/plain": [
       "<Figure size 640x480 with 1 Axes>"
      ],
      "image/png": "[encoded data removed]"
     },
     "metadata": {},
     "output_type": "display_data"
    },
    {
     "data": {
      "text/plain": [
       "<Figure size 640x480 with 1 Axes>"
      ],
      "image/png": "[encoded data removed]"
     },
     "metadata": {},
     "output_type": "display_data"
    }
   ],
   "execution_count": 86
  },
  {
   "metadata": {},
   "cell_type": "markdown",
   "source": "##### [Optional] Save boxplots and violinplots to a file",
   "id": "2631a76516c3886f"
  },
  {
   "metadata": {
    "ExecuteTime": {
     "end_time": "2025-03-15T14:48:17.812688Z",
     "start_time": "2025-03-15T14:48:16.885167Z"
    }
   },
   "cell_type": "code",
   "source": [
    "sns.boxplot(x=\"official_video\", y=\"Stream\", data=df)\n",
    "save_plot(plt, \"boxplot_official_video_to_stream\")\n",
    "plt.close()\n",
    "sns.violinplot(x=\"official_video\", y=\"Stream\", data=df)\n",
    "save_plot(plt, \"violinplot_official_video_to_stream\")\n",
    "plt.close()\n",
    "sns.boxplot(x=\"official_video\", y=\"Views\", data=df)\n",
    "save_plot(plt, \"boxplot_official_video_to_views\")\n",
    "plt.close()\n",
    "sns.violinplot(x=\"official_video\", y=\"Views\", data=df)\n",
    "save_plot(plt, \"violinplot_official_video_to_views\")\n",
    "plt.close()\n",
    "sns.boxplot(x=\"Album_type\", y=\"Stream\", data=df)\n",
    "save_plot(plt, \"boxplot_album_type_to_stream\")\n",
    "plt.close()\n",
    "sns.violinplot(x=\"Album_type\", y=\"Stream\", data=df)\n",
    "save_plot(plt, \"violinplot_album_type_to_stream\")\n",
    "plt.close()"
   ],
   "id": "7b221954cc8ab28",
   "outputs": [
    {
     "name": "stdout",
     "output_type": "stream",
     "text": [
      "Saved plot boxplot_official_video_to_stream.png\n",
      "Saved plot violinplot_official_video_to_stream.png\n",
      "Saved plot boxplot_official_video_to_views.png\n",
      "Saved plot violinplot_official_video_to_views.png\n",
      "Saved plot boxplot_album_type_to_stream.png\n",
      "Saved plot violinplot_album_type_to_stream.png\n"
     ]
    }
   ],
   "execution_count": 87
  }
 ],
 "metadata": {
  "kernelspec": {
   "display_name": "Python 3",
   "language": "python",
   "name": "python3"
  },
  "language_info": {
   "codemirror_mode": {
    "name": "ipython",
    "version": 2
   },
   "file_extension": ".py",
   "mimetype": "text/x-python",
   "name": "python",
   "nbconvert_exporter": "python",
   "pygments_lexer": "ipython2",
   "version": "2.7.6"
  }
 },
 "nbformat": 4,
 "nbformat_minor": 5
}
