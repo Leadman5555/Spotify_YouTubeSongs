{
 "cells": [
  {
   "cell_type": "code",
   "id": "initial_id",
   "metadata": {
    "collapsed": true
   },
   "source": [
    "import numpy as np\n",
    "import pandas as pd\n",
    "import seaborn as sns\n",
    "import kagglehub\n",
    "import os\n",
    "from matplotlib import pyplot as plt\n",
    "import statsmodels.api as sm\n",
    "from sklearn.preprocessing import MinMaxScaler, StandardScaler\n",
    "from sklearn.decomposition import PCA\n",
    "\n",
    "\n",
    "PATH_TO_DATASET = os.path.join(kagglehub.dataset_download(\"salvatorerastelli/spotify-and-youtube\"),\n",
    "                               \"Spotify_Youtube.csv\")\n",
    "DATA_PATH = os.path.join(os.getcwd(), \"data\")\n",
    "PLOT_PATH = os.path.join(DATA_PATH, \"plots\")\n",
    "CSV_PATH = os.path.join(DATA_PATH, \"csv\")"
   ],
   "outputs": [],
   "execution_count": null
  },
  {
   "metadata": {},
   "cell_type": "markdown",
   "source": [
    "# Loading the dataset\n",
    "#### Initial dataset parsing\n",
    "The purpose is to remove unwanted columns such as song URL as well as dividing columns into numeric and categorical.\n"
   ],
   "id": "6e08b300cacf4fa"
  },
  {
   "metadata": {},
   "cell_type": "code",
   "source": [
    "df = pd.read_csv(PATH_TO_DATASET)\n",
    "NUMERIC_COLUMNS = ['Danceability', 'Energy', 'Key', 'Loudness', 'Speechiness', 'Acousticness', 'Instrumentalness',\n",
    "                   'Liveness', 'Valence', 'Tempo', 'Duration_ms', 'Views', 'Likes', 'Comments', 'Stream']\n",
    "CATEGORICAL_COLUMNS = ['Album_type', 'Licensed', 'official_video']\n",
    "df.drop(\n",
    "    columns=['Description', 'Url_youtube', 'Url_spotify', 'Uri', 'Title', 'Channel', 'Album', 'Track', 'Unnamed: 0'],\n",
    "    axis=1, inplace=True)\n",
    "df.head()\n"
   ],
   "id": "b2596aebc95a672e",
   "outputs": [],
   "execution_count": null
  },
  {
   "metadata": {},
   "cell_type": "markdown",
   "source": "#### Normalizing Loudness metric to avoid negative values",
   "id": "5f950a4467c279a"
  },
  {
   "metadata": {},
   "cell_type": "code",
   "source": [
    "df['Loudness']= MinMaxScaler(feature_range=(0, 1)).fit_transform(df[['Loudness']])\n",
    "df.head()"
   ],
   "id": "9fb9a9c4ed4885ab",
   "outputs": [],
   "execution_count": null
  },
  {
   "metadata": {},
   "cell_type": "markdown",
   "source": [
    "#### Encoding non-boolean categorical variables\n",
    "Album_type category has three distinct values: Album, Compilation and Single."
   ],
   "id": "d58d35114c40a6e2"
  },
  {
   "metadata": {},
   "cell_type": "code",
   "source": [
    "df['Album_type'] = pd.factorize(df['Album_type'])[0]\n",
    "df.head()"
   ],
   "id": "fb8f23d089c04915",
   "outputs": [],
   "execution_count": null
  },
  {
   "metadata": {},
   "cell_type": "markdown",
   "source": [
    "# Reading basic data\n",
    "\n",
    "#### Numerical values"
   ],
   "id": "371153f77e4c39b8"
  },
  {
   "metadata": {},
   "cell_type": "code",
   "source": [
    "numeric_missing_value = df[NUMERIC_COLUMNS].isna().sum()\n",
    "print(f\"Count of missing numeric values:\\n{numeric_missing_value}\\n\")\n",
    "df.dropna(subset=NUMERIC_COLUMNS, inplace=True)\n",
    "numeric_summary = df[NUMERIC_COLUMNS].describe(percentiles=[0.05, 0.5, 0.95])\n",
    "display(numeric_summary)"
   ],
   "id": "8962150ca50baf21",
   "outputs": [],
   "execution_count": null
  },
  {
   "metadata": {},
   "cell_type": "markdown",
   "source": "#### Categorical values\n",
   "id": "40406331602c0ab9"
  },
  {
   "metadata": {},
   "cell_type": "code",
   "source": [
    "categorical_missing_value = df[CATEGORICAL_COLUMNS].isna().sum()\n",
    "print(f\"Count of missing categorical values:\\n{categorical_missing_value}\\n\")\n",
    "df.dropna(subset=CATEGORICAL_COLUMNS, inplace=True)\n",
    "categorical_summary = df[CATEGORICAL_COLUMNS].describe()\n",
    "display(categorical_summary)\n",
    "categorical_proportions = [\n",
    "    df['Album_type'].value_counts(normalize=True),\n",
    "    df['Licensed'].value_counts(normalize=True),\n",
    "    df['official_video'].value_counts(normalize=True)\n",
    "]\n",
    "display(categorical_proportions)"
   ],
   "id": "3003a79c7788da6c",
   "outputs": [],
   "execution_count": null
  },
  {
   "metadata": {},
   "cell_type": "markdown",
   "source": "#### [Optional] Save the data to .csv files.",
   "id": "bdacca9c1ab4e4ed"
  },
  {
   "metadata": {},
   "cell_type": "code",
   "source": [
    "def save_to_csv(to_save, filename):\n",
    "    full_filename = f'{filename}.csv'\n",
    "    if not isinstance(to_save, list):\n",
    "        to_save.to_csv(os.path.join(CSV_PATH, full_filename), index=True)\n",
    "    else:\n",
    "        to_save[0].to_csv(os.path.join(CSV_PATH, full_filename), index=True)\n",
    "        for df_to_save in to_save[1:]:\n",
    "            df_to_save.to_csv(os.path.join(CSV_PATH, full_filename), mode='a', index=True)\n",
    "    print(f\"Saved file {full_filename}\")\n",
    "\n",
    "\n",
    "save_to_csv(numeric_summary, \"numeric_summary\")\n",
    "save_to_csv(numeric_missing_value, \"numeric_missing_value\")\n",
    "save_to_csv(categorical_summary, \"categorical_summary\")\n",
    "save_to_csv(categorical_missing_value, \"categorical_missing_value\")\n",
    "save_to_csv(categorical_proportions, \"categorical_proportions\")\n",
    "print(f\"Data saved to {CSV_PATH}\")"
   ],
   "id": "f45804983a4c27c8",
   "outputs": [],
   "execution_count": null
  },
  {
   "metadata": {},
   "cell_type": "markdown",
   "source": "# Visualizing the data",
   "id": "38c590620e1ab03c"
  },
  {
   "metadata": {},
   "cell_type": "code",
   "source": [
    "def save_plot(plot, filename):\n",
    "    full_filename = f'{filename}.png'\n",
    "    plot.savefig(os.path.join(PLOT_PATH, full_filename), bbox_inches='tight', dpi=300)\n",
    "    print(f\"Saved plot {full_filename}\")"
   ],
   "id": "6dfb17231239d6f2",
   "outputs": [],
   "execution_count": null
  },
  {
   "metadata": {},
   "cell_type": "markdown",
   "source": [
    "# Removing the outliers\n",
    "Due to extremely large differences in values for numeric columns such as 'Stream', 'Views' or 'Likes', with some differences reaching even six magnitudes as we compare both global hits and niche songs by fledgling singers, it is crucial to eliminate the outliers before proceeding further.\n",
    "Sample boxplot without having removed the outliers below:"
   ],
   "id": "81af237dd568c4e1"
  },
  {
   "metadata": {},
   "cell_type": "code",
   "source": [
    "sns.boxplot(data=df, x=\"Album_type\", y=\"Stream\")\n",
    "plt.show()\n",
    "plt.close()"
   ],
   "id": "b9f8b72cff156f1",
   "outputs": [],
   "execution_count": null
  },
  {
   "metadata": {},
   "cell_type": "markdown",
   "source": "As such, using the IQR method to remove outliers for numeric columns and to drop those with more than 20% outliers (too unpredictable data):",
   "id": "f0d16ba3da9e99f8"
  },
  {
   "metadata": {},
   "cell_type": "code",
   "source": [
    "df_clipped = df.copy()\n",
    "for column in NUMERIC_COLUMNS:\n",
    "    Q1 = df[column].quantile(0.25)\n",
    "    Q3 = df[column].quantile(0.75)\n",
    "    IQR = Q3 - Q1\n",
    "    outlier_count = df[column][(df[column] < Q1 - 1.5 * IQR) | (df[column] > Q3 + 1.5 * IQR)].count()\n",
    "    print(f\"Outlier count: {outlier_count} for column {column}. {outlier_count / len(df) * 100:.2f}% of the dataset\")\n",
    "    if outlier_count > 0:\n",
    "        if outlier_count > len(df) / 5:\n",
    "            print(f\"Dropping column {column} as outlier count is too high\")\n",
    "            NUMERIC_COLUMNS.remove(column)\n",
    "            df_clipped.drop(columns=column, inplace=True)\n",
    "        else:\n",
    "            df_clipped[column] = df_clipped[column].clip(lower=Q1 - 1.5 * IQR, upper=Q3 + 1.5 * IQR)\n",
    "print(f\"Numeric columns after removing outliers: {NUMERIC_COLUMNS}\")"
   ],
   "id": "1464feeea79b7eed",
   "outputs": [],
   "execution_count": null
  },
  {
   "metadata": {},
   "cell_type": "markdown",
   "source": [
    "## 1. Boxplots and Violin plots\n",
    "\n",
    "#### Relationship between song's performance (number of Views (YouTube) and Streams (Spotify)) and the presence of an official video for the song\n",
    "\n",
    "- **Streams**"
   ],
   "id": "9cad8762b868bba4"
  },
  {
   "metadata": {},
   "cell_type": "code",
   "source": [
    "sns.boxplot(x=\"official_video\", y=\"Stream\", data=df_clipped)\n",
    "plt.title(\"Boxplot: Official Video vs Streams\")\n",
    "plt.xlabel(\"Official Video\")\n",
    "plt.ylabel(\"Number of streams\")\n",
    "plt.show()\n",
    "plt.close()\n",
    "sns.violinplot(x=\"official_video\", y=\"Stream\", data=df_clipped)\n",
    "plt.title(\"Violin plot: Official Video vs Streams\")\n",
    "plt.xlabel(\"Official Video\")\n",
    "plt.ylabel(\"Number of streams\")\n",
    "plt.show()\n",
    "plt.close()"
   ],
   "id": "9d969d980342d044",
   "outputs": [],
   "execution_count": null
  },
  {
   "metadata": {},
   "cell_type": "markdown",
   "source": "- **Views**",
   "id": "b9975c22e3aaa9a3"
  },
  {
   "metadata": {},
   "cell_type": "code",
   "source": [
    "sns.boxplot(x=\"official_video\", y=\"Views\", data=df_clipped)\n",
    "plt.title(\"Boxplot: Official Video vs Views\")\n",
    "plt.xlabel(\"Official Video\")\n",
    "plt.ylabel(\"Number of views\")\n",
    "plt.show()\n",
    "plt.close()\n",
    "sns.violinplot(x=\"official_video\", y=\"Views\", data=df_clipped)\n",
    "plt.title(\"Violin plot: Official Video vs Views\")\n",
    "plt.xlabel(\"Official Video\")\n",
    "plt.ylabel(\"Number of views\")\n",
    "plt.show()\n",
    "plt.close()"
   ],
   "id": "31a671a2dc79d3d9",
   "outputs": [],
   "execution_count": null
  },
  {
   "metadata": {},
   "cell_type": "markdown",
   "source": "#### Relationship between the upload format of a song (as a single, album or part of a compilation) and the number of streams on Spotify",
   "id": "ee5a94774b98c483"
  },
  {
   "metadata": {},
   "cell_type": "code",
   "source": [
    "sns.boxplot(x=\"Album_type\", y=\"Stream\", data=df_clipped)\n",
    "plt.title(\"Boxplot: Album type vs Streams\")\n",
    "plt.xlabel(\"Album type\")\n",
    "plt.ylabel(\"Number of streams\")\n",
    "plt.show()\n",
    "plt.close()\n",
    "sns.violinplot(x=\"Album_type\", y=\"Stream\", data=df_clipped)\n",
    "plt.title(\"Violin plot: Album type vs Streams\")\n",
    "plt.xlabel(\"Album type\")\n",
    "plt.ylabel(\"Number of streams\")\n",
    "plt.show()\n",
    "plt.close()"
   ],
   "id": "eb66e992ff8674de",
   "outputs": [],
   "execution_count": null
  },
  {
   "metadata": {},
   "cell_type": "markdown",
   "source": "##### [Optional] Save boxplots and violinplots to a file",
   "id": "2631a76516c3886f"
  },
  {
   "metadata": {},
   "cell_type": "code",
   "source": [
    "sns.boxplot(x=\"official_video\", y=\"Views\", data=df_clipped)\n",
    "plt.title(\"Boxplot: Official Video vs Views\")\n",
    "plt.xlabel(\"Official Video\")\n",
    "plt.ylabel(\"Number of views\")\n",
    "save_plot(plt, \"boxplot_official_video_vs_views\")\n",
    "plt.close()\n",
    "sns.violinplot(x=\"official_video\", y=\"Views\", data=df_clipped)\n",
    "plt.title(\"Violin plot: Official Video vs Views\")\n",
    "plt.xlabel(\"Official Video\")\n",
    "plt.ylabel(\"Number of views\")\n",
    "save_plot(plt, \"violinplot_official_video_vs_views\")\n",
    "plt.close()\n",
    "sns.boxplot(x=\"official_video\", y=\"Stream\", data=df_clipped)\n",
    "plt.title(\"Boxplot: Official Video vs Streams\")\n",
    "plt.xlabel(\"Official Video\")\n",
    "plt.ylabel(\"Number of streams\")\n",
    "save_plot(plt, \"boxplot_official_video_vs_stream\")\n",
    "plt.close()\n",
    "sns.violinplot(x=\"official_video\", y=\"Stream\", data=df_clipped)\n",
    "plt.title(\"Violin plot: Official Video vs Streams\")\n",
    "plt.xlabel(\"Official Video\")\n",
    "plt.ylabel(\"Number of streams\")\n",
    "save_plot(plt, \"violinplot_official_video_vs_stream\")\n",
    "plt.close()\n",
    "sns.boxplot(x=\"Album_type\", y=\"Stream\", data=df_clipped)\n",
    "plt.title(\"Boxplot: Album Type vs Streams\")\n",
    "plt.xlabel(\"Album Type\")\n",
    "plt.ylabel(\"Number of streams\")\n",
    "save_plot(plt, \"boxplot_album_type_vs_stream\")\n",
    "plt.close()\n",
    "sns.violinplot(x=\"Album_type\", y=\"Stream\", data=df_clipped)\n",
    "plt.title(\"Violin plot: Album Type vs Streams\")\n",
    "plt.xlabel(\"Album Type\")\n",
    "plt.ylabel(\"Number of streams\")\n",
    "save_plot(plt, \"violinplot_album_type_vs_stream\")\n",
    "plt.close()"
   ],
   "id": "7b221954cc8ab28",
   "outputs": [],
   "execution_count": null
  },
  {
   "metadata": {},
   "cell_type": "markdown",
   "source": [
    "# 2. Error bar visualization\n",
    "Due to large spread of data in terms of important numeric values, such as the number of streams or likes, percentile intervals will be used for them instead of standard deviation or standard error to plot the error bars.\n",
    "Comparison between performance of songs with an official video on Spotify (streams) and YouTube with 90% interval."
   ],
   "id": "42e63c8dab2dc1f2"
  },
  {
   "metadata": {},
   "cell_type": "code",
   "source": [
    "sns.barplot(x=\"official_video\", y=\"Stream\", data=df_clipped, errorbar=(\"pi\", 90))\n",
    "plt.title(\"Barplot: Official Video vs Streams\")\n",
    "plt.xlabel(\"Official Video\")\n",
    "plt.ylabel(\"Number of streams\")\n",
    "plt.show()\n",
    "plt.close()\n",
    "sns.barplot(x=\"official_video\", y=\"Views\", data=df_clipped, errorbar=(\"pi\", 90))\n",
    "plt.title(\"Barplot: Official Video vs Views\")\n",
    "plt.xlabel(\"Official Video\")\n",
    "plt.ylabel(\"Number of views\")\n",
    "plt.show()\n",
    "plt.close()"
   ],
   "id": "f681926295d15a3a",
   "outputs": [],
   "execution_count": null
  },
  {
   "metadata": {},
   "cell_type": "markdown",
   "source": [
    "# 3. Histograms for numeric data\n",
    "\n",
    "#### Distribution of views and streams"
   ],
   "id": "4300f5d7e0414236"
  },
  {
   "metadata": {},
   "cell_type": "code",
   "source": [
    "sns.histplot(data=df_clipped, x=\"Views\", bins=50)\n",
    "plt.title(\"Distribution of Views\")\n",
    "plt.show()\n",
    "plt.close()\n",
    "sns.histplot(data=df_clipped, x=\"Stream\", bins=50)\n",
    "plt.title(\"Distribution of Streams\")\n",
    "plt.show()\n",
    "plt.close()"
   ],
   "id": "359f36af5e983500",
   "outputs": [],
   "execution_count": null
  },
  {
   "metadata": {},
   "cell_type": "markdown",
   "source": "#### Distribution of song metrics",
   "id": "adceaa6a7d560f14"
  },
  {
   "metadata": {},
   "cell_type": "code",
   "source": [
    "sns.histplot(data=df_clipped, x=\"Energy\", bins=50)\n",
    "plt.title(\"Distribution of Energy\")\n",
    "plt.show()\n",
    "plt.close()\n",
    "sns.histplot(data=df_clipped, x=\"Speechiness\", bins=50)\n",
    "plt.title(\"Distribution of Speechiness\")\n",
    "plt.show()\n",
    "plt.close()\n",
    "sns.histplot(data=df_clipped, x=\"Loudness\", bins=50)\n",
    "plt.title(\"Distribution of Loudness\")\n",
    "plt.show()\n",
    "plt.close()\n",
    "sns.histplot(data=df_clipped, x=\"Duration_ms\", bins=50)\n",
    "plt.title(\"Distribution of Duration\")\n",
    "plt.show()\n",
    "plt.close()"
   ],
   "id": "48498ad3966ee2c1",
   "outputs": [],
   "execution_count": null
  },
  {
   "metadata": {},
   "cell_type": "markdown",
   "source": [
    "## Adding hue parameter to the histograms\n",
    "Distribution of streams with hue assigned to Album type category and a normalized version of it."
   ],
   "id": "ac769bdfbe656694"
  },
  {
   "metadata": {},
   "cell_type": "code",
   "source": [
    "sns.histplot(data=df_clipped, x=\"Stream\", hue=\"Album_type\", bins=50, multiple=\"stack\")\n",
    "plt.title(\"Distribution of Streams\")\n",
    "plt.show()\n",
    "plt.close()\n",
    "sns.histplot(data=df_clipped, x=\"Stream\", hue=\"Album_type\", bins=50, multiple=\"stack\", stat=\"density\",\n",
    "             common_norm=False)\n",
    "plt.title(\"Normalized distribution of Streams\")\n",
    "plt.show()\n",
    "plt.close()"
   ],
   "id": "38c34c47a6252cab",
   "outputs": [],
   "execution_count": null
  },
  {
   "metadata": {},
   "cell_type": "markdown",
   "source": "It is worth noting that in terms of YouTube performance, the type of album seems to be of no particular relation with the number of views, with each density being roughly equal in any of the buckets.",
   "id": "9076cd679bf4d588"
  },
  {
   "metadata": {},
   "cell_type": "code",
   "source": [
    "sns.histplot(data=df_clipped, x=\"Views\", hue=\"Album_type\", bins=50, multiple=\"stack\", stat=\"density\", common_norm=False)\n",
    "plt.title(\"Normalized distribution of Views\")\n",
    "plt.show()\n",
    "plt.close()"
   ],
   "id": "6379e89cf648e62a",
   "outputs": [],
   "execution_count": null
  },
  {
   "metadata": {},
   "cell_type": "markdown",
   "source": "##### Song key distribution",
   "id": "6e863767bf97e381"
  },
  {
   "metadata": {},
   "cell_type": "code",
   "source": [
    "sns.histplot(data=df_clipped, x=\"Key\", bins=50)\n",
    "plt.title(\"Distribution of Key\")\n",
    "plt.show()\n",
    "plt.close()\n",
    "sns.histplot(data=df_clipped, x=\"Key\", bins=50, hue=\"Album_type\", multiple=\"stack\", stat=\"density\", common_norm=False)\n",
    "plt.title(\"Normalized distribution of Key\")\n",
    "plt.show()\n",
    "plt.close()"
   ],
   "id": "71962c75490fab05",
   "outputs": [],
   "execution_count": null
  },
  {
   "metadata": {},
   "cell_type": "markdown",
   "source": "##### [Optional] Save distributions to a file",
   "id": "f8fa20cc2c408477"
  },
  {
   "metadata": {},
   "cell_type": "code",
   "source": [
    "sns.histplot(data=df_clipped, x=\"Views\", bins=50)\n",
    "plt.title(\"Distribution of Views\")\n",
    "save_plot(plt, \"histplot_views\")\n",
    "plt.close()\n",
    "sns.histplot(data=df_clipped, x=\"Stream\", bins=50)\n",
    "plt.title(\"Distribution of Streams\")\n",
    "save_plot(plt, \"histplot_streams\")\n",
    "plt.close()\n",
    "sns.histplot(data=df_clipped, x=\"Energy\", bins=50)\n",
    "plt.title(\"Distribution of Energy\")\n",
    "save_plot(plt, \"histplot_energy\")\n",
    "plt.close()\n",
    "sns.histplot(data=df_clipped, x=\"Speechiness\", bins=50)\n",
    "plt.title(\"Distribution of Speechiness\")\n",
    "save_plot(plt, \"histplot_speechiness\")\n",
    "plt.close()\n",
    "sns.histplot(data=df_clipped, x=\"Loudness\", bins=50)\n",
    "plt.title(\"Distribution of Loudness\")\n",
    "save_plot(plt, \"histplot_loudness\")\n",
    "plt.close()\n",
    "sns.histplot(data=df_clipped, x=\"Duration_ms\", bins=50)\n",
    "plt.title(\"Distribution of Duration\")\n",
    "save_plot(plt, \"histplot_duration\")\n",
    "plt.close()\n",
    "sns.histplot(data=df_clipped, x=\"Stream\", hue=\"Album_type\", bins=50, multiple=\"stack\")\n",
    "plt.title(\"Distribution of Streams\")\n",
    "save_plot(plt, \"histplot_streams_hue\")\n",
    "plt.close()\n",
    "sns.histplot(data=df_clipped, x=\"Stream\", hue=\"Album_type\", bins=50, multiple=\"stack\", stat=\"density\",\n",
    "             common_norm=False)\n",
    "plt.title(\"Normalized distribution of Streams\")\n",
    "save_plot(plt, \"histplot_streams_hue_normalized\")\n",
    "plt.close()\n",
    "sns.histplot(data=df_clipped, x=\"Views\", hue=\"Album_type\", bins=50, multiple=\"stack\", stat=\"density\", common_norm=False)\n",
    "plt.title(\"Normalized distribution of Views\")\n",
    "save_plot(plt, \"histplot_views_hue_normalized\")\n",
    "plt.close()\n",
    "sns.histplot(data=df_clipped, x=\"Key\", bins=50)\n",
    "plt.title(\"Distribution of Key\")\n",
    "save_plot(plt, \"histplot_key\")\n",
    "plt.close()\n",
    "sns.histplot(data=df_clipped, x=\"Key\", bins=50, hue=\"Album_type\", multiple=\"stack\", stat=\"density\", common_norm=False)\n",
    "plt.title(\"Normalized distribution of Key\")\n",
    "save_plot(plt, \"histplot_key_hue\")\n",
    "plt.close()"
   ],
   "id": "dd57014bd9bea218",
   "outputs": [],
   "execution_count": null
  },
  {
   "metadata": {},
   "cell_type": "markdown",
   "source": [
    "# 4. Correlation between data\n",
    "\n",
    "#### Data correlation heatmap"
   ],
   "id": "4406272d34d431d5"
  },
  {
   "metadata": {},
   "cell_type": "code",
   "source": [
    "plt.figure(figsize=(10, 10))\n",
    "sns.heatmap(df_clipped[NUMERIC_COLUMNS + CATEGORICAL_COLUMNS].corr(), annot=True, fmt=\".2f\", cmap=\"PiYG\",\n",
    "            annot_kws={\"size\": 10})\n",
    "plt.title(\"Data correlation heatmap\")\n",
    "plt.show()\n",
    "plt.close()"
   ],
   "id": "71fe386eb55a12a5",
   "outputs": [],
   "execution_count": null
  },
  {
   "metadata": {},
   "cell_type": "markdown",
   "source": "#### [Optional] Save heatmap to a file\n",
   "id": "b6db3054db1b5e2d"
  },
  {
   "metadata": {},
   "cell_type": "code",
   "source": [
    "plt.figure(figsize=(10, 10))\n",
    "sns.heatmap(df_clipped[NUMERIC_COLUMNS + CATEGORICAL_COLUMNS].corr(), annot=True, fmt=\".2f\", cmap=\"PiYG\",\n",
    "            annot_kws={\"size\": 10})\n",
    "plt.title(\"Data correlation heatmap\")\n",
    "save_plot(plt, \"correlation_heatmap\")\n",
    "plt.close()"
   ],
   "id": "b54f11c29ca3a982",
   "outputs": [],
   "execution_count": null
  },
  {
   "metadata": {},
   "cell_type": "markdown",
   "source": [
    "#### Reducing the number of metrics\n",
    "As seen from the correlation heatmap, likes, views, and comments are seemingly independent variables that share a high correlation of over 0.85. Additionally, they are all connected to video's performance on YouTube platform. As such, we can use PCA method to reduce them into fewer metrics, while trying to account for more than 90% of the variance.\n",
    "\n",
    "##### Choosing the number of principal components"
   ],
   "id": "393c1d880f1e75fd"
  },
  {
   "metadata": {},
   "cell_type": "code",
   "source": [
    "METRICS_TO_REDUCE = [\"Views\", \"Likes\", \"Comments\"]\n",
    "for metric in METRICS_TO_REDUCE:\n",
    "    NUMERIC_COLUMNS.remove(metric)\n",
    "\n",
    "scaler = StandardScaler()\n",
    "df_scaled = scaler.fit_transform(df_clipped[METRICS_TO_REDUCE])\n",
    "\n",
    "cov_matrix = np.cov(df_scaled, rowvar=False)\n",
    "e_values, e_vectors = np.linalg.eig(cov_matrix)\n",
    "\n",
    "idx = np.argsort(e_values)[::-1]\n",
    "e_values = e_values[idx]\n",
    "e_vectors = e_vectors[:, idx]\n",
    "explained_variance_ratio = e_values / np.sum(e_values)\n",
    "\n",
    "print(\"Eigenvalues:\\n\", e_values)\n",
    "print(\"Eigenvectors:\\n\", e_vectors)\n",
    "print(\"Explained Variance Ratios:\", explained_variance_ratio)\n",
    "\n",
    "number_of_components = 0\n",
    "total_ratio = 0\n",
    "for e_v,er in zip(e_values,explained_variance_ratio):\n",
    "    if e_v > 1 and total_ratio < 0.90:\n",
    "            number_of_components += 1\n",
    "print(f\"Number of components to keep: {number_of_components}\")\n"
   ],
   "id": "5762a72b2b9a461d",
   "outputs": [],
   "execution_count": null
  },
  {
   "metadata": {},
   "cell_type": "markdown",
   "source": "From the analysis, we can see that the first principal component has a variance ratio of over 94% and is the only one with an eigenvalue greater than 1. As such, we will use only one principal component to replace the three metrics. New metric name: \"YT_performance\" (YouTube performance).",
   "id": "fe9fb47ad55c3e"
  },
  {
   "metadata": {},
   "cell_type": "code",
   "source": [
    "NUMERIC_COLUMNS.append(\"YT_performance\")\n",
    "\n",
    "pca = PCA(n_components=1)\n",
    "principal_component = pca.fit_transform(df_scaled)\n",
    "df_clipped[\"YT_performance\"] = principal_component\n",
    "df[\"YT_performance\"] = principal_component\n",
    "df_clipped[NUMERIC_COLUMNS+CATEGORICAL_COLUMNS].head()"
   ],
   "id": "16e95ebc268244b0",
   "outputs": [],
   "execution_count": null
  },
  {
   "metadata": {},
   "cell_type": "markdown",
   "source": "Plotting the correlation heatmap again:",
   "id": "f6974754cc5df24e"
  },
  {
   "metadata": {},
   "cell_type": "code",
   "source": [
    "plt.figure(figsize=(10, 10))\n",
    "sns.heatmap(df_clipped[NUMERIC_COLUMNS + CATEGORICAL_COLUMNS].corr(), annot=True, fmt=\".2f\", cmap=\"PiYG\",\n",
    "            annot_kws={\"size\": 10})\n",
    "plt.title(\"Updated Data correlation heatmap\")\n",
    "plt.show()\n",
    "plt.close()"
   ],
   "id": "3331e55561a6f21",
   "outputs": [],
   "execution_count": null
  },
  {
   "metadata": {},
   "cell_type": "markdown",
   "source": "#### [Optional] Save the updated heatmap to a file",
   "id": "57f4e696caf9596f"
  },
  {
   "metadata": {},
   "cell_type": "code",
   "source": [
    "plt.figure(figsize=(10, 10))\n",
    "sns.heatmap(df_clipped[NUMERIC_COLUMNS + CATEGORICAL_COLUMNS].corr(), annot=True, fmt=\".2f\", cmap=\"PiYG\",\n",
    "            annot_kws={\"size\": 10})\n",
    "plt.title(\"Updated Data correlation heatmap\")\n",
    "save_plot(plt, \"correlation_heatmap_updated\")\n",
    "plt.close()"
   ],
   "id": "94d9615e908fdf63",
   "outputs": [],
   "execution_count": null
  },
  {
   "metadata": {},
   "cell_type": "markdown",
   "source": [
    "#### Correlation between chosen metrics\n",
    "Due to a large number of outliers, correlations will be presented using two regression models: OLS (Ordinary Least Squares) and RLM (Robust Linear Model) to reduce the influence of outliers on the results.\n",
    "\n",
    "##### Correlation between Spotify and YouTube performance"
   ],
   "id": "d74c1604ed009e26"
  },
  {
   "metadata": {},
   "cell_type": "code",
   "source": [
    "SY_ols = sm.OLS.from_formula(\"Stream ~ YT_performance\", data=df_clipped).fit()\n",
    "SY_rlm = sm.RLM.from_formula(\"Stream ~ YT_performance\", data=df_clipped).fit()\n",
    "plt.scatter(df_clipped[\"YT_performance\"], df_clipped[\"Stream\"], label=\"Data\", alpha=0.05)\n",
    "plt.plot(df_clipped[\"YT_performance\"], SY_rlm.fittedvalues, color=\"green\", label=\"Robust Fit\")\n",
    "plt.plot(df_clipped[\"YT_performance\"], SY_ols.fittedvalues, color=\"red\", label=\"OLS Fit\")\n",
    "pred_ols = SY_ols.get_prediction(df_clipped)\n",
    "SY_pl = pred_ols.summary_frame()[\"obs_ci_lower\"]\n",
    "SY_pu = pred_ols.summary_frame()[\"obs_ci_upper\"]\n",
    "plt.plot(df_clipped[\"YT_performance\"], SY_pu, \"r--\")\n",
    "plt.plot(df_clipped[\"YT_performance\"], SY_pl, \"r--\")\n",
    "plt.xlabel(\"YT_performance\")\n",
    "plt.ylabel(\"Streams\")\n",
    "plt.legend()\n",
    "plt.ylim(bottom=0)\n",
    "plt.show()\n",
    "plt.close()"
   ],
   "id": "d0872a4e2c06d722",
   "outputs": [],
   "execution_count": null
  },
  {
   "metadata": {},
   "cell_type": "markdown",
   "source": "##### Correlation between Valence and Danceability",
   "id": "cca5bfa2b15191aa"
  },
  {
   "metadata": {},
   "cell_type": "code",
   "source": [
    "VD_ols = sm.OLS.from_formula(\"Valence ~ Danceability\", data=df_clipped).fit()\n",
    "VD_rlm = sm.RLM.from_formula(\"Valence ~ Danceability\", data=df_clipped).fit()\n",
    "plt.scatter(df_clipped[\"Danceability\"], df_clipped[\"Valence\"], label=\"Data\", alpha=0.05)\n",
    "plt.plot(df_clipped[\"Danceability\"], VD_rlm.fittedvalues, color=\"green\", label=\"Robust Fit\")\n",
    "plt.plot(df_clipped[\"Danceability\"], VD_ols.fittedvalues, color=\"red\", label=\"OLS Fit\")\n",
    "pred_ols = VD_ols.get_prediction(df_clipped)\n",
    "VD_pl = pred_ols.summary_frame()[\"obs_ci_lower\"]\n",
    "VD_pu = pred_ols.summary_frame()[\"obs_ci_upper\"]\n",
    "plt.plot(df_clipped[\"Danceability\"], VD_pu, \"r--\")\n",
    "plt.plot(df_clipped[\"Danceability\"], VD_pl, \"r--\")\n",
    "plt.xlabel(\"Danceability\")\n",
    "plt.ylabel(\"Valence\")\n",
    "plt.ylim(0, 1.1)\n",
    "plt.legend()\n",
    "plt.show()\n",
    "plt.close()"
   ],
   "id": "507c992f25103c2c",
   "outputs": [],
   "execution_count": null
  },
  {
   "metadata": {},
   "cell_type": "markdown",
   "source": "##### Correlation between Energy and Loudness of a song\n",
   "id": "e22cc254da0722b5"
  },
  {
   "metadata": {},
   "cell_type": "code",
   "source": [
    "EL_ols = sm.OLS.from_formula(\"Energy ~ Loudness\", data=df_clipped).fit()\n",
    "EL_rlm = sm.RLM.from_formula(\"Energy ~ Loudness\", data=df_clipped).fit()\n",
    "plt.scatter(df_clipped[\"Loudness\"], df_clipped[\"Energy\"], label=\"Data\", alpha=0.05)\n",
    "plt.plot(df_clipped[\"Loudness\"], EL_rlm.fittedvalues, color=\"green\", label=\"Robust Fit\")\n",
    "plt.plot(df_clipped[\"Loudness\"], EL_ols.fittedvalues, color=\"red\", label=\"OLS Fit\")\n",
    "pred_ols = EL_ols.get_prediction(df_clipped)\n",
    "EL_pl = pred_ols.summary_frame()[\"obs_ci_lower\"]\n",
    "EL_pu = pred_ols.summary_frame()[\"obs_ci_upper\"]\n",
    "plt.plot(df_clipped[\"Loudness\"], EL_pu, \"r--\")\n",
    "plt.plot(df_clipped[\"Loudness\"], EL_pl, \"r--\")\n",
    "plt.xlabel(\"Loudness\")\n",
    "plt.ylabel(\"Energy\")\n",
    "plt.ylim(0, 1.1)\n",
    "plt.legend()\n",
    "plt.show()\n",
    "plt.close()"
   ],
   "id": "1b2dba4b8e1dd7f6",
   "outputs": [],
   "execution_count": null
  },
  {
   "metadata": {},
   "cell_type": "markdown",
   "source": "##### [Optional] Save plots to a file\n",
   "id": "5dab1b2bce182a54"
  },
  {
   "metadata": {},
   "cell_type": "code",
   "source": [
    "SY_ols = sm.OLS.from_formula(\"Stream ~ YT_performance\", data=df_clipped).fit()\n",
    "SY_rlm = sm.RLM.from_formula(\"Stream ~ YT_performance\", data=df_clipped).fit()\n",
    "plt.scatter(df_clipped[\"YT_performance\"], df_clipped[\"Stream\"], label=\"Data\", alpha=0.05)\n",
    "plt.plot(df_clipped[\"YT_performance\"], SY_rlm.fittedvalues, color=\"green\", label=\"Robust Fit\")\n",
    "plt.plot(df_clipped[\"YT_performance\"], SY_ols.fittedvalues, color=\"red\", label=\"OLS Fit\")\n",
    "pred_ols = SY_ols.get_prediction(df_clipped)\n",
    "SY_pl = pred_ols.summary_frame()[\"obs_ci_lower\"]\n",
    "SY_pu = pred_ols.summary_frame()[\"obs_ci_upper\"]\n",
    "plt.plot(df_clipped[\"YT_performance\"], SY_pu, \"r--\")\n",
    "plt.plot(df_clipped[\"YT_performance\"], SY_pl, \"r--\")\n",
    "plt.xlabel(\"YT_performance\")\n",
    "plt.ylabel(\"Streams\")\n",
    "plt.legend()\n",
    "plt.ylim(bottom=0)\n",
    "save_plot(plt, \"correlation_Spotify-YT_performance\")\n",
    "plt.close()\n",
    "VD_ols = sm.OLS.from_formula(\"Valence ~ Danceability\", data=df_clipped).fit()\n",
    "VD_rlm = sm.RLM.from_formula(\"Valence ~ Danceability\", data=df_clipped).fit()\n",
    "plt.scatter(df_clipped[\"Danceability\"], df_clipped[\"Valence\"], label=\"Data\", alpha=0.05)\n",
    "plt.plot(df_clipped[\"Danceability\"], VD_rlm.fittedvalues, color=\"green\", label=\"Robust Fit\")\n",
    "plt.plot(df_clipped[\"Danceability\"], VD_ols.fittedvalues, color=\"red\", label=\"OLS Fit\")\n",
    "pred_ols = VD_ols.get_prediction(df_clipped)\n",
    "VD_pl = pred_ols.summary_frame()[\"obs_ci_lower\"]\n",
    "VD_pu = pred_ols.summary_frame()[\"obs_ci_upper\"]\n",
    "plt.plot(df_clipped[\"Danceability\"], VD_pu, \"r--\")\n",
    "plt.plot(df_clipped[\"Danceability\"], VD_pl, \"r--\")\n",
    "plt.xlabel(\"Danceability\")\n",
    "plt.ylabel(\"Valence\")\n",
    "plt.ylim(0, 1.1)\n",
    "plt.legend()\n",
    "save_plot(plt, \"correlation_Valence-Danceability\")\n",
    "plt.close()\n",
    "EL_ols = sm.OLS.from_formula(\"Energy ~ Loudness\", data=df_clipped).fit()\n",
    "EL_rlm = sm.RLM.from_formula(\"Energy ~ Loudness\", data=df_clipped).fit()\n",
    "plt.scatter(df_clipped[\"Loudness\"], df_clipped[\"Energy\"], label=\"Data\", alpha=0.05)\n",
    "plt.plot(df_clipped[\"Loudness\"], EL_rlm.fittedvalues, color=\"green\", label=\"Robust Fit\")\n",
    "plt.plot(df_clipped[\"Loudness\"], EL_ols.fittedvalues, color=\"red\", label=\"OLS Fit\")\n",
    "pred_ols = EL_ols.get_prediction(df_clipped)\n",
    "EL_pl = pred_ols.summary_frame()[\"obs_ci_lower\"]\n",
    "EL_pu = pred_ols.summary_frame()[\"obs_ci_upper\"]\n",
    "plt.plot(df_clipped[\"Loudness\"], EL_pu, \"r--\")\n",
    "plt.plot(df_clipped[\"Loudness\"], EL_pl, \"r--\")\n",
    "plt.xlabel(\"Loudness\")\n",
    "plt.ylabel(\"Energy\")\n",
    "plt.ylim(0, 1.1)\n",
    "plt.legend()\n",
    "save_plot(plt, \"correlation_Energy-Loudness\")\n",
    "plt.close()"
   ],
   "id": "ab81e303fbec5f6c",
   "outputs": [],
   "execution_count": null
  },
  {
   "metadata": {},
   "cell_type": "markdown",
   "source": [
    "### Comparison between song metrics and their performance, based on the results from top artists\n",
    "Visualizing the correlation between song metric and their performance base only on the top 100 artists according to the cumulative performance metric equal to `0.7 * standarized_streams + 0.3 * standarized_YT_performance`\n",
    "\n",
    "##### Find the top 100 artists from the unclipped, original dataset\n",
    "Creating a new metric first:"
   ],
   "id": "8a515c6e4b7c5509"
  },
  {
   "metadata": {},
   "cell_type": "code",
   "source": [
    "df_top_artists = df.copy()\n",
    "scaler = StandardScaler()\n",
    "df_top_artists[\"YT_performance\"] = scaler.fit_transform(df_top_artists[[\"YT_performance\"]])\n",
    "df_top_artists[\"Stream\"] = scaler.fit_transform(df_top_artists[[\"Stream\"]])\n",
    "df_top_artists[\"Performance\"] = 0.7 * df_top_artists[\"Stream\"] + 0.3 * df_top_artists[\"YT_performance\"]\n",
    "df_top_artists.drop(columns=[\"YT_performance\", \"Stream\"], inplace=True)\n",
    "TOP_ARTISTS_NUMERIC_COLUMNS = NUMERIC_COLUMNS.copy()\n",
    "TOP_ARTISTS_NUMERIC_COLUMNS.remove(\"YT_performance\")\n",
    "TOP_ARTISTS_NUMERIC_COLUMNS.remove(\"Stream\")\n",
    "TOP_ARTISTS_NUMERIC_COLUMNS.append(\"Performance\")\n",
    "df_top_artists.head()"
   ],
   "id": "9563604791deef0e",
   "outputs": [],
   "execution_count": null
  },
  {
   "metadata": {},
   "cell_type": "markdown",
   "source": "Finding the top 100. Results from all songs for each artist will be summed together, with negative performance of a song also impacting the outcome:",
   "id": "7a69560fe7d97b14"
  },
  {
   "metadata": {},
   "cell_type": "code",
   "source": [
    "artist_performance: dict[str, int] = {}\n",
    "for artist in df_top_artists[\"Artist\"].unique():\n",
    "    artist_performance[artist] = sum(df_top_artists[df_top_artists[\"Artist\"] == artist][\"Performance\"])\n",
    "sorted_performance = sorted(artist_performance.items(), key=lambda x: x[1], reverse=True)\n",
    "sorted_performance = sorted_performance[:100]\n",
    "df_artist_performance = pd.DataFrame(sorted_performance, columns=[\"Artist\", \"Performance\"])\n",
    "df_artist_performance.head(100)"
   ],
   "id": "2478472f03bcfe1e",
   "outputs": [],
   "execution_count": null
  },
  {
   "metadata": {},
   "cell_type": "code",
   "source": [
    "plt.figure(figsize=(15, 18))\n",
    "sns.scatterplot(x=\"Performance\", y=\"Artist\", data=df_artist_performance)\n",
    "for i in range(len(df_artist_performance)):\n",
    "    plt.text(\n",
    "        x=df_artist_performance[\"Performance\"][i]+ 0.5,\n",
    "        y=i,\n",
    "        s=df_artist_performance[\"Artist\"][i],\n",
    "        fontsize=6,\n",
    "        color=\"black\"\n",
    "    )\n",
    "plt.title(\"Top 100 artists by Performance metric\")\n",
    "plt.show()\n",
    "plt.close()"
   ],
   "id": "999d3626d6c569d1",
   "outputs": [],
   "execution_count": null
  },
  {
   "metadata": {},
   "cell_type": "markdown",
   "source": "As seen below, there are slight differences when compared to the previous heatmap, most notable lying in the relation of Performance to other numeric metrics",
   "id": "4817fb3c2e427e9f"
  },
  {
   "metadata": {},
   "cell_type": "code",
   "source": [
    "plt.figure(figsize=(10, 10))\n",
    "sns.heatmap(df_top_artists[TOP_ARTISTS_NUMERIC_COLUMNS + CATEGORICAL_COLUMNS].corr(), annot=True, fmt=\".2f\", cmap=\"PiYG\",\n",
    "            annot_kws={\"size\": 10})\n",
    "plt.title(\"Top artists data correlation heatmap\")\n",
    "plt.show()\n",
    "plt.close()"
   ],
   "id": "817fd92b19e07625",
   "outputs": [],
   "execution_count": null
  },
  {
   "metadata": {},
   "cell_type": "markdown",
   "source": "##### [Optional] Save plots to a file",
   "id": "b21256f94c994b41"
  },
  {
   "metadata": {},
   "cell_type": "code",
   "source": [
    "plt.figure(figsize=(15, 18))\n",
    "sns.scatterplot(x=\"Performance\", y=\"Artist\", data=df_artist_performance)\n",
    "for i in range(len(df_artist_performance)):\n",
    "    plt.text(\n",
    "        x=df_artist_performance[\"Performance\"][i]+ 0.5,\n",
    "        y=i,\n",
    "        s=df_artist_performance[\"Artist\"][i],\n",
    "        fontsize=6,\n",
    "        color=\"black\"\n",
    "    )\n",
    "plt.title(\"Top 100 artists by Performance metric\")\n",
    "save_plot(plt, \"top_artists_performance\")\n",
    "plt.close()\n",
    "plt.figure(figsize=(10, 10))\n",
    "sns.heatmap(df_top_artists[TOP_ARTISTS_NUMERIC_COLUMNS + CATEGORICAL_COLUMNS].corr(), annot=True, fmt=\".2f\", cmap=\"PiYG\",\n",
    "            annot_kws={\"size\": 10})\n",
    "plt.title(\"Top artists data correlation heatmap\")\n",
    "save_plot(plt, \"top_artists_correlation_heatmap\")\n",
    "plt.close()"
   ],
   "id": "3a75fa965f9f075d",
   "outputs": [],
   "execution_count": null
  }
 ],
 "metadata": {
  "kernelspec": {
   "display_name": "Python 3",
   "language": "python",
   "name": "python3"
  },
  "language_info": {
   "codemirror_mode": {
    "name": "ipython",
    "version": 2
   },
   "file_extension": ".py",
   "mimetype": "text/x-python",
   "name": "python",
   "nbconvert_exporter": "python",
   "pygments_lexer": "ipython2",
   "version": "2.7.6"
  }
 },
 "nbformat": 4,
 "nbformat_minor": 5
}
